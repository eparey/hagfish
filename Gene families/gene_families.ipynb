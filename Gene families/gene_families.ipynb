{
 "cells": [
  {
   "cell_type": "code",
   "execution_count": 3,
   "metadata": {
    "tags": []
   },
   "outputs": [],
   "source": [
    "from collections import defaultdict\n",
    "from collections import Counter\n",
    "from ete3 import PhyloTree\n",
    "import numpy as np\n",
    "from tqdm import tqdm\n",
    "import scipy.stats as stats\n",
    "from statsmodels.stats.multitest import multipletests\n",
    "import time\n",
    "import csv\n",
    "import copy\n",
    "import pandas as pd\n",
    "from glob import glob\n",
    "from itertools import combinations"
   ]
  },
  {
   "cell_type": "code",
   "execution_count": 4,
   "metadata": {
    "tags": []
   },
   "outputs": [],
   "source": [
    "from ete3 import Tree"
   ]
  },
  {
   "cell_type": "markdown",
   "metadata": {},
   "source": [
    "Load gene families"
   ]
  },
  {
   "cell_type": "code",
   "execution_count": 5,
   "metadata": {
    "tags": []
   },
   "outputs": [],
   "source": [
    "Fams,species={},[]\n",
    "for line in open('../gene_family_ressource/orthologous_groups.txt'):\n",
    "    if line.startswith(\"#\"): continue\n",
    "    fid,glt=line.strip().split('\\t',1)\n",
    "    gbs=defaultdict(list)\n",
    "    for g in glt.split():\n",
    "        spc,gid=g.split('_',1)\n",
    "        gbs[spc].append(gid)\n",
    "    species.extend(gbs.keys())\n",
    "    Fams[fid]=gbs\n",
    "        #if i==5: break\n",
    "species=list(set(species))"
   ]
  },
  {
   "cell_type": "code",
   "execution_count": 12,
   "metadata": {},
   "outputs": [
    {
     "name": "stdout",
     "output_type": "stream",
     "text": [
      "('OG_1', defaultdict(<class 'list'>, {'Bralan': ['BL09207'], 'Strpur': ['LOC591688'], 'Brabel': ['204820R'], 'Braflo': ['BF14516'], 'Danrer': ['ENSDARG00000038505'], 'Sackow': ['Sakowv30028108m'], 'Orylat': ['ENSORLG00000023347'], 'Xentro': ['polr2h'], 'Parata': ['EA33602'], 'Chipun': ['Chipu0001179'], 'Musmus': ['ENSMUSG00000021018'], 'Homsap': ['ENSG00000163882'], 'Petmar': ['POLR2H'], 'Letrei': ['Hic_chr_27_270', 'Hic_chr_27_271'], 'Lepocu': ['ENSLOCG00000008946'], 'Latcha': ['ENSLACG00000015017'], 'Acapla': ['LOC110983881'], 'Calmil': ['SINCAMG00000007000'], 'Galgal': ['ENSGALG00000008534'], 'Letjap': ['g12991']}))\n",
      "22691\n",
      "['Acapla', 'Brabel', 'Braflo', 'Bralan', 'Calmil', 'Chipun', 'Danrer', 'Eptbur', 'Galgal', 'Homsap', 'Latcha', 'Lepocu', 'Letjap', 'Letrei', 'Musmus', 'Orylat', 'Parata', 'Petmar', 'Ptyfla', 'Sackow', 'Strpur', 'Xentro']\n"
     ]
    }
   ],
   "source": [
    "print(list(Fams.items())[0])\n",
    "print(len(Fams))\n",
    "print(sorted(species))"
   ]
  },
  {
   "cell_type": "markdown",
   "metadata": {},
   "source": [
    "Creates non-redundant species set"
   ]
  },
  {
   "cell_type": "code",
   "execution_count": 76,
   "metadata": {},
   "outputs": [
    {
     "name": "stdout",
     "output_type": "stream",
     "text": [
      "defaultdict(<class 'list'>, {'Strpur': ['LOC105440589'], 'Acapla': ['LOC110984772']})\n"
     ]
    }
   ],
   "source": [
    "print(Fams['OG_22003'])"
   ]
  },
  {
   "cell_type": "markdown",
   "metadata": {},
   "source": [
    "Load species tree"
   ]
  },
  {
   "cell_type": "code",
   "execution_count": 9,
   "metadata": {
    "tags": []
   },
   "outputs": [],
   "source": [
    "spT=PhyloTree(open('deut2.tre').read(), format=1)"
   ]
  },
  {
   "cell_type": "code",
   "execution_count": null,
   "metadata": {},
   "outputs": [],
   "source": [
    "['Strpur','Acapla','Sackow','Ptyfla']"
   ]
  },
  {
   "cell_type": "code",
   "execution_count": 16,
   "metadata": {},
   "outputs": [
    {
     "name": "stdout",
     "output_type": "stream",
     "text": [
      "\n",
      "         /-Strpur\n",
      "      /-|\n",
      "     |   \\-Acapla\n",
      "   /-|\n",
      "  |  |   /-Sackow\n",
      "  |   \\-|\n",
      "  |      \\-Ptyfla\n",
      "  |\n",
      "  |      /-Brabel\n",
      "--|   /-|\n",
      "  |  |  |   /-Braflo\n",
      "  |  |   \\-|\n",
      "  |  |      \\-Bralan\n",
      "  |  |\n",
      "  |  |            /-Letjap\n",
      "  |  |         /-|\n",
      "   \\-|      /-|   \\-Letrei\n",
      "     |     |  |\n",
      "     |   /-|   \\-Petmar\n",
      "     |  |  |\n",
      "     |  |  |   /-Parata\n",
      "     |  |   \\-|\n",
      "     |  |      \\-Eptbur\n",
      "      \\-|\n",
      "        |      /-Calmil\n",
      "        |   /-|\n",
      "        |  |   \\-Chipun\n",
      "        |  |\n",
      "        |  |         /-Lepocu\n",
      "         \\-|      /-|\n",
      "           |     |   \\-Amical\n",
      "           |   /-|\n",
      "           |  |  |   /-Danrer\n",
      "           |  |   \\-|\n",
      "            \\-|      \\-Orylat\n",
      "              |\n",
      "              |   /-Latcha\n",
      "               \\-|\n",
      "                 |   /-Xentro\n",
      "                  \\-|\n",
      "                    |   /-Galgal\n",
      "                     \\-|\n",
      "                       |   /-Homsap\n",
      "                        \\-|\n",
      "                           \\-Musmus\n"
     ]
    }
   ],
   "source": [
    "print(spT)"
   ]
  },
  {
   "cell_type": "markdown",
   "metadata": {},
   "source": [
    "### Determine phylostrata of  genes "
   ]
  },
  {
   "cell_type": "code",
   "execution_count": 7,
   "metadata": {},
   "outputs": [
    {
     "name": "stdout",
     "output_type": "stream",
     "text": [
      "defaultdict(<class 'list'>, {'Bralan': ['BL14681'], 'Strpur': ['LOC575087'], 'Ptyfla': ['pfl_40v0_9_20150316_1g2352'], 'Brabel': ['142360R'], 'Braflo': ['BF05005'], 'Danrer': ['ENSDARG00000102643'], 'Sackow': ['Sakowv30013968m'], 'Eptbur': ['Eptbu0013095'], 'Orylat': ['ENSORLG00000015261'], 'Xentro': ['chmp1a'], 'Parata': ['EA65120'], 'Chipun': ['Chipu0006856'], 'Musmus': ['ENSMUSG00000000743'], 'Homsap': ['ENSG00000131165'], 'Petmar': ['CHMP1A'], 'Letrei': ['Hic_chr_52_117'], 'Lepocu': ['ENSLOCG00000003012'], 'Latcha': ['ENSLACG00000014862'], 'Acapla': ['LOC110975658'], 'Calmil': ['SINCAMG00000003614'], 'Galgal': ['ENSGALG00000006161'], 'Letjap': ['g15058']})\n"
     ]
    }
   ],
   "source": [
    "print(Fams['OG_171'])"
   ]
  },
  {
   "cell_type": "code",
   "execution_count": 8,
   "metadata": {},
   "outputs": [],
   "source": [
    "PhyloSt=defaultdict(int)\n",
    "g2f={}\n",
    "genephylo={}\n",
    "tor=defaultdict(int)\n",
    "size=[]\n",
    "for fid in Fams:\n",
    "    gbs=Fams[fid]\n",
    "    spset=[s for s,gbs in gbs.items() if len(gbs)>0]\n",
    "    phtyp=spT.get_common_ancestor(spset) if len(spset)>1 else spT.search_nodes(name=spset[0])\n",
    "    #print(fid,len(phtyp))\n",
    "    tor[phtyp.name]+=1\n",
    "    size.append(len(spset))\n",
    "    for g in gbs['Parata']:\n",
    "        PhyloSt[phtyp.name]+=1\n",
    "        genephylo[g]=phtyp.name\n",
    "        g2f[g]=fid\n",
    "        "
   ]
  },
  {
   "cell_type": "code",
   "execution_count": 16,
   "metadata": {},
   "outputs": [],
   "source": [
    "with open('gene_strata.txt','w') as out:\n",
    "    for g,s in genephylo.items():\n",
    "        out.write(\"{}\\t{}\\n\".format(g,s))"
   ]
  },
  {
   "cell_type": "code",
   "execution_count": 9,
   "metadata": {},
   "outputs": [
    {
     "name": "stdout",
     "output_type": "stream",
     "text": [
      "defaultdict(<class 'int'>, {'Deuterostomia': 17189, 'Chordata': 513, 'Vertebrata': 1338, 'Myxines': 3263, 'Cyclostomata': 464}) 22767\n"
     ]
    }
   ],
   "source": [
    "print(PhyloSt,sum(PhyloSt.values()))"
   ]
  },
  {
   "cell_type": "code",
   "execution_count": 10,
   "metadata": {},
   "outputs": [
    {
     "data": {
      "text/plain": [
       "Counter({20: 1378,\n",
       "         22: 2389,\n",
       "         16: 324,\n",
       "         21: 2560,\n",
       "         15: 415,\n",
       "         18: 573,\n",
       "         5: 625,\n",
       "         7: 629,\n",
       "         19: 812,\n",
       "         3: 2947,\n",
       "         2: 6112,\n",
       "         8: 304,\n",
       "         6: 432,\n",
       "         12: 269,\n",
       "         11: 241,\n",
       "         4: 786,\n",
       "         10: 511,\n",
       "         13: 277,\n",
       "         14: 353,\n",
       "         17: 431,\n",
       "         9: 323})"
      ]
     },
     "execution_count": 10,
     "metadata": {},
     "output_type": "execute_result"
    }
   ],
   "source": [
    "Counter(size)"
   ]
  },
  {
   "cell_type": "markdown",
   "metadata": {},
   "source": [
    "## PANTHER"
   ]
  },
  {
   "cell_type": "code",
   "execution_count": 15,
   "metadata": {},
   "outputs": [],
   "source": [
    "Pthr=defaultdict(dict)\n",
    "for fp in glob(\"panthers/*.pthr\"):\n",
    "    sp=fp.split('/')[1].replace('.pthr','')\n",
    "    pps=defaultdict(list)\n",
    "    for r in csv.reader(open(fp),delimiter='\\t'):\n",
    "        #print(r)\n",
    "        pps[r[1]].append(r[0].split('_',1)[1])\n",
    "        #print(pps)\n",
    "        #break\n",
    "    for pth in pps:\n",
    "        #pthr[pth]\n",
    "        Pthr[pth][sp]=pps[pth]\n",
    "        \n",
    "    #print(list(pps.items())[0])\n",
    "    #print(sp)"
   ]
  },
  {
   "cell_type": "code",
   "execution_count": 18,
   "metadata": {},
   "outputs": [],
   "source": [
    "origins=defaultdict(int)\n",
    "losses=defaultdict(int)\n",
    "idGainLoss={}\n",
    "for fam in Pthr.items():\n",
    "    fid,nspec,ndesc,oritax,lost=checkFam(fam,spT)\n",
    "    idGainLoss[fid]=(nspec,ndesc,oritax,lost)\n",
    "    origins[oritax]+=1\n",
    "    for tax in lost:\n",
    "        losses[tax]+=1\n",
    "        "
   ]
  },
  {
   "cell_type": "code",
   "execution_count": 10,
   "metadata": {},
   "outputs": [],
   "source": [
    "spTi=copy.deepcopy(spT)\n",
    "for node in spTi.traverse(\"postorder\"):\n",
    "    #print node.name,origins[node.name],losses[node.name]\n",
    "    #node.add_features(origins=origins[node.name],losses=losses[node.name])\n",
    "    node.name=\"{0}_{1}_{2}\".format(node.name,origins[node.name],losses[node.name])"
   ]
  },
  {
   "cell_type": "code",
   "execution_count": 28,
   "metadata": {},
   "outputs": [],
   "source": [
    "spTl=copy.deepcopy(spT)\n",
    "for node in spTl.traverse(\"postorder\"):\n",
    "    #print node.name,origins[node.name],losses[node.name]\n",
    "    #node.add_features(origins=origins[node.name],losses=losses[node.name])\n",
    "    if not node.is_leaf():\n",
    "        node.name=\"{0}\".format(losses[node.name])\n"
   ]
  },
  {
   "cell_type": "code",
   "execution_count": 63,
   "metadata": {},
   "outputs": [],
   "source": [
    "PthNms={}\n",
    "for r in csv.reader(open('/Users/fmarletaz/Dropbox (UCL)/Genomes/Hagfish/Hagfish_genome/gene_family_1/panther.names.tab'),delimiter='\\t'):\n",
    "    pth=r[0].replace('.mod','').replace('.mag','').replace('.',':')\n",
    "    pnm=r[1][0]+r[1][1:].lower()\n",
    "    PthNms[pth]=pnm"
   ]
  },
  {
   "cell_type": "code",
   "execution_count": 65,
   "metadata": {},
   "outputs": [],
   "source": [
    "igl=[[s,len(sum(list(Pthr[s].values()),[])),v[0],v[1],v[2],','.join(v[3]),PthNms.get(s,'Not found')] for s,v in idGainLoss.items()]"
   ]
  },
  {
   "cell_type": "code",
   "execution_count": 66,
   "metadata": {},
   "outputs": [],
   "source": [
    "fidGL=pd.DataFrame(igl, columns = ['FID', 'NbGenes','NbSpecies','NbDesc','Strata','Losses','Panther Name'])  "
   ]
  },
  {
   "cell_type": "code",
   "execution_count": 68,
   "metadata": {},
   "outputs": [],
   "source": [
    "fidGL.to_csv(\"Panther_GainLoss.tsv\",index=False,sep='\\t')"
   ]
  },
  {
   "cell_type": "code",
   "execution_count": 20,
   "metadata": {},
   "outputs": [
    {
     "name": "stdout",
     "output_type": "stream",
     "text": [
      "\n",
      "          /-Strpur\n",
      "      /3202\n",
      "     |    \\-Acapla\n",
      "   /0|\n",
      "  |  |    /-Sackow\n",
      "  |   \\1790\n",
      "  |       \\-Ptyfla\n",
      "  |\n",
      "  |       /-Brabel\n",
      "-0|   /2976\n",
      "  |  |   |   /-Braflo\n",
      "  |  |    \\705\n",
      "  |  |       \\-Bralan\n",
      "  |  |\n",
      "  |  |                /-Letjap\n",
      "  |  |            /1147\n",
      "   \\0|        /2485   \\-Letrei\n",
      "     |       |   |\n",
      "     |    /2196   \\-Petmar\n",
      "     |   |   |\n",
      "     |   |   |    /-Parata\n",
      "     |   |    \\3844\n",
      "     |   |        \\-Eptbur\n",
      "      \\1881\n",
      "         |        /-Calmil\n",
      "         |    /3169\n",
      "         |   |    \\-Chipun\n",
      "         |   |\n",
      "         |   |           /-Lepocu\n",
      "          \\1679      /2649\n",
      "             |      |    \\-Amical\n",
      "             |   /2549\n",
      "             |  |   |   /-Danrer\n",
      "             |  |    \\932\n",
      "              \\796      \\-Orylat\n",
      "                |\n",
      "                |    /-Latcha\n",
      "                 \\1423\n",
      "                    |   /-Xentro\n",
      "                     \\795\n",
      "                       |    /-Galgal\n",
      "                        \\1322\n",
      "                           |    /-Homsap\n",
      "                            \\1072\n",
      "                                \\-Musmus\n"
     ]
    }
   ],
   "source": [
    "print(spTl.get_ascii(show_internal=True))"
   ]
  },
  {
   "cell_type": "code",
   "execution_count": null,
   "metadata": {},
   "outputs": [],
   "source": [
    "print(spTi.get_ascii(show_internal=True))"
   ]
  },
  {
   "cell_type": "code",
   "execution_count": 29,
   "metadata": {},
   "outputs": [
    {
     "name": "stdout",
     "output_type": "stream",
     "text": [
      "(((Strpur:1,Acapla:1)3202:1,(Sackow:1,Ptyfla:1)1790:1)0:1,((Brabel:1,(Braflo:1,Bralan:1)705:1)2976:1,((((Letjap:1,Letrei:1)1147:1,Petmar:1)2485:1,(Parata:1,Eptbur:1)3844:1)2196:1,((Calmil:1,Chipun:1)3169:1,(((Lepocu:1,Amical:1)2649:1,(Danrer:1,Orylat:1)932:1)2549:1,(Latcha:1,(Xentro:1,(Galgal:1,(Homsap:1,Musmus:1)1072:1)1322:1)795:1)1423:1)796:1)1679:1)1881:1)0:1);\n"
     ]
    }
   ],
   "source": [
    "print(spTl.write(format=1))"
   ]
  },
  {
   "cell_type": "code",
   "execution_count": 21,
   "metadata": {},
   "outputs": [
    {
     "name": "stdout",
     "output_type": "stream",
     "text": [
      "PTHR19346:SF2 {'Eptbur': ['Eptbu0029334', 'Eptbu0019791'], 'Lepocu': ['ENSLOCG00000011125'], 'Petmar': ['LOC116947717', 'SLC35F3', 'SLC35F4'], 'Musmus': ['ENSMUSG00000021852'], 'Homsap': ['ENSG00000151812'], 'Galgal': ['ENSGALG00000012094'], 'Letjap': ['g17577', 'g4205', 'g8559', 'g31672', 'g26173'], 'Chipun': ['Chipu0019746', 'Chipu0002082', 'Chipu0033669'], 'Xentro': ['slc35f4-like'], 'Letrei': ['Hic_chr_14_141', 'Hic_chr_41_266'], 'Calmil': ['SINCAMG00000016050', 'SINCAMG00000016049'], 'Latcha': ['ENSLACG00000018940'], 'Parata': ['EA55570', 'EA58774'], 'Danrer': ['ENSDARG00000077622', 'ENSDARG00000103124']}\n"
     ]
    }
   ],
   "source": [
    "for pth in pthr:\n",
    "    print(pth,pthr[pth])\n",
    "    break"
   ]
  },
  {
   "cell_type": "markdown",
   "metadata": {},
   "source": [
    "## Testing family expansions"
   ]
  },
  {
   "cell_type": "code",
   "execution_count": 15,
   "metadata": {},
   "outputs": [],
   "source": [
    "#only testing species expansion\n",
    "def fishExp(gbs,tbs):\n",
    "    cbs=dict((sp,len(gs)) for sp,gs in gbs.items())\n",
    "    med=np.median(list(cbs.values()))\n",
    "    #print(cbs,med)\n",
    "    spval={}\n",
    "    for sp,st in cbs.items():\n",
    "        nis=sum(cbs.values())-st\n",
    "        nit=sum(tbs.values())-tbs[sp]-sum(cbs.values())+st\n",
    "        odds,pval=stats.fisher_exact([[st, tbs[sp]-st], [nis, nit]],alternative='greater')\n",
    "        nmed=np.median([cbs[ssp] for ssp in cbs if not ssp==sp])\n",
    "        tmed=np.median([tbs[ssp] for ssp in tbs if not ssp==sp])\n",
    "        m_odds,m_pval=stats.fisher_exact([[st, tbs[sp]-st], [nmed, tmed]],alternative='greater')\n",
    "        #print(sp,pval,[st, tbs[sp]-st], [nis, nit],m_pval,[st, tbs[sp]-st], [nmed, tmed])\n",
    "        spval[sp]=(cbs[sp],m_pval)\n",
    "\n",
    "    return spval"
   ]
  },
  {
   "cell_type": "markdown",
   "metadata": {},
   "source": [
    "calculate number of genes per species"
   ]
  },
  {
   "cell_type": "code",
   "execution_count": 16,
   "metadata": {},
   "outputs": [],
   "source": [
    "tbs=defaultdict(int)\n",
    "for fid,gbs in Fams.items():\n",
    "    for sp in gbs:\n",
    "        tbs[sp]+=len(gbs[sp])"
   ]
  },
  {
   "cell_type": "code",
   "execution_count": 17,
   "metadata": {},
   "outputs": [
    {
     "name": "stderr",
     "output_type": "stream",
     "text": [
      "100%|██████████| 22691/22691 [02:05<00:00, 180.52it/s]\n"
     ]
    }
   ],
   "source": [
    "toosmall=0\n",
    "expRes=[]\n",
    "for fid,gbs in tqdm(Fams.items()):\n",
    "    cbs=dict((sp,len(gs)) for sp,gs in gbs.items())\n",
    "    if len(cbs.keys())<3 or sum(cbs.values())<5:\n",
    "        toosmall+=1\n",
    "        continue\n",
    "    try:\n",
    "        spval=fishExp(gbs,tbs)\n",
    "        expRes.append((fid,spval))\n",
    "    except:\n",
    "        print(fid,cbs)"
   ]
  },
  {
   "cell_type": "code",
   "execution_count": 21,
   "metadata": {},
   "outputs": [
    {
     "name": "stdout",
     "output_type": "stream",
     "text": [
      "22691 14513 8178\n"
     ]
    }
   ],
   "source": [
    "print(len(Fams),len(expRes),toosmall)"
   ]
  },
  {
   "cell_type": "code",
   "execution_count": 22,
   "metadata": {},
   "outputs": [],
   "source": [
    "spFam,spPval=defaultdict(list),defaultdict(list)\n",
    "for fid,spval in expRes:\n",
    "    for sp in spval:\n",
    "        ct,pval=spval[sp]\n",
    "        spFam[sp].append(fid)                     \n",
    "        spPval[sp].append(pval)"
   ]
  },
  {
   "cell_type": "code",
   "execution_count": 23,
   "metadata": {},
   "outputs": [
    {
     "name": "stdout",
     "output_type": "stream",
     "text": [
      "Bralan Counter({False: 10623, True: 93})\n",
      "Strpur Counter({False: 9314, True: 127})\n",
      "Brabel Counter({False: 10511, True: 64})\n",
      "Braflo Counter({False: 10247, True: 69})\n",
      "Danrer Counter({False: 10770, True: 29})\n",
      "Sackow Counter({False: 9868, True: 107})\n",
      "Orylat Counter({False: 10502, True: 20})\n",
      "Xentro Counter({False: 10632, True: 55})\n",
      "Parata Counter({False: 14478, True: 35})\n",
      "Chipun Counter({False: 10874, True: 6})\n",
      "Musmus Counter({False: 10903, True: 32})\n",
      "Homsap Counter({False: 10896, True: 17})\n",
      "Petmar Counter({False: 9551, True: 11})\n",
      "Letrei Counter({False: 5411, True: 43})\n",
      "Lepocu Counter({False: 10755, True: 8})\n",
      "Latcha Counter({False: 10597, True: 17})\n",
      "Acapla Counter({False: 9401, True: 43})\n",
      "Calmil Counter({False: 10356, True: 11})\n",
      "Galgal Counter({False: 10015, True: 20})\n",
      "Letjap Counter({False: 9558, True: 15})\n",
      "Ptyfla Counter({False: 8612, True: 153})\n",
      "Eptbur Counter({False: 8931, True: 50})\n"
     ]
    }
   ],
   "source": [
    "famEnrich=defaultdict(dict)\n",
    "for sp in spPval:\n",
    "    #signif_pvals = sidak(spPval[sp], alpha=0.05)\n",
    "    #before_adj=['True' if p < 0.05  else 'False' for p in spPval[sp] ]\n",
    "    #1signif_pvals = lsu(np.array(spPval[sp]), q=0.05) #this is benferroni-hochberg\n",
    "    adj=multipletests(pvals=np.array(spPval[sp]), alpha=0.05, method=\"fdr_bh\")\n",
    "    print (sp,Counter(adj[0]))\n",
    "    for fam,pth,pval in zip(spFam[sp],adj[0],adj[1]):\n",
    "        famEnrich[fam][sp]=(pth,pval)\n",
    "        \n"
   ]
  },
  {
   "cell_type": "code",
   "execution_count": null,
   "metadata": {},
   "outputs": [],
   "source": [
    "for g in Fams['OG_191']['Parata']:\n",
    "    print(g,Panther.get(g))"
   ]
  },
  {
   "cell_type": "code",
   "execution_count": 23,
   "metadata": {},
   "outputs": [],
   "source": [
    "HsaNames={e[0]:e[1] for e in csv.reader(open('Hsa_mart_info.txt'),delimiter='\\t')}"
   ]
  },
  {
   "cell_type": "code",
   "execution_count": 24,
   "metadata": {},
   "outputs": [],
   "source": [
    "Panther={e[0]:e[1].split(':')[0] for e in csv.reader(open('Pata_pep.pthr'),delimiter='\\t')}"
   ]
  },
  {
   "cell_type": "code",
   "execution_count": null,
   "metadata": {},
   "outputs": [],
   "source": [
    "print(Panther)"
   ]
  },
  {
   "cell_type": "code",
   "execution_count": 25,
   "metadata": {},
   "outputs": [],
   "source": [
    "Names={e[13]:e[12] for e in csv.reader(open('/Users/fmarletaz/Dropbox/Genomes/Hagfish/Hagfish_data_rename/Pata_MYAQb_rnm_ah2p.bed'),delimiter='\\t')}"
   ]
  },
  {
   "cell_type": "code",
   "execution_count": 26,
   "metadata": {},
   "outputs": [],
   "source": [
    "Pfam={}\n",
    "for l in open('Pata_ah2p.pfam'):\n",
    "    if not l.strip(): continue\n",
    "    e=l.split()\n",
    "    #print(e)\n",
    "    Pfam[e[0]]=e[5].split('.')"
   ]
  },
  {
   "cell_type": "code",
   "execution_count": 27,
   "metadata": {},
   "outputs": [],
   "source": [
    "panthNames={}\n",
    "for e in csv.reader(open('panther.names.tab'),delimiter='\\t'):\n",
    "    pth=e[0].split('.')[0]\n",
    "    if not pth in panthNames:\n",
    "        panthNames[pth]=e[1][0]+e[1][1:].lower()"
   ]
  },
  {
   "cell_type": "code",
   "execution_count": 56,
   "metadata": {},
   "outputs": [],
   "source": [
    "enrList=[]\n",
    "for fid,gbs in Fams.items():\n",
    "    cbs=dict((sp,len(gs)) for sp,gs in gbs.items())\n",
    "    pvl=famEnrich[fid]\n",
    "    plnm=[Names.get(g,'-') for g in gbs.get('Parata',[])]\n",
    "    plnm=[d for d in plnm if not d.startswith('unchar') and not d=='-']\n",
    "        #print(plnm)\n",
    "    hsnm=[HsaNames[g] for g in gbs.get('Homsap',[]) if g in HsaNames]\n",
    "    pfam=set(list(sum([Pfam[g] for g in gbs.get('Parata',[]) if g in Pfam],[])))\n",
    "    #print(pfam)\n",
    "    panther=set([Panther[g] for g in gbs.get('Parata',[]) if g in Panther])\n",
    "    pthNames=set([panthNames.get(p,'') for p in panther]) \n",
    "    enriched= [(s,p[1]) for s,p in pvl.items() if p[0]==True]\n",
    "    if len(enriched)==0:\n",
    "        continue\n",
    "    #print(enriched)\n",
    "    outList=[fid,len(cbs),sum(cbs.values()),np.median(list(cbs.values())),','.join([s for s,p in enriched]),\n",
    "            ','.join([str(cbs[s]) for s,p in enriched]),','.join(plnm),\n",
    "             ','.join(hsnm),','.join(['\\'{}\\''.format(g) for g in gbs['Parata']]),','.join(set(panther)),','.join(pthNames),','.join(set(pfam)),','.join(['{:.2e}'.format(float(p)) for s,p in enriched])]\n",
    "    enrList.append(outList)  \n",
    "        \n",
    "    "
   ]
  },
  {
   "cell_type": "code",
   "execution_count": 33,
   "metadata": {},
   "outputs": [
    {
     "name": "stdout",
     "output_type": "stream",
     "text": [
      "set()\n"
     ]
    }
   ],
   "source": [
    "print(pfam)"
   ]
  },
  {
   "cell_type": "code",
   "execution_count": 57,
   "metadata": {},
   "outputs": [],
   "source": [
    "enrichPD=pd.DataFrame(enrList, columns = ['FID', 'NbSp','NbGenes','MedGeneNb','Enriched','NbEnriched','Pliv_names','Hsa_names','Pliv_id','Panther','PthrNames','PFAM','pvals'])  "
   ]
  },
  {
   "cell_type": "code",
   "execution_count": 13,
   "metadata": {
    "tags": []
   },
   "outputs": [
    {
     "ename": "NameError",
     "evalue": "name 'enrichPD' is not defined",
     "output_type": "error",
     "traceback": [
      "\u001b[0;31m---------------------------------------------------------------------------\u001b[0m",
      "\u001b[0;31mNameError\u001b[0m                                 Traceback (most recent call last)",
      "Cell \u001b[0;32mIn[13], line 1\u001b[0m\n\u001b[0;32m----> 1\u001b[0m \u001b[43menrichPD\u001b[49m[enrichPD\u001b[38;5;241m.\u001b[39mEnriched\u001b[38;5;241m.\u001b[39mstr\u001b[38;5;241m.\u001b[39mcontains(\u001b[38;5;124m'\u001b[39m\u001b[38;5;124mParata\u001b[39m\u001b[38;5;124m'\u001b[39m)]\u001b[38;5;241m.\u001b[39mto_csv(\u001b[38;5;124m'\u001b[39m\u001b[38;5;124menriched_in_Parata.txt\u001b[39m\u001b[38;5;124m'\u001b[39m,sep\u001b[38;5;241m=\u001b[39m\u001b[38;5;124m'\u001b[39m\u001b[38;5;130;01m\\t\u001b[39;00m\u001b[38;5;124m'\u001b[39m)\n",
      "\u001b[0;31mNameError\u001b[0m: name 'enrichPD' is not defined"
     ]
    }
   ],
   "source": [
    "enrichPD[enrichPD.Enriched.str.contains('Parata')].to_csv('enriched_in_Parata.txt',sep='\\t')"
   ]
  },
  {
   "cell_type": "code",
   "execution_count": null,
   "metadata": {},
   "outputs": [],
   "source": [
    "enrichPD[enrichPD.Enriched.str.contains('Parata')]"
   ]
  },
  {
   "cell_type": "markdown",
   "metadata": {},
   "source": [
    "## Gain and losses"
   ]
  },
  {
   "cell_type": "code",
   "execution_count": 16,
   "metadata": {
    "tags": []
   },
   "outputs": [],
   "source": [
    "from tqdm import tqdm"
   ]
  },
  {
   "cell_type": "code",
   "execution_count": 6,
   "metadata": {
    "tags": []
   },
   "outputs": [],
   "source": [
    "def checkFam(fam,spTd):\n",
    "    fid,gbs=fam\n",
    "    spset=[s for s,gbs in gbs.items() if len(gbs)>0]\n",
    "\n",
    "    #print(phtyp.name)\n",
    "    #phyloCt[phtyp.name]+=1\n",
    "    #gbs[Ai]\n",
    "    #spTp=copy.deepcopy(spTd)\n",
    "    for leaf in spTd:\n",
    "        pv='1' if leaf.name in gbs else '0'\n",
    "        leaf.add_features(presence=pv)\n",
    "    phtyp=spTd.get_common_ancestor(spset) if len(spset)>1 else spT.search_nodes(name=spset[0])[0]\n",
    "    ndesc=len([l.name for l in phtyp.get_leaves()])\n",
    "    lost=[node.name  for node in phtyp.get_monophyletic(values=['0'], target_attr=\"presence\")]\n",
    "    #print spTd.get_ascii(attributes=[\"name\",\"presence\"], show_internal=True)\n",
    "    #for node in spTd.get_monophyletic(values=['0'], target_attr=\"presence\"):\n",
    "    #    print node.name\n",
    "    #    print node.get_ascii(attributes=[\"presence\", \"name\"], show_internal=False)\n",
    "    return fid,len(gbs.keys()),ndesc,phtyp.name,lost\n",
    "\n"
   ]
  },
  {
   "cell_type": "code",
   "execution_count": 4,
   "metadata": {
    "tags": []
   },
   "outputs": [],
   "source": [
    "def checkFamCounts(fam,spTd):\n",
    "    fid,cbs=fam\n",
    "    spset=[s for s,n in cbs.items() if n>0]\n",
    "    if len(spset)>1:\n",
    "        phtyp=spT.get_common_ancestor(spset)\n",
    "    else:\n",
    "        phtyp=[l for l in spT.get_leaves() if l.name==spset[0]][0]\n",
    "    #print phtyp.name\n",
    "    #phyloCt[phtyp.name]+=1\n",
    "    #gbs[Ai]\n",
    "    ndesc=len([l.name for l in phtyp.get_leaves()])\n",
    "    for leaf in spTd:\n",
    "        pv='1' if leaf.name in spset else '0'\n",
    "        leaf.add_features(presence=pv)\n",
    "    lost=[node.name  for node in phtyp.get_monophyletic(values=['0'], target_attr=\"presence\")]\n",
    "    #print spTd.get_ascii(attributes=[\"name\",\"presence\"], show_internal=True)\n",
    "    #for node in spTd.get_monophyletic(values=['0'], target_attr=\"presence\"):\n",
    "    #    print node.name\n",
    "    #    print node.get_ascii(attributes=[\"presence\", \"name\"], show_internal=False)\n",
    "    return fid,len(spset),ndesc,phtyp.name,lost\n",
    "\n",
    "\n"
   ]
  },
  {
   "cell_type": "code",
   "execution_count": null,
   "metadata": {
    "tags": []
   },
   "outputs": [],
   "source": [
    "checkFam(list(Fams.items())[555],spT)"
   ]
  },
  {
   "cell_type": "code",
   "execution_count": 89,
   "metadata": {},
   "outputs": [
    {
     "name": "stdout",
     "output_type": "stream",
     "text": [
      "('OG_559', defaultdict(<class 'list'>, {'Linana': ['LANA25934'], 'Bralan': ['BL04443'], 'Strpur': ['LOC592736'], 'Parliv': ['PL21635'], 'Braflo': ['BL153011'], 'Sackow': ['Sakowv30029968m'], 'Lytvar': ['L_var_26160-RA'], 'Homsap': ['ENSG00000163291'], 'Patyes': ['PY_T06293'], 'Apojap': ['BSL78_00950'], 'Limpol': ['XP_013789801', 'XP_013790183'], 'Captel': ['CapteG138960'], 'Patmin': ['PMI_028803-RA', 'PMI_014526-RA'], 'Lepocu': ['ENSLOCG00000007313'], 'Acapla': ['LOC110976640'], 'Calmil': ['SINCAMG00000004329', 'SINCAMG00000015047'], 'Lotgig': ['LotgiG144778'], 'Molocc': ['g07092'], 'Nemvec': ['NEMVEDRAFT_v1g227246'], 'Tricas': ['TC000446'], 'Dromel': ['FBgn0038256'], 'Cioint': ['ENSCING00000018091', 'ENSCING00000019528'], 'Annjap': ['LOC117103605'], 'Astrub': ['AR14388'], 'Ptyfla': ['pfl_40v0_9_20150316_1g11072']}))\n"
     ]
    }
   ],
   "source": [
    "print(list(Fams.items())[555])"
   ]
  },
  {
   "cell_type": "code",
   "execution_count": 99,
   "metadata": {},
   "outputs": [
    {
     "name": "stdout",
     "output_type": "stream",
     "text": [
      "defaultdict(<class 'list'>, {'Strpur': ['LOC105440589'], 'Acapla': ['LOC110984772']})\n"
     ]
    }
   ],
   "source": [
    "print(Fams['OG_22003'])"
   ]
  },
  {
   "cell_type": "code",
   "execution_count": null,
   "metadata": {
    "tags": []
   },
   "outputs": [],
   "source": [
    "origins=defaultdict(int)\n",
    "losses=defaultdict(int)\n",
    "idGainLoss={}\n",
    "for fam in tqdm(Fams.items()):\n",
    "    fid,nspec,ndesc,oritax,lost=checkFam(fam,spT)\n",
    "    idGainLoss[fid]=(nspec,ndesc,oritax,lost)\n",
    "    origins[oritax]+=1\n",
    "    for tax in lost:\n",
    "        losses[tax]+=1\n",
    "        "
   ]
  },
  {
   "cell_type": "code",
   "execution_count": 25,
   "metadata": {
    "tags": []
   },
   "outputs": [],
   "source": [
    "losses['Letrei']=495"
   ]
  },
  {
   "cell_type": "code",
   "execution_count": 26,
   "metadata": {
    "tags": []
   },
   "outputs": [
    {
     "name": "stdout",
     "output_type": "stream",
     "text": [
      "defaultdict(<class 'int'>, {'Ptyfla': 1873, 'Eptbur': 414, 'Amical': 10961, 'Sackow': 666, 'Xentro': 901, 'Letrei': 495, 'Galgal': 1253, 'Cyclostomata': 836, 'Holostei': 779, 'Braflo': 1029, 'Homsap': 144, 'Echinodermata': 1055, 'Parata': 489, 'Calmil': 1141, 'Vertebrata': 1120, 'Orylat': 671, 'Brabel': 479, 'Chondrichthyes': 719, 'Sarcopterygia': 296, 'Letjap': 274, 'Latcha': 1245, 'Acapla': 523, 'Hyperoartia': 630, 'Myxines': 1415, 'Strpur': 555, 'Hemichordata': 467, 'Osteichthyes': 278, 'Petmar': 887, 'Gnathostomata': 374, 'Tetrapoda': 291, 'Chipun': 410, 'Euteleostei': 376, 'Mammalia': 268, 'Cephalochordata': 694, 'Leth': 447, 'Actinopterygii': 617, 'Danrer': 388, 'Musmus': 109, 'Amniotes': 403, 'Ceph2': 129, 'Bralan': 414})\n"
     ]
    }
   ],
   "source": [
    "print(losses)"
   ]
  },
  {
   "cell_type": "code",
   "execution_count": 30,
   "metadata": {
    "tags": []
   },
   "outputs": [],
   "source": [
    "spTi=copy.deepcopy(spT)\n",
    "for n in spTi.traverse(\"postorder\"):\n",
    "    nm=n.name\n",
    "    n.dist=\"{}\".format(origins[nm]/sum(origins.values()))\n",
    "    #print node.name,origins[node.name],losses[node.name]\n",
    "    if not n.is_leaf():\n",
    "        n.name=\"{}\".format(origins[nm])\n",
    "    #n.add_features(origins=origins[node.name],losses=losses[node.name])\n",
    "    #node.name=\"{0}_{1}_{2}_{3}\".format(node.name,origins[node.name],losses[node.name],totdups[node.name])"
   ]
  },
  {
   "cell_type": "code",
   "execution_count": null,
   "metadata": {},
   "outputs": [],
   "source": [
    "spTi=copy.deepcopy(spT)\n",
    "for n in spTi.traverse(\"postorder\"):\n",
    "    nm=n.name\n",
    "    n.dist=\"{}\".format(losses[nm]/sum(losses.values()))\n",
    "    #print node.name,origins[node.name],losses[node.name]\n",
    "    if not n.is_leaf():\n",
    "        n.name=\"{}\".format(losses[nm])\n",
    "    #n.add_features(origins=origins[node.name],losses=losses[node.name])\n",
    "    #node.name=\"{0}_{1}_{2}_{3}\".format(node.name,origins[node.name],losses[node.name],totdups[node.name])"
   ]
  },
  {
   "cell_type": "code",
   "execution_count": null,
   "metadata": {},
   "outputs": [],
   "source": [
    "spTd=deepcopy(RTL.spTree)\n",
    "for l in spTd.traverse(\"postorder\"):\n",
    "    nm=l.name\n",
    "    l.dist=\"{}\".format(dupsCt[nm]/sum(dupsCt.values()))\n",
    "    if not l.is_leaf():\n",
    "        l.name=\"{}\".format(dupsCt[nm])"
   ]
  },
  {
   "cell_type": "code",
   "execution_count": null,
   "metadata": {
    "tags": []
   },
   "outputs": [],
   "source": [
    "print(spTi)"
   ]
  },
  {
   "cell_type": "code",
   "execution_count": 121,
   "metadata": {},
   "outputs": [],
   "source": [
    "spTi=copy.deepcopy(spT)\n",
    "for node in spTi.traverse(\"postorder\"):\n",
    "    #print node.name,origins[node.name],losses[node.name]\n",
    "    #node.add_features(origins=origins[node.name],losses=losses[node.name])\n",
    "    node.name=\"{0}_{1}_{2}_{3}\".format(node.name,origins[node.name],losses[node.name],totdups[node.name])"
   ]
  },
  {
   "cell_type": "code",
   "execution_count": null,
   "metadata": {},
   "outputs": [],
   "source": []
  },
  {
   "cell_type": "code",
   "execution_count": 31,
   "metadata": {
    "tags": []
   },
   "outputs": [
    {
     "name": "stdout",
     "output_type": "stream",
     "text": [
      "(((Strpur:0,Acapla:0)197:0.00868186,(Sackow:0,Ptyfla:0)630:0.0277643)380:0.0167467,((Brabel:0,(Braflo:0,Bralan:0)352:0.0155128)2518:0.110969,((((Letjap:0,Letrei:0)274:0.0120753,Petmar:0)605:0.0266626,(Parata:0,Eptbur:0)2288:0.100833)416:0.0183333,((Calmil:0,Chipun:0)68:0.00299678,(((Lepocu:0,Amical:0)0:0,(Danrer:0,Orylat:0)109:0.00480367)110:0.00484774,(Latcha:0,(Xentro:0,(Galgal:0,(Homsap:0,Musmus:0)547:0.0241065)60:0.00264422)73:0.00321713)45:0.00198317)213:0.00938698)1122:0.0494469)1310:0.0577321)551:0.0242828);\n"
     ]
    }
   ],
   "source": [
    "print(spTi.write(format=1))"
   ]
  },
  {
   "cell_type": "code",
   "execution_count": null,
   "metadata": {},
   "outputs": [],
   "source": [
    "print(spTi.get_ascii(show_internal=True))"
   ]
  },
  {
   "cell_type": "code",
   "execution_count": 19,
   "metadata": {},
   "outputs": [],
   "source": [
    "igl=[[s,len(sum(list(Fams[s].values()),[])),v[0],v[1],v[2],','.join(v[3])] for s,v in idGainLoss.items()]"
   ]
  },
  {
   "cell_type": "code",
   "execution_count": 20,
   "metadata": {},
   "outputs": [],
   "source": [
    "fidGL=pd.DataFrame(igl, columns = ['FID', 'NbGenes','NbSpecies','NbDesc','Strata','Losses'])  "
   ]
  },
  {
   "cell_type": "code",
   "execution_count": 21,
   "metadata": {},
   "outputs": [
    {
     "data": {
      "text/html": [
       "<div>\n",
       "<style scoped>\n",
       "    .dataframe tbody tr th:only-of-type {\n",
       "        vertical-align: middle;\n",
       "    }\n",
       "\n",
       "    .dataframe tbody tr th {\n",
       "        vertical-align: top;\n",
       "    }\n",
       "\n",
       "    .dataframe thead th {\n",
       "        text-align: right;\n",
       "    }\n",
       "</style>\n",
       "<table border=\"1\" class=\"dataframe\">\n",
       "  <thead>\n",
       "    <tr style=\"text-align: right;\">\n",
       "      <th></th>\n",
       "      <th>FID</th>\n",
       "      <th>NbGenes</th>\n",
       "      <th>NbSpecies</th>\n",
       "      <th>NbDesc</th>\n",
       "      <th>Strata</th>\n",
       "      <th>Losses</th>\n",
       "    </tr>\n",
       "  </thead>\n",
       "  <tbody>\n",
       "    <tr>\n",
       "      <th>0</th>\n",
       "      <td>OG_1</td>\n",
       "      <td>21</td>\n",
       "      <td>20</td>\n",
       "      <td>23</td>\n",
       "      <td>Deuterostomia</td>\n",
       "      <td>Ptyfla,Eptbur,Amical</td>\n",
       "    </tr>\n",
       "    <tr>\n",
       "      <th>1</th>\n",
       "      <td>OG_2</td>\n",
       "      <td>23</td>\n",
       "      <td>22</td>\n",
       "      <td>23</td>\n",
       "      <td>Deuterostomia</td>\n",
       "      <td>Amical</td>\n",
       "    </tr>\n",
       "    <tr>\n",
       "      <th>2</th>\n",
       "      <td>OG_3</td>\n",
       "      <td>20</td>\n",
       "      <td>20</td>\n",
       "      <td>23</td>\n",
       "      <td>Deuterostomia</td>\n",
       "      <td>Sackow,Amical,Xentro</td>\n",
       "    </tr>\n",
       "    <tr>\n",
       "      <th>3</th>\n",
       "      <td>OG_4</td>\n",
       "      <td>31</td>\n",
       "      <td>20</td>\n",
       "      <td>23</td>\n",
       "      <td>Deuterostomia</td>\n",
       "      <td>Letrei,Amical,Galgal</td>\n",
       "    </tr>\n",
       "    <tr>\n",
       "      <th>4</th>\n",
       "      <td>OG_5</td>\n",
       "      <td>20</td>\n",
       "      <td>16</td>\n",
       "      <td>23</td>\n",
       "      <td>Deuterostomia</td>\n",
       "      <td>Cyclostomata,Holostei</td>\n",
       "    </tr>\n",
       "    <tr>\n",
       "      <th>...</th>\n",
       "      <td>...</td>\n",
       "      <td>...</td>\n",
       "      <td>...</td>\n",
       "      <td>...</td>\n",
       "      <td>...</td>\n",
       "      <td>...</td>\n",
       "    </tr>\n",
       "    <tr>\n",
       "      <th>22686</th>\n",
       "      <td>OG_22687</td>\n",
       "      <td>2</td>\n",
       "      <td>2</td>\n",
       "      <td>2</td>\n",
       "      <td>Myxines</td>\n",
       "      <td></td>\n",
       "    </tr>\n",
       "    <tr>\n",
       "      <th>22687</th>\n",
       "      <td>OG_22688</td>\n",
       "      <td>2</td>\n",
       "      <td>2</td>\n",
       "      <td>2</td>\n",
       "      <td>Myxines</td>\n",
       "      <td></td>\n",
       "    </tr>\n",
       "    <tr>\n",
       "      <th>22688</th>\n",
       "      <td>OG_22689</td>\n",
       "      <td>2</td>\n",
       "      <td>2</td>\n",
       "      <td>2</td>\n",
       "      <td>Myxines</td>\n",
       "      <td></td>\n",
       "    </tr>\n",
       "    <tr>\n",
       "      <th>22689</th>\n",
       "      <td>OG_22690</td>\n",
       "      <td>2</td>\n",
       "      <td>2</td>\n",
       "      <td>2</td>\n",
       "      <td>Myxines</td>\n",
       "      <td></td>\n",
       "    </tr>\n",
       "    <tr>\n",
       "      <th>22690</th>\n",
       "      <td>OG_22691</td>\n",
       "      <td>2</td>\n",
       "      <td>2</td>\n",
       "      <td>19</td>\n",
       "      <td>Chordata</td>\n",
       "      <td>Brabel,Braflo,Cyclostomata,Chondrichthyes,Amic...</td>\n",
       "    </tr>\n",
       "  </tbody>\n",
       "</table>\n",
       "<p>22691 rows × 6 columns</p>\n",
       "</div>"
      ],
      "text/plain": [
       "            FID  NbGenes  NbSpecies  NbDesc         Strata  \\\n",
       "0          OG_1       21         20      23  Deuterostomia   \n",
       "1          OG_2       23         22      23  Deuterostomia   \n",
       "2          OG_3       20         20      23  Deuterostomia   \n",
       "3          OG_4       31         20      23  Deuterostomia   \n",
       "4          OG_5       20         16      23  Deuterostomia   \n",
       "...         ...      ...        ...     ...            ...   \n",
       "22686  OG_22687        2          2       2        Myxines   \n",
       "22687  OG_22688        2          2       2        Myxines   \n",
       "22688  OG_22689        2          2       2        Myxines   \n",
       "22689  OG_22690        2          2       2        Myxines   \n",
       "22690  OG_22691        2          2      19       Chordata   \n",
       "\n",
       "                                                  Losses  \n",
       "0                                   Ptyfla,Eptbur,Amical  \n",
       "1                                                 Amical  \n",
       "2                                   Sackow,Amical,Xentro  \n",
       "3                                   Letrei,Amical,Galgal  \n",
       "4                                  Cyclostomata,Holostei  \n",
       "...                                                  ...  \n",
       "22686                                                     \n",
       "22687                                                     \n",
       "22688                                                     \n",
       "22689                                                     \n",
       "22690  Brabel,Braflo,Cyclostomata,Chondrichthyes,Amic...  \n",
       "\n",
       "[22691 rows x 6 columns]"
      ]
     },
     "execution_count": 21,
     "metadata": {},
     "output_type": "execute_result"
    }
   ],
   "source": [
    "fidGL"
   ]
  },
  {
   "cell_type": "code",
   "execution_count": 28,
   "metadata": {},
   "outputs": [],
   "source": [
    "plnp={fid:','.join([Names[g] for g in gbs.get('Parata',[]) if g in Names]) for fid,gbs in Fams.items()}"
   ]
  },
  {
   "cell_type": "code",
   "execution_count": 39,
   "metadata": {},
   "outputs": [],
   "source": [
    "xtid={fid:','.join([g for g in gbs.get('Xentro',[])]) for fid,gbs in Fams.items()}"
   ]
  },
  {
   "cell_type": "code",
   "execution_count": 40,
   "metadata": {},
   "outputs": [],
   "source": [
    "loid={fid:','.join([g for g in gbs.get('Lepocu',[])]) for fid,gbs in Fams.items()}"
   ]
  },
  {
   "cell_type": "code",
   "execution_count": 60,
   "metadata": {},
   "outputs": [],
   "source": [
    "pmid={fid:','.join([g for g in gbs.get('Petmar',[])]) for fid,gbs in Fams.items()}"
   ]
  },
  {
   "cell_type": "code",
   "execution_count": 30,
   "metadata": {},
   "outputs": [],
   "source": [
    "hsnm={fid:','.join([HsaNames.get(g,'-') for g in gbs.get('Homsap',[])]) for fid,gbs in Fams.items()}"
   ]
  },
  {
   "cell_type": "code",
   "execution_count": 31,
   "metadata": {},
   "outputs": [],
   "source": [
    "panth={fid:','.join(set([Panther.get(g,'') for g in gbs.get('Parata',[])])) for fid,gbs in Fams.items()}"
   ]
  },
  {
   "cell_type": "code",
   "execution_count": 32,
   "metadata": {},
   "outputs": [
    {
     "name": "stdout",
     "output_type": "stream",
     "text": [
      "('OG_1', 'PTHR10917')\n"
     ]
    }
   ],
   "source": [
    "print(list(panth.items())[0])"
   ]
  },
  {
   "cell_type": "code",
   "execution_count": 38,
   "metadata": {},
   "outputs": [
    {
     "data": {
      "text/plain": [
       "[]"
      ]
     },
     "execution_count": 38,
     "metadata": {},
     "output_type": "execute_result"
    }
   ],
   "source": [
    "sum([Panther.get('PL40550',['-']) for g in gbs.get('Parliv',[])],[])"
   ]
  },
  {
   "cell_type": "code",
   "execution_count": null,
   "metadata": {},
   "outputs": [],
   "source": [
    "pfam={fid:','.join(set(sum([Pfam.get(g,['-']) for g in gbs.get('Parata',[])],[]))) for fid,gbs in Fams.items()}"
   ]
  },
  {
   "cell_type": "code",
   "execution_count": 96,
   "metadata": {},
   "outputs": [
    {
     "data": {
      "text/plain": [
       "36"
      ]
     },
     "execution_count": 96,
     "metadata": {},
     "output_type": "execute_result"
    }
   ],
   "source": [
    "len(sum(list(Fams['OG_1'].values()),[]))"
   ]
  },
  {
   "cell_type": "code",
   "execution_count": null,
   "metadata": {},
   "outputs": [],
   "source": [
    "print(pfam)"
   ]
  },
  {
   "cell_type": "code",
   "execution_count": 33,
   "metadata": {},
   "outputs": [],
   "source": [
    "fidGL['Eata_names']=fidGL['FID'].map(plnp) "
   ]
  },
  {
   "cell_type": "code",
   "execution_count": 34,
   "metadata": {},
   "outputs": [],
   "source": [
    "fidGL['Hsa_names']=fidGL['FID'].map(hsnm) "
   ]
  },
  {
   "cell_type": "code",
   "execution_count": 61,
   "metadata": {},
   "outputs": [],
   "source": [
    "fidGL['Pma_ids']=fidGL['FID'].map(pmid) "
   ]
  },
  {
   "cell_type": "code",
   "execution_count": 35,
   "metadata": {},
   "outputs": [],
   "source": [
    "fidGL['gids']=fidGL['FID'].map(plid) "
   ]
  },
  {
   "cell_type": "code",
   "execution_count": 41,
   "metadata": {},
   "outputs": [],
   "source": [
    "fidGL['Gar_ids']=fidGL['FID'].map(loid) "
   ]
  },
  {
   "cell_type": "code",
   "execution_count": 42,
   "metadata": {},
   "outputs": [],
   "source": [
    "fidGL['Frog_ids']=fidGL['FID'].map(xtid) "
   ]
  },
  {
   "cell_type": "code",
   "execution_count": null,
   "metadata": {},
   "outputs": [],
   "source": [
    "fidGL['Pmar_ids']=fidGL['FID'].map(xtid) "
   ]
  },
  {
   "cell_type": "code",
   "execution_count": 113,
   "metadata": {},
   "outputs": [],
   "source": [
    "fidGL['Duplications']=fidGL['FID'].map(dupNodes) "
   ]
  },
  {
   "cell_type": "code",
   "execution_count": 36,
   "metadata": {},
   "outputs": [],
   "source": [
    "fidGL['Panther']=fidGL['FID'].map(panth) "
   ]
  },
  {
   "cell_type": "code",
   "execution_count": null,
   "metadata": {},
   "outputs": [],
   "source": [
    "fidGL['PFAM']=fidGL['FID'].map(pfam) "
   ]
  },
  {
   "cell_type": "code",
   "execution_count": 43,
   "metadata": {},
   "outputs": [
    {
     "data": {
      "text/html": [
       "<div>\n",
       "<style scoped>\n",
       "    .dataframe tbody tr th:only-of-type {\n",
       "        vertical-align: middle;\n",
       "    }\n",
       "\n",
       "    .dataframe tbody tr th {\n",
       "        vertical-align: top;\n",
       "    }\n",
       "\n",
       "    .dataframe thead th {\n",
       "        text-align: right;\n",
       "    }\n",
       "</style>\n",
       "<table border=\"1\" class=\"dataframe\">\n",
       "  <thead>\n",
       "    <tr style=\"text-align: right;\">\n",
       "      <th></th>\n",
       "      <th>FID</th>\n",
       "      <th>NbGenes</th>\n",
       "      <th>NbSpecies</th>\n",
       "      <th>NbDesc</th>\n",
       "      <th>Strata</th>\n",
       "      <th>Losses</th>\n",
       "      <th>Eata_names</th>\n",
       "      <th>Hsa_names</th>\n",
       "      <th>gids</th>\n",
       "      <th>Panther</th>\n",
       "      <th>Gar_ids</th>\n",
       "      <th>Frog_ids</th>\n",
       "    </tr>\n",
       "  </thead>\n",
       "  <tbody>\n",
       "    <tr>\n",
       "      <th>0</th>\n",
       "      <td>OG_1</td>\n",
       "      <td>21</td>\n",
       "      <td>20</td>\n",
       "      <td>23</td>\n",
       "      <td>Deuterostomia</td>\n",
       "      <td>Ptyfla,Eptbur,Amical</td>\n",
       "      <td>POLR2H</td>\n",
       "      <td>POLR2H</td>\n",
       "      <td>EA33602</td>\n",
       "      <td>PTHR10917</td>\n",
       "      <td>ENSLOCG00000008946</td>\n",
       "      <td>polr2h</td>\n",
       "    </tr>\n",
       "    <tr>\n",
       "      <th>1</th>\n",
       "      <td>OG_2</td>\n",
       "      <td>23</td>\n",
       "      <td>22</td>\n",
       "      <td>23</td>\n",
       "      <td>Deuterostomia</td>\n",
       "      <td>Amical</td>\n",
       "      <td>COPB1-1</td>\n",
       "      <td>COPB1</td>\n",
       "      <td>EA45752</td>\n",
       "      <td>PTHR10635</td>\n",
       "      <td>ENSLOCG00000003198</td>\n",
       "      <td>copb1</td>\n",
       "    </tr>\n",
       "    <tr>\n",
       "      <th>2</th>\n",
       "      <td>OG_3</td>\n",
       "      <td>20</td>\n",
       "      <td>20</td>\n",
       "      <td>23</td>\n",
       "      <td>Deuterostomia</td>\n",
       "      <td>Sackow,Amical,Xentro</td>\n",
       "      <td>YIPF4</td>\n",
       "      <td>YIPF4</td>\n",
       "      <td>EA48129</td>\n",
       "      <td>PTHR21236</td>\n",
       "      <td>ENSLOCG00000016640</td>\n",
       "      <td></td>\n",
       "    </tr>\n",
       "    <tr>\n",
       "      <th>3</th>\n",
       "      <td>OG_4</td>\n",
       "      <td>31</td>\n",
       "      <td>20</td>\n",
       "      <td>23</td>\n",
       "      <td>Deuterostomia</td>\n",
       "      <td>Letrei,Amical,Galgal</td>\n",
       "      <td>SYMPK-2,SYMPK-3,SYMPK-1,SYMPK-4</td>\n",
       "      <td>SYMPK</td>\n",
       "      <td>EA59309,EA59730,EA58135,EA60811</td>\n",
       "      <td>PTHR15245</td>\n",
       "      <td>ENSLOCG00000014229,ENSLOCG00000014228</td>\n",
       "      <td>sympk</td>\n",
       "    </tr>\n",
       "    <tr>\n",
       "      <th>4</th>\n",
       "      <td>OG_5</td>\n",
       "      <td>20</td>\n",
       "      <td>16</td>\n",
       "      <td>23</td>\n",
       "      <td>Deuterostomia</td>\n",
       "      <td>Cyclostomata,Holostei</td>\n",
       "      <td></td>\n",
       "      <td>SYNJ2BP-COX16,SYNJ2BP</td>\n",
       "      <td></td>\n",
       "      <td></td>\n",
       "      <td></td>\n",
       "      <td>synj2bp</td>\n",
       "    </tr>\n",
       "    <tr>\n",
       "      <th>...</th>\n",
       "      <td>...</td>\n",
       "      <td>...</td>\n",
       "      <td>...</td>\n",
       "      <td>...</td>\n",
       "      <td>...</td>\n",
       "      <td>...</td>\n",
       "      <td>...</td>\n",
       "      <td>...</td>\n",
       "      <td>...</td>\n",
       "      <td>...</td>\n",
       "      <td>...</td>\n",
       "      <td>...</td>\n",
       "    </tr>\n",
       "    <tr>\n",
       "      <th>22686</th>\n",
       "      <td>OG_22687</td>\n",
       "      <td>2</td>\n",
       "      <td>2</td>\n",
       "      <td>2</td>\n",
       "      <td>Myxines</td>\n",
       "      <td></td>\n",
       "      <td>Unchar_15816</td>\n",
       "      <td></td>\n",
       "      <td>EA60352</td>\n",
       "      <td></td>\n",
       "      <td></td>\n",
       "      <td></td>\n",
       "    </tr>\n",
       "    <tr>\n",
       "      <th>22687</th>\n",
       "      <td>OG_22688</td>\n",
       "      <td>2</td>\n",
       "      <td>2</td>\n",
       "      <td>2</td>\n",
       "      <td>Myxines</td>\n",
       "      <td></td>\n",
       "      <td>Unchar_18929</td>\n",
       "      <td></td>\n",
       "      <td>EA72657</td>\n",
       "      <td></td>\n",
       "      <td></td>\n",
       "      <td></td>\n",
       "    </tr>\n",
       "    <tr>\n",
       "      <th>22688</th>\n",
       "      <td>OG_22689</td>\n",
       "      <td>2</td>\n",
       "      <td>2</td>\n",
       "      <td>2</td>\n",
       "      <td>Myxines</td>\n",
       "      <td></td>\n",
       "      <td>Unchar_13670</td>\n",
       "      <td></td>\n",
       "      <td>EA52681</td>\n",
       "      <td></td>\n",
       "      <td></td>\n",
       "      <td></td>\n",
       "    </tr>\n",
       "    <tr>\n",
       "      <th>22689</th>\n",
       "      <td>OG_22690</td>\n",
       "      <td>2</td>\n",
       "      <td>2</td>\n",
       "      <td>2</td>\n",
       "      <td>Myxines</td>\n",
       "      <td></td>\n",
       "      <td>Unchar_13220</td>\n",
       "      <td></td>\n",
       "      <td>EA51456</td>\n",
       "      <td></td>\n",
       "      <td></td>\n",
       "      <td></td>\n",
       "    </tr>\n",
       "    <tr>\n",
       "      <th>22690</th>\n",
       "      <td>OG_22691</td>\n",
       "      <td>2</td>\n",
       "      <td>2</td>\n",
       "      <td>19</td>\n",
       "      <td>Chordata</td>\n",
       "      <td>Brabel,Braflo,Cyclostomata,Chondrichthyes,Amic...</td>\n",
       "      <td></td>\n",
       "      <td></td>\n",
       "      <td></td>\n",
       "      <td></td>\n",
       "      <td>ENSLOCG00000001876</td>\n",
       "      <td></td>\n",
       "    </tr>\n",
       "  </tbody>\n",
       "</table>\n",
       "<p>22691 rows × 12 columns</p>\n",
       "</div>"
      ],
      "text/plain": [
       "            FID  NbGenes  NbSpecies  NbDesc         Strata  \\\n",
       "0          OG_1       21         20      23  Deuterostomia   \n",
       "1          OG_2       23         22      23  Deuterostomia   \n",
       "2          OG_3       20         20      23  Deuterostomia   \n",
       "3          OG_4       31         20      23  Deuterostomia   \n",
       "4          OG_5       20         16      23  Deuterostomia   \n",
       "...         ...      ...        ...     ...            ...   \n",
       "22686  OG_22687        2          2       2        Myxines   \n",
       "22687  OG_22688        2          2       2        Myxines   \n",
       "22688  OG_22689        2          2       2        Myxines   \n",
       "22689  OG_22690        2          2       2        Myxines   \n",
       "22690  OG_22691        2          2      19       Chordata   \n",
       "\n",
       "                                                  Losses  \\\n",
       "0                                   Ptyfla,Eptbur,Amical   \n",
       "1                                                 Amical   \n",
       "2                                   Sackow,Amical,Xentro   \n",
       "3                                   Letrei,Amical,Galgal   \n",
       "4                                  Cyclostomata,Holostei   \n",
       "...                                                  ...   \n",
       "22686                                                      \n",
       "22687                                                      \n",
       "22688                                                      \n",
       "22689                                                      \n",
       "22690  Brabel,Braflo,Cyclostomata,Chondrichthyes,Amic...   \n",
       "\n",
       "                            Eata_names              Hsa_names  \\\n",
       "0                               POLR2H                 POLR2H   \n",
       "1                              COPB1-1                  COPB1   \n",
       "2                                YIPF4                  YIPF4   \n",
       "3      SYMPK-2,SYMPK-3,SYMPK-1,SYMPK-4                  SYMPK   \n",
       "4                                       SYNJ2BP-COX16,SYNJ2BP   \n",
       "...                                ...                    ...   \n",
       "22686                     Unchar_15816                          \n",
       "22687                     Unchar_18929                          \n",
       "22688                     Unchar_13670                          \n",
       "22689                     Unchar_13220                          \n",
       "22690                                                           \n",
       "\n",
       "                                  gids    Panther  \\\n",
       "0                              EA33602  PTHR10917   \n",
       "1                              EA45752  PTHR10635   \n",
       "2                              EA48129  PTHR21236   \n",
       "3      EA59309,EA59730,EA58135,EA60811  PTHR15245   \n",
       "4                                                   \n",
       "...                                ...        ...   \n",
       "22686                          EA60352              \n",
       "22687                          EA72657              \n",
       "22688                          EA52681              \n",
       "22689                          EA51456              \n",
       "22690                                               \n",
       "\n",
       "                                     Gar_ids Frog_ids  \n",
       "0                         ENSLOCG00000008946   polr2h  \n",
       "1                         ENSLOCG00000003198    copb1  \n",
       "2                         ENSLOCG00000016640           \n",
       "3      ENSLOCG00000014229,ENSLOCG00000014228    sympk  \n",
       "4                                             synj2bp  \n",
       "...                                      ...      ...  \n",
       "22686                                                  \n",
       "22687                                                  \n",
       "22688                                                  \n",
       "22689                                                  \n",
       "22690                     ENSLOCG00000001876           \n",
       "\n",
       "[22691 rows x 12 columns]"
      ]
     },
     "execution_count": 43,
     "metadata": {},
     "output_type": "execute_result"
    }
   ],
   "source": [
    "fidGL"
   ]
  },
  {
   "cell_type": "code",
   "execution_count": 125,
   "metadata": {},
   "outputs": [
    {
     "data": {
      "text/html": [
       "<div>\n",
       "<style scoped>\n",
       "    .dataframe tbody tr th:only-of-type {\n",
       "        vertical-align: middle;\n",
       "    }\n",
       "\n",
       "    .dataframe tbody tr th {\n",
       "        vertical-align: top;\n",
       "    }\n",
       "\n",
       "    .dataframe thead th {\n",
       "        text-align: right;\n",
       "    }\n",
       "</style>\n",
       "<table border=\"1\" class=\"dataframe\">\n",
       "  <thead>\n",
       "    <tr style=\"text-align: right;\">\n",
       "      <th></th>\n",
       "      <th>FID</th>\n",
       "      <th>NbGenes</th>\n",
       "      <th>NbSpecies</th>\n",
       "      <th>NbDesc</th>\n",
       "      <th>Strata</th>\n",
       "      <th>Losses</th>\n",
       "      <th>Eata_names</th>\n",
       "      <th>Hsa_names</th>\n",
       "      <th>gids</th>\n",
       "      <th>Duplications</th>\n",
       "      <th>Panther</th>\n",
       "    </tr>\n",
       "  </thead>\n",
       "  <tbody>\n",
       "    <tr>\n",
       "      <th>43</th>\n",
       "      <td>OG_44</td>\n",
       "      <td>21</td>\n",
       "      <td>18</td>\n",
       "      <td>23</td>\n",
       "      <td>Deuterostomia</td>\n",
       "      <td>Letrei,Myxines,Amical,Orylat</td>\n",
       "      <td></td>\n",
       "      <td>RIOX2</td>\n",
       "      <td></td>\n",
       "      <td>Brabel,Braflo,Ceph2</td>\n",
       "      <td></td>\n",
       "    </tr>\n",
       "    <tr>\n",
       "      <th>102</th>\n",
       "      <td>OG_103</td>\n",
       "      <td>32</td>\n",
       "      <td>12</td>\n",
       "      <td>19</td>\n",
       "      <td>Chordata</td>\n",
       "      <td>Myxines,Chondrichthyes,Amical,Latcha,Galgal</td>\n",
       "      <td></td>\n",
       "      <td>TCAF2,TCAF2C,TCAF1</td>\n",
       "      <td></td>\n",
       "      <td>Actinopterygii,Hyperoartia,Mammalia,Danrer,Hom...</td>\n",
       "      <td></td>\n",
       "    </tr>\n",
       "    <tr>\n",
       "      <th>127</th>\n",
       "      <td>OG_128</td>\n",
       "      <td>436</td>\n",
       "      <td>20</td>\n",
       "      <td>23</td>\n",
       "      <td>Deuterostomia</td>\n",
       "      <td>Myxines,Amical</td>\n",
       "      <td></td>\n",
       "      <td>NXPE2,NXPE1,NXPE4,NXPE3</td>\n",
       "      <td></td>\n",
       "      <td>Brabel,Vertebrata,Petmar,Mammalia,Orylat,Ambul...</td>\n",
       "      <td></td>\n",
       "    </tr>\n",
       "    <tr>\n",
       "      <th>134</th>\n",
       "      <td>OG_135</td>\n",
       "      <td>22</td>\n",
       "      <td>15</td>\n",
       "      <td>23</td>\n",
       "      <td>Deuterostomia</td>\n",
       "      <td>Hemichordata,Letrei,Myxines,Chipun,Amical,Danrer</td>\n",
       "      <td></td>\n",
       "      <td>ZADH2</td>\n",
       "      <td></td>\n",
       "      <td>Acapla,Chordata,Strpur,Letjap</td>\n",
       "      <td></td>\n",
       "    </tr>\n",
       "    <tr>\n",
       "      <th>148</th>\n",
       "      <td>OG_149</td>\n",
       "      <td>90</td>\n",
       "      <td>18</td>\n",
       "      <td>23</td>\n",
       "      <td>Deuterostomia</td>\n",
       "      <td>Leth,Myxines,Amical</td>\n",
       "      <td></td>\n",
       "      <td>HSD11B1L,HSD11B1</td>\n",
       "      <td></td>\n",
       "      <td>Brabel,Sackow,Ptyfla,Braflo,Vertebrata,Orylat,...</td>\n",
       "      <td></td>\n",
       "    </tr>\n",
       "    <tr>\n",
       "      <th>...</th>\n",
       "      <td>...</td>\n",
       "      <td>...</td>\n",
       "      <td>...</td>\n",
       "      <td>...</td>\n",
       "      <td>...</td>\n",
       "      <td>...</td>\n",
       "      <td>...</td>\n",
       "      <td>...</td>\n",
       "      <td>...</td>\n",
       "      <td>...</td>\n",
       "      <td>...</td>\n",
       "    </tr>\n",
       "    <tr>\n",
       "      <th>21673</th>\n",
       "      <td>OG_21674</td>\n",
       "      <td>11</td>\n",
       "      <td>10</td>\n",
       "      <td>16</td>\n",
       "      <td>Vertebrata</td>\n",
       "      <td>Leth,Myxines,Calmil,Amical</td>\n",
       "      <td></td>\n",
       "      <td>RPL39</td>\n",
       "      <td></td>\n",
       "      <td>Musmus</td>\n",
       "      <td></td>\n",
       "    </tr>\n",
       "    <tr>\n",
       "      <th>21677</th>\n",
       "      <td>OG_21678</td>\n",
       "      <td>21</td>\n",
       "      <td>12</td>\n",
       "      <td>16</td>\n",
       "      <td>Vertebrata</td>\n",
       "      <td>Letrei,Myxines,Amical</td>\n",
       "      <td></td>\n",
       "      <td>GJA5</td>\n",
       "      <td></td>\n",
       "      <td>Vertebrata,Hyperoartia,Galgal,Letjap,Euteleostei</td>\n",
       "      <td></td>\n",
       "    </tr>\n",
       "    <tr>\n",
       "      <th>21776</th>\n",
       "      <td>OG_21777</td>\n",
       "      <td>15</td>\n",
       "      <td>10</td>\n",
       "      <td>16</td>\n",
       "      <td>Vertebrata</td>\n",
       "      <td>Letrei,Myxines,Chipun,Amical,Danrer</td>\n",
       "      <td></td>\n",
       "      <td>AC008676.3,FNDC9</td>\n",
       "      <td></td>\n",
       "      <td>Homsap,Gnathostomata</td>\n",
       "      <td></td>\n",
       "    </tr>\n",
       "    <tr>\n",
       "      <th>21805</th>\n",
       "      <td>OG_21806</td>\n",
       "      <td>7</td>\n",
       "      <td>5</td>\n",
       "      <td>16</td>\n",
       "      <td>Vertebrata</td>\n",
       "      <td>Letrei,Myxines,Chipun,Actinopterygii,Latcha,Xe...</td>\n",
       "      <td></td>\n",
       "      <td>CTXND2,CTXND1</td>\n",
       "      <td></td>\n",
       "      <td>Mammalia</td>\n",
       "      <td></td>\n",
       "    </tr>\n",
       "    <tr>\n",
       "      <th>21847</th>\n",
       "      <td>OG_21848</td>\n",
       "      <td>5</td>\n",
       "      <td>5</td>\n",
       "      <td>16</td>\n",
       "      <td>Vertebrata</td>\n",
       "      <td>Letrei,Petmar,Myxines,Chondrichthyes,Holostei,...</td>\n",
       "      <td></td>\n",
       "      <td>SMIM36</td>\n",
       "      <td></td>\n",
       "      <td>NaN</td>\n",
       "      <td></td>\n",
       "    </tr>\n",
       "  </tbody>\n",
       "</table>\n",
       "<p>917 rows × 11 columns</p>\n",
       "</div>"
      ],
      "text/plain": [
       "            FID  NbGenes  NbSpecies  NbDesc         Strata  \\\n",
       "43        OG_44       21         18      23  Deuterostomia   \n",
       "102      OG_103       32         12      19       Chordata   \n",
       "127      OG_128      436         20      23  Deuterostomia   \n",
       "134      OG_135       22         15      23  Deuterostomia   \n",
       "148      OG_149       90         18      23  Deuterostomia   \n",
       "...         ...      ...        ...     ...            ...   \n",
       "21673  OG_21674       11         10      16     Vertebrata   \n",
       "21677  OG_21678       21         12      16     Vertebrata   \n",
       "21776  OG_21777       15         10      16     Vertebrata   \n",
       "21805  OG_21806        7          5      16     Vertebrata   \n",
       "21847  OG_21848        5          5      16     Vertebrata   \n",
       "\n",
       "                                                  Losses Eata_names  \\\n",
       "43                          Letrei,Myxines,Amical,Orylat              \n",
       "102          Myxines,Chondrichthyes,Amical,Latcha,Galgal              \n",
       "127                                       Myxines,Amical              \n",
       "134     Hemichordata,Letrei,Myxines,Chipun,Amical,Danrer              \n",
       "148                                  Leth,Myxines,Amical              \n",
       "...                                                  ...        ...   \n",
       "21673                         Leth,Myxines,Calmil,Amical              \n",
       "21677                              Letrei,Myxines,Amical              \n",
       "21776                Letrei,Myxines,Chipun,Amical,Danrer              \n",
       "21805  Letrei,Myxines,Chipun,Actinopterygii,Latcha,Xe...              \n",
       "21847  Letrei,Petmar,Myxines,Chondrichthyes,Holostei,...              \n",
       "\n",
       "                     Hsa_names gids  \\\n",
       "43                       RIOX2        \n",
       "102         TCAF2,TCAF2C,TCAF1        \n",
       "127    NXPE2,NXPE1,NXPE4,NXPE3        \n",
       "134                      ZADH2        \n",
       "148           HSD11B1L,HSD11B1        \n",
       "...                        ...  ...   \n",
       "21673                    RPL39        \n",
       "21677                     GJA5        \n",
       "21776         AC008676.3,FNDC9        \n",
       "21805            CTXND2,CTXND1        \n",
       "21847                   SMIM36        \n",
       "\n",
       "                                            Duplications Panther  \n",
       "43                                   Brabel,Braflo,Ceph2          \n",
       "102    Actinopterygii,Hyperoartia,Mammalia,Danrer,Hom...          \n",
       "127    Brabel,Vertebrata,Petmar,Mammalia,Orylat,Ambul...          \n",
       "134                        Acapla,Chordata,Strpur,Letjap          \n",
       "148    Brabel,Sackow,Ptyfla,Braflo,Vertebrata,Orylat,...          \n",
       "...                                                  ...     ...  \n",
       "21673                                             Musmus          \n",
       "21677   Vertebrata,Hyperoartia,Galgal,Letjap,Euteleostei          \n",
       "21776                               Homsap,Gnathostomata          \n",
       "21805                                           Mammalia          \n",
       "21847                                                NaN          \n",
       "\n",
       "[917 rows x 11 columns]"
      ]
     },
     "execution_count": 125,
     "metadata": {},
     "output_type": "execute_result"
    }
   ],
   "source": [
    "fidGL[(fidGL.Losses.str.contains('Myxines')) & (fidGL.Hsa_names!='') ]#.to_csv('lost_in_osteo.txt',sep='\\t')"
   ]
  },
  {
   "cell_type": "code",
   "execution_count": 66,
   "metadata": {},
   "outputs": [
    {
     "data": {
      "text/html": [
       "<div>\n",
       "<style scoped>\n",
       "    .dataframe tbody tr th:only-of-type {\n",
       "        vertical-align: middle;\n",
       "    }\n",
       "\n",
       "    .dataframe tbody tr th {\n",
       "        vertical-align: top;\n",
       "    }\n",
       "\n",
       "    .dataframe thead th {\n",
       "        text-align: right;\n",
       "    }\n",
       "</style>\n",
       "<table border=\"1\" class=\"dataframe\">\n",
       "  <thead>\n",
       "    <tr style=\"text-align: right;\">\n",
       "      <th></th>\n",
       "      <th>FID</th>\n",
       "      <th>NbGenes</th>\n",
       "      <th>NbSpecies</th>\n",
       "      <th>NbDesc</th>\n",
       "      <th>Strata</th>\n",
       "      <th>Losses</th>\n",
       "      <th>Eata_names</th>\n",
       "      <th>Hsa_names</th>\n",
       "      <th>gids</th>\n",
       "      <th>Duplications</th>\n",
       "      <th>Panther</th>\n",
       "      <th>PFAM</th>\n",
       "    </tr>\n",
       "  </thead>\n",
       "  <tbody>\n",
       "    <tr>\n",
       "      <th>0</th>\n",
       "      <td>OG_1</td>\n",
       "      <td>21</td>\n",
       "      <td>20</td>\n",
       "      <td>23</td>\n",
       "      <td>Deuterostomia</td>\n",
       "      <td>Ptyfla,Eptbur,Amical</td>\n",
       "      <td></td>\n",
       "      <td>POLR2H</td>\n",
       "      <td>EA33602</td>\n",
       "      <td>Letrei</td>\n",
       "      <td>PTHR10917</td>\n",
       "      <td></td>\n",
       "    </tr>\n",
       "    <tr>\n",
       "      <th>1</th>\n",
       "      <td>OG_2</td>\n",
       "      <td>23</td>\n",
       "      <td>22</td>\n",
       "      <td>23</td>\n",
       "      <td>Deuterostomia</td>\n",
       "      <td>Amical</td>\n",
       "      <td></td>\n",
       "      <td>COPB1</td>\n",
       "      <td>EA45752</td>\n",
       "      <td>Sackow</td>\n",
       "      <td>PTHR10635</td>\n",
       "      <td></td>\n",
       "    </tr>\n",
       "    <tr>\n",
       "      <th>2</th>\n",
       "      <td>OG_3</td>\n",
       "      <td>20</td>\n",
       "      <td>20</td>\n",
       "      <td>23</td>\n",
       "      <td>Deuterostomia</td>\n",
       "      <td>Sackow,Amical,Xentro</td>\n",
       "      <td></td>\n",
       "      <td>YIPF4</td>\n",
       "      <td>EA48129</td>\n",
       "      <td></td>\n",
       "      <td>PTHR21236</td>\n",
       "      <td></td>\n",
       "    </tr>\n",
       "    <tr>\n",
       "      <th>3</th>\n",
       "      <td>OG_4</td>\n",
       "      <td>31</td>\n",
       "      <td>20</td>\n",
       "      <td>23</td>\n",
       "      <td>Deuterostomia</td>\n",
       "      <td>Letrei,Amical,Galgal</td>\n",
       "      <td></td>\n",
       "      <td>SYMPK</td>\n",
       "      <td>EA59309,EA59730,EA58135,EA60811</td>\n",
       "      <td>Parata,Lepocu,Gnathostomata,Myxines,Ceph2,Chipun</td>\n",
       "      <td>PTHR15245</td>\n",
       "      <td></td>\n",
       "    </tr>\n",
       "    <tr>\n",
       "      <th>5</th>\n",
       "      <td>OG_6</td>\n",
       "      <td>21</td>\n",
       "      <td>20</td>\n",
       "      <td>23</td>\n",
       "      <td>Deuterostomia</td>\n",
       "      <td>Braflo,Letrei,Amical</td>\n",
       "      <td></td>\n",
       "      <td>VTI1B</td>\n",
       "      <td>EA36571</td>\n",
       "      <td>Letjap</td>\n",
       "      <td>PTHR21230</td>\n",
       "      <td></td>\n",
       "    </tr>\n",
       "    <tr>\n",
       "      <th>...</th>\n",
       "      <td>...</td>\n",
       "      <td>...</td>\n",
       "      <td>...</td>\n",
       "      <td>...</td>\n",
       "      <td>...</td>\n",
       "      <td>...</td>\n",
       "      <td>...</td>\n",
       "      <td>...</td>\n",
       "      <td>...</td>\n",
       "      <td>...</td>\n",
       "      <td>...</td>\n",
       "      <td>...</td>\n",
       "    </tr>\n",
       "    <tr>\n",
       "      <th>21290</th>\n",
       "      <td>OG_21291</td>\n",
       "      <td>2</td>\n",
       "      <td>2</td>\n",
       "      <td>2</td>\n",
       "      <td>Myxines</td>\n",
       "      <td></td>\n",
       "      <td></td>\n",
       "      <td></td>\n",
       "      <td>EA49706</td>\n",
       "      <td>NaN</td>\n",
       "      <td>PTHR31080</td>\n",
       "      <td></td>\n",
       "    </tr>\n",
       "    <tr>\n",
       "      <th>21296</th>\n",
       "      <td>OG_21297</td>\n",
       "      <td>2</td>\n",
       "      <td>2</td>\n",
       "      <td>2</td>\n",
       "      <td>Myxines</td>\n",
       "      <td></td>\n",
       "      <td></td>\n",
       "      <td></td>\n",
       "      <td>EA67666</td>\n",
       "      <td>NaN</td>\n",
       "      <td>PTHR16423</td>\n",
       "      <td></td>\n",
       "    </tr>\n",
       "    <tr>\n",
       "      <th>21299</th>\n",
       "      <td>OG_21300</td>\n",
       "      <td>2</td>\n",
       "      <td>2</td>\n",
       "      <td>2</td>\n",
       "      <td>Myxines</td>\n",
       "      <td></td>\n",
       "      <td></td>\n",
       "      <td></td>\n",
       "      <td>EA67794</td>\n",
       "      <td>NaN</td>\n",
       "      <td>PTHR14972</td>\n",
       "      <td></td>\n",
       "    </tr>\n",
       "    <tr>\n",
       "      <th>22679</th>\n",
       "      <td>OG_22680</td>\n",
       "      <td>2</td>\n",
       "      <td>2</td>\n",
       "      <td>2</td>\n",
       "      <td>Myxines</td>\n",
       "      <td></td>\n",
       "      <td></td>\n",
       "      <td></td>\n",
       "      <td>EA75053</td>\n",
       "      <td>NaN</td>\n",
       "      <td>PTHR11588</td>\n",
       "      <td></td>\n",
       "    </tr>\n",
       "    <tr>\n",
       "      <th>22680</th>\n",
       "      <td>OG_22681</td>\n",
       "      <td>2</td>\n",
       "      <td>2</td>\n",
       "      <td>2</td>\n",
       "      <td>Myxines</td>\n",
       "      <td></td>\n",
       "      <td></td>\n",
       "      <td></td>\n",
       "      <td>EA07680</td>\n",
       "      <td>NaN</td>\n",
       "      <td>PTHR44329</td>\n",
       "      <td></td>\n",
       "    </tr>\n",
       "  </tbody>\n",
       "</table>\n",
       "<p>9905 rows × 12 columns</p>\n",
       "</div>"
      ],
      "text/plain": [
       "            FID  NbGenes  NbSpecies  NbDesc         Strata  \\\n",
       "0          OG_1       21         20      23  Deuterostomia   \n",
       "1          OG_2       23         22      23  Deuterostomia   \n",
       "2          OG_3       20         20      23  Deuterostomia   \n",
       "3          OG_4       31         20      23  Deuterostomia   \n",
       "5          OG_6       21         20      23  Deuterostomia   \n",
       "...         ...      ...        ...     ...            ...   \n",
       "21290  OG_21291        2          2       2        Myxines   \n",
       "21296  OG_21297        2          2       2        Myxines   \n",
       "21299  OG_21300        2          2       2        Myxines   \n",
       "22679  OG_22680        2          2       2        Myxines   \n",
       "22680  OG_22681        2          2       2        Myxines   \n",
       "\n",
       "                     Losses Eata_names Hsa_names  \\\n",
       "0      Ptyfla,Eptbur,Amical               POLR2H   \n",
       "1                    Amical                COPB1   \n",
       "2      Sackow,Amical,Xentro                YIPF4   \n",
       "3      Letrei,Amical,Galgal                SYMPK   \n",
       "5      Braflo,Letrei,Amical                VTI1B   \n",
       "...                     ...        ...       ...   \n",
       "21290                                              \n",
       "21296                                              \n",
       "21299                                              \n",
       "22679                                              \n",
       "22680                                              \n",
       "\n",
       "                                  gids  \\\n",
       "0                              EA33602   \n",
       "1                              EA45752   \n",
       "2                              EA48129   \n",
       "3      EA59309,EA59730,EA58135,EA60811   \n",
       "5                              EA36571   \n",
       "...                                ...   \n",
       "21290                          EA49706   \n",
       "21296                          EA67666   \n",
       "21299                          EA67794   \n",
       "22679                          EA75053   \n",
       "22680                          EA07680   \n",
       "\n",
       "                                           Duplications    Panther PFAM  \n",
       "0                                                Letrei  PTHR10917       \n",
       "1                                                Sackow  PTHR10635       \n",
       "2                                                        PTHR21236       \n",
       "3      Parata,Lepocu,Gnathostomata,Myxines,Ceph2,Chipun  PTHR15245       \n",
       "5                                                Letjap  PTHR21230       \n",
       "...                                                 ...        ...  ...  \n",
       "21290                                               NaN  PTHR31080       \n",
       "21296                                               NaN  PTHR16423       \n",
       "21299                                               NaN  PTHR14972       \n",
       "22679                                               NaN  PTHR11588       \n",
       "22680                                               NaN  PTHR44329       \n",
       "\n",
       "[9905 rows x 12 columns]"
      ]
     },
     "execution_count": 66,
     "metadata": {},
     "output_type": "execute_result"
    }
   ],
   "source": [
    "fidGL[(fidGL.Panther!='')]#.to_csv('lost_in_osteo.txt',sep='\\t')"
   ]
  },
  {
   "cell_type": "code",
   "execution_count": 186,
   "metadata": {},
   "outputs": [
    {
     "data": {
      "text/html": [
       "<div>\n",
       "<style scoped>\n",
       "    .dataframe tbody tr th:only-of-type {\n",
       "        vertical-align: middle;\n",
       "    }\n",
       "\n",
       "    .dataframe tbody tr th {\n",
       "        vertical-align: top;\n",
       "    }\n",
       "\n",
       "    .dataframe thead th {\n",
       "        text-align: right;\n",
       "    }\n",
       "</style>\n",
       "<table border=\"1\" class=\"dataframe\">\n",
       "  <thead>\n",
       "    <tr style=\"text-align: right;\">\n",
       "      <th></th>\n",
       "      <th>FID</th>\n",
       "      <th>NbGenes</th>\n",
       "      <th>NbSpecies</th>\n",
       "      <th>NbDesc</th>\n",
       "      <th>Strata</th>\n",
       "      <th>Losses</th>\n",
       "      <th>Pliv_names</th>\n",
       "      <th>Hsa_names</th>\n",
       "      <th>Pliv_ids</th>\n",
       "      <th>Duplications</th>\n",
       "      <th>Panther</th>\n",
       "      <th>PFAM</th>\n",
       "    </tr>\n",
       "  </thead>\n",
       "  <tbody>\n",
       "    <tr>\n",
       "      <th>34</th>\n",
       "      <td>OG_35</td>\n",
       "      <td>7</td>\n",
       "      <td>7</td>\n",
       "      <td>8</td>\n",
       "      <td>Echinodermata</td>\n",
       "      <td>Apojap</td>\n",
       "      <td>unchar-8163</td>\n",
       "      <td></td>\n",
       "      <td>PL34457</td>\n",
       "      <td></td>\n",
       "      <td>subfamily not named</td>\n",
       "      <td>7tm_2</td>\n",
       "    </tr>\n",
       "    <tr>\n",
       "      <th>123</th>\n",
       "      <td>OG_124</td>\n",
       "      <td>3</td>\n",
       "      <td>3</td>\n",
       "      <td>8</td>\n",
       "      <td>Echinodermata</td>\n",
       "      <td>Acapla,Astrub,Echinoidea</td>\n",
       "      <td></td>\n",
       "      <td></td>\n",
       "      <td></td>\n",
       "      <td>NaN</td>\n",
       "      <td></td>\n",
       "      <td></td>\n",
       "    </tr>\n",
       "    <tr>\n",
       "      <th>257</th>\n",
       "      <td>OG_260</td>\n",
       "      <td>7</td>\n",
       "      <td>6</td>\n",
       "      <td>8</td>\n",
       "      <td>Echinodermata</td>\n",
       "      <td>Patmin,Parliv</td>\n",
       "      <td></td>\n",
       "      <td></td>\n",
       "      <td></td>\n",
       "      <td>Echinodermata</td>\n",
       "      <td></td>\n",
       "      <td></td>\n",
       "    </tr>\n",
       "    <tr>\n",
       "      <th>297</th>\n",
       "      <td>OG_300</td>\n",
       "      <td>3</td>\n",
       "      <td>3</td>\n",
       "      <td>8</td>\n",
       "      <td>Echinodermata</td>\n",
       "      <td>Patmin,Echinozoa</td>\n",
       "      <td></td>\n",
       "      <td></td>\n",
       "      <td></td>\n",
       "      <td>NaN</td>\n",
       "      <td></td>\n",
       "      <td></td>\n",
       "    </tr>\n",
       "    <tr>\n",
       "      <th>624</th>\n",
       "      <td>OG_629</td>\n",
       "      <td>6</td>\n",
       "      <td>3</td>\n",
       "      <td>8</td>\n",
       "      <td>Echinodermata</td>\n",
       "      <td>Patmin,Echinozoa</td>\n",
       "      <td></td>\n",
       "      <td></td>\n",
       "      <td></td>\n",
       "      <td>NaN</td>\n",
       "      <td></td>\n",
       "      <td></td>\n",
       "    </tr>\n",
       "    <tr>\n",
       "      <th>...</th>\n",
       "      <td>...</td>\n",
       "      <td>...</td>\n",
       "      <td>...</td>\n",
       "      <td>...</td>\n",
       "      <td>...</td>\n",
       "      <td>...</td>\n",
       "      <td>...</td>\n",
       "      <td>...</td>\n",
       "      <td>...</td>\n",
       "      <td>...</td>\n",
       "      <td>...</td>\n",
       "      <td>...</td>\n",
       "    </tr>\n",
       "    <tr>\n",
       "      <th>17746</th>\n",
       "      <td>OG_18403</td>\n",
       "      <td>2</td>\n",
       "      <td>2</td>\n",
       "      <td>8</td>\n",
       "      <td>Echinodermata</td>\n",
       "      <td>Acapla,Astrub,Echinozoa</td>\n",
       "      <td></td>\n",
       "      <td></td>\n",
       "      <td></td>\n",
       "      <td>NaN</td>\n",
       "      <td></td>\n",
       "      <td></td>\n",
       "    </tr>\n",
       "    <tr>\n",
       "      <th>17762</th>\n",
       "      <td>OG_18420</td>\n",
       "      <td>2</td>\n",
       "      <td>2</td>\n",
       "      <td>8</td>\n",
       "      <td>Echinodermata</td>\n",
       "      <td>Acapla,Astrub,Echinozoa</td>\n",
       "      <td></td>\n",
       "      <td></td>\n",
       "      <td></td>\n",
       "      <td>NaN</td>\n",
       "      <td></td>\n",
       "      <td></td>\n",
       "    </tr>\n",
       "    <tr>\n",
       "      <th>17764</th>\n",
       "      <td>OG_18422</td>\n",
       "      <td>2</td>\n",
       "      <td>2</td>\n",
       "      <td>8</td>\n",
       "      <td>Echinodermata</td>\n",
       "      <td>Patmin,Astrub,Echinozoa</td>\n",
       "      <td></td>\n",
       "      <td></td>\n",
       "      <td></td>\n",
       "      <td>NaN</td>\n",
       "      <td></td>\n",
       "      <td></td>\n",
       "    </tr>\n",
       "    <tr>\n",
       "      <th>17765</th>\n",
       "      <td>OG_18423</td>\n",
       "      <td>2</td>\n",
       "      <td>2</td>\n",
       "      <td>8</td>\n",
       "      <td>Echinodermata</td>\n",
       "      <td>Asteroidea,Apojap,B</td>\n",
       "      <td>unchar-705</td>\n",
       "      <td></td>\n",
       "      <td>PL32783</td>\n",
       "      <td>NaN</td>\n",
       "      <td>-</td>\n",
       "      <td>-</td>\n",
       "    </tr>\n",
       "    <tr>\n",
       "      <th>17842</th>\n",
       "      <td>OG_18506</td>\n",
       "      <td>2</td>\n",
       "      <td>2</td>\n",
       "      <td>8</td>\n",
       "      <td>Echinodermata</td>\n",
       "      <td>Asteroidea,Echinoidea</td>\n",
       "      <td></td>\n",
       "      <td></td>\n",
       "      <td></td>\n",
       "      <td>NaN</td>\n",
       "      <td></td>\n",
       "      <td></td>\n",
       "    </tr>\n",
       "  </tbody>\n",
       "</table>\n",
       "<p>104 rows × 12 columns</p>\n",
       "</div>"
      ],
      "text/plain": [
       "            FID  NbGenes  NbSpecies  NbDesc         Strata  \\\n",
       "34        OG_35        7          7       8  Echinodermata   \n",
       "123      OG_124        3          3       8  Echinodermata   \n",
       "257      OG_260        7          6       8  Echinodermata   \n",
       "297      OG_300        3          3       8  Echinodermata   \n",
       "624      OG_629        6          3       8  Echinodermata   \n",
       "...         ...      ...        ...     ...            ...   \n",
       "17746  OG_18403        2          2       8  Echinodermata   \n",
       "17762  OG_18420        2          2       8  Echinodermata   \n",
       "17764  OG_18422        2          2       8  Echinodermata   \n",
       "17765  OG_18423        2          2       8  Echinodermata   \n",
       "17842  OG_18506        2          2       8  Echinodermata   \n",
       "\n",
       "                         Losses   Pliv_names Hsa_names Pliv_ids  \\\n",
       "34                       Apojap  unchar-8163            PL34457   \n",
       "123    Acapla,Astrub,Echinoidea                                   \n",
       "257               Patmin,Parliv                                   \n",
       "297            Patmin,Echinozoa                                   \n",
       "624            Patmin,Echinozoa                                   \n",
       "...                         ...          ...       ...      ...   \n",
       "17746   Acapla,Astrub,Echinozoa                                   \n",
       "17762   Acapla,Astrub,Echinozoa                                   \n",
       "17764   Patmin,Astrub,Echinozoa                                   \n",
       "17765       Asteroidea,Apojap,B   unchar-705            PL32783   \n",
       "17842     Asteroidea,Echinoidea                                   \n",
       "\n",
       "        Duplications              Panther   PFAM  \n",
       "34                    subfamily not named  7tm_2  \n",
       "123              NaN                              \n",
       "257    Echinodermata                              \n",
       "297              NaN                              \n",
       "624              NaN                              \n",
       "...              ...                  ...    ...  \n",
       "17746            NaN                              \n",
       "17762            NaN                              \n",
       "17764            NaN                              \n",
       "17765            NaN                    -      -  \n",
       "17842            NaN                              \n",
       "\n",
       "[104 rows x 12 columns]"
      ]
     },
     "execution_count": 186,
     "metadata": {},
     "output_type": "execute_result"
    }
   ],
   "source": [
    "fidGL[fidGL.Strata.str.contains('Echinodermata')]#.to_csv('novel_in_echinoidea.txt',sep='\\t')"
   ]
  },
  {
   "cell_type": "code",
   "execution_count": 47,
   "metadata": {},
   "outputs": [],
   "source": [
    "gar_ids=fidGL[fidGL.Losses.str.contains('Myxines')].Gar_ids#.to_csv('lost_in_osteo.txt',sep='\\t')"
   ]
  },
  {
   "cell_type": "code",
   "execution_count": 57,
   "metadata": {},
   "outputs": [],
   "source": [
    "frg_ids=fidGL[fidGL.Losses.str.contains('Myxines')].Frog_ids#.to_csv('lost_in_osteo.txt',sep='\\t')"
   ]
  },
  {
   "cell_type": "code",
   "execution_count": 62,
   "metadata": {},
   "outputs": [],
   "source": [
    "pma_ids=fidGL[fidGL.Losses.str.contains('Myxines')].Pma_ids#.to_csv('lost_in_osteo.txt',sep='\\t')"
   ]
  },
  {
   "cell_type": "code",
   "execution_count": 53,
   "metadata": {},
   "outputs": [],
   "source": [
    "gar_ids=sum([g.split(',') for g in gar_ids if not g==''],[])"
   ]
  },
  {
   "cell_type": "code",
   "execution_count": 58,
   "metadata": {},
   "outputs": [],
   "source": [
    "frg_ids=sum([g.split(',') for g in frg_ids if not g==''],[])"
   ]
  },
  {
   "cell_type": "code",
   "execution_count": 63,
   "metadata": {},
   "outputs": [],
   "source": [
    "pma_ids=sum([g.split(',') for g in pma_ids if not g==''],[])"
   ]
  },
  {
   "cell_type": "code",
   "execution_count": 64,
   "metadata": {},
   "outputs": [],
   "source": [
    "with open('pmar_list.txt','w') as out: \n",
    "    out.write('\\n'.join(pma_ids))"
   ]
  },
  {
   "cell_type": "code",
   "execution_count": 44,
   "metadata": {},
   "outputs": [],
   "source": [
    "fidGL.to_csv('all_families_gain_loss.txt',sep='\\t')"
   ]
  },
  {
   "cell_type": "markdown",
   "metadata": {},
   "source": [
    "## Duplications "
   ]
  },
  {
   "cell_type": "code",
   "execution_count": 19,
   "metadata": {
    "tags": []
   },
   "outputs": [],
   "source": [
    "def decoTree(t,outtax):\n",
    "    for l in t:\n",
    "        sp,gid=l.name.split('_',1)\n",
    "        gid=gid.split('.')[0]\n",
    "        l.add_features(species=sp,gid=gid)\n",
    "    #first, reset rooting with mid-point rooting\n",
    "    R = t.get_midpoint_outgroup()\n",
    "    t.set_outgroup(R)\n",
    "    #then root with deuterostome ancestor\n",
    "    sot=[l for l in t if l.species in outtax] \n",
    "    if len(sot)>0:\n",
    "        anc=t.get_common_ancestor(sot)\n",
    "        if not anc==t:\n",
    "            t.set_outgroup(anc)\n",
    "    return t"
   ]
  },
  {
   "cell_type": "code",
   "execution_count": 20,
   "metadata": {
    "tags": []
   },
   "outputs": [],
   "source": [
    "def age(node,sptr):\n",
    "    tsp=list(set([lf.species for lf in node]))\n",
    "    if len(tsp)==1:\n",
    "        return tsp[0]\n",
    "    else:\n",
    "        tanc=sptr.get_common_ancestor(tsp).name\n",
    "        return tanc"
   ]
  },
  {
   "cell_type": "code",
   "execution_count": 21,
   "metadata": {
    "tags": []
   },
   "outputs": [],
   "source": [
    "outgroups=['Strpur','Acapla','Sackow','Ptyfla']"
   ]
  },
  {
   "cell_type": "code",
   "execution_count": 22,
   "metadata": {
    "tags": []
   },
   "outputs": [],
   "source": [
    "rTrees={}\n",
    "nclgbfl=[]\n",
    "strees={}\n",
    "nexcl=0\n",
    "for l in open('../../Gene_families/brofams_0221_rec.trees'):\n",
    "    o,ts=l.strip().split(':',1)\n",
    "    og=o.split('/')[-1].rsplit('_',1)[0]\n",
    "    #print(og)\n",
    "    strees[og]=ts\n",
    "    t=Tree(ts, format=1)\n",
    "    try:\n",
    "        t=decoTree(t,outgroups)\n",
    "        spl=list(set([l.species for l in t]))\n",
    "    #print(spl)\n",
    "        if len(spl)<3:\n",
    "            nexcl+=1\n",
    "            continue\n",
    "        rTrees[og]=t\n",
    "    except:\n",
    "        print(\"troubles with {}\".format(og))"
   ]
  },
  {
   "cell_type": "code",
   "execution_count": 19,
   "metadata": {},
   "outputs": [
    {
     "name": "stdout",
     "output_type": "stream",
     "text": [
      "0 12557\n"
     ]
    }
   ],
   "source": [
    "print(nexcl,len(rTrees))"
   ]
  },
  {
   "cell_type": "code",
   "execution_count": 23,
   "metadata": {
    "tags": []
   },
   "outputs": [],
   "source": [
    "dupNodes={}\n",
    "totdups=defaultdict(int)\n",
    "for f,st in rTrees.items():\n",
    "    dupnds=[sst for sst in st.search_nodes(D='Y')]\n",
    "    ages=[age(n,spT) for n in dupnds]\n",
    "    for a in ages:\n",
    "        totdups[a]+=1\n",
    "    dupNodes[f]=','.join(list(set(ages)))\n",
    "    #print(f,dupnds,ages)\n",
    "    \n",
    "        "
   ]
  },
  {
   "cell_type": "code",
   "execution_count": 17,
   "metadata": {},
   "outputs": [],
   "source": [
    "st=rTrees['OG_1000']"
   ]
  },
  {
   "cell_type": "code",
   "execution_count": null,
   "metadata": {},
   "outputs": [],
   "source": [
    "dupnds=[sst for sst in st.search_nodes(D='Y')]\n",
    "print(dupnds)\n",
    "ages=[age(n,spT) for n in dupnds]\n",
    "print(ages)\n",
    "\n"
   ]
  },
  {
   "cell_type": "code",
   "execution_count": null,
   "metadata": {},
   "outputs": [],
   "source": [
    "print(rTrees['OG_1000'])"
   ]
  },
  {
   "cell_type": "code",
   "execution_count": 21,
   "metadata": {},
   "outputs": [
    {
     "name": "stdout",
     "output_type": "stream",
     "text": [
      "defaultdict(<class 'int'>, {'Strpur': 8765, 'Ptyfla': 8408, 'Myxines': 3520, 'Eptbur': 3451, 'Letrei': 1339, 'Orylat': 2056, 'Galgal': 1828, 'Letjap': 5276, 'Deuterostomia': 3153, 'Bralan': 5374, 'Vertebrata': 4192, 'Cephalochordata': 7529, 'Euteleostei': 3094, 'Acapla': 2601, 'Gnathostomata': 5224, 'Homsap': 1368, 'Osteichthyes': 955, 'Sackow': 5280, 'Braflo': 2967, 'Musmus': 1859, 'Chipun': 2172, 'Mammalia': 911, 'Cyclostomata': 1990, 'Danrer': 3000, 'Hyperoartia': 2311, 'Hemichordata': 2379, 'Parata': 1761, 'Xentro': 3614, 'Brabel': 3281, 'Chordata': 711, 'Latcha': 1399, 'Lepocu': 739, 'Ceph2': 1090, 'Echinodermata': 772, 'Actinopterygii': 855, 'Leth': 1099, 'Chondrichthyes': 684, 'Ambulacraria': 766, 'Sarcopterygia': 287, 'Tetrapoda': 358, 'Calmil': 692, 'Petmar': 667, 'Amniotes': 200})\n"
     ]
    }
   ],
   "source": [
    "print(totdups)"
   ]
  },
  {
   "cell_type": "code",
   "execution_count": null,
   "metadata": {},
   "outputs": [],
   "source": [
    "i=0\n",
    "for f,st in rTrees.items():\n",
    "    pliv=[sst.name for sst in st.search_nodes(species='Parliv')]\n",
    "    if len(pliv)<2: continue\n",
    "    for g1,g2 in list(combinations(pliv,2)):\n",
    "        anc=age(st.get_common_ancestor([g1,g2]),spT)\n",
    "        gi1,gi2=g1.split('_',1)[1],g2.split('_',1)[1]\n",
    "        m1,m2=gene2mod.get(gi1,'-'),gene2mod.get(gi2,'-')\n",
    "        print(f,g1,g2,PlivNames.get(gi1,'-'),PlivNames.get(gi2,'-'),m1,m2,moddesc.get(m1,'-'),moddesc.get(m2,'-'),anc)\n",
    "        \n",
    "    i+=1\n",
    "    #ages=[age(n,spT) for n in dupnds]\n",
    "    #for a in list(set(ages)):\n",
    "    #    totdups[a]+=1\n",
    "    #dupNodes[f]=','.join(list(set(ages)))\n",
    "    #print(f,dupnds,ages)\n",
    "    if i==20: break"
   ]
  },
  {
   "cell_type": "code",
   "execution_count": 127,
   "metadata": {},
   "outputs": [
    {
     "name": "stdout",
     "output_type": "stream",
     "text": [
      "\n",
      "                     /-Lytvar_L_var_25220-RA, N\n",
      "                /70, N\n",
      "               |    |      /-Strpur_LOC589280, N\n",
      "           /66, N    \\n11, Y\n",
      "          |    |           \\-Strpur_LOC115923326, N\n",
      "          |    |\n",
      "          |     \\-Parliv_PL20127, N\n",
      "          |\n",
      "      /95, Y              /-Parliv_PL19596, N\n",
      "     |    |          /67, Y\n",
      "     |    |         |     \\-Parliv_PL20177, N\n",
      "     |    |     /17, Y\n",
      "     |    |    |    |      /-Parliv_PL37751, N\n",
      "     |    |    |     \\100, Y\n",
      "-n73, N    \\29, N          \\-Parliv_PL19959, N\n",
      "     |         |\n",
      "     |         |     /-Lytvar_L_var_25221-RA, N\n",
      "     |          \\49, N\n",
      "     |               \\-Strpur_LOC763046, N\n",
      "     |\n",
      "      \\-Auraur_scaffold1886_g2, N\n"
     ]
    }
   ],
   "source": [
    "print(rTrees['OG_10015'].get_ascii(attributes=[\"name\",\"D\"], show_internal=True))"
   ]
  },
  {
   "cell_type": "code",
   "execution_count": 35,
   "metadata": {},
   "outputs": [
    {
     "name": "stdout",
     "output_type": "stream",
     "text": [
      "Counter({'Bila': 4898, 'Vertebrata': 4809, 'Gnathostomata': 2974, 'Deuterostomia': 2494, 'Chordata': 718, 'Osteichthyes': 271, 'Actinopterygii': 236, 'Lepocu': 147})\n"
     ]
    }
   ],
   "source": [
    "i=0\n",
    "gDupAge={}\n",
    "for f,st in rTrees.items():\n",
    "    #print(f)\n",
    "    pliv=[sst.name for sst in st.search_nodes(species='Lepocu')]\n",
    "    for l in st.search_nodes(species=\"Lepocu\"):\n",
    "        gid=l.name.split('_',1)[1]\n",
    "        gda='Bila'\n",
    "        for n in l.iter_ancestors():\n",
    "            if n.D=='Y':\n",
    "                #print(n.name,n.D,age(n,spT))\n",
    "                gda=age(n,spT)\n",
    "        gDupAge[gid]=gda\n",
    "            \n",
    "    i+=1\n",
    "    #ages=[age(n,spT) for n in dupnds]\n",
    "    #for a in list(set(ages)):\n",
    "    #    totdups[a]+=1\n",
    "    #dupNodes[f]=','.join(list(set(ages)))\n",
    "    #print(f,dupnds,ages)\n",
    "    #if i==3: break    \n",
    "print(Counter(gDupAge.values()))"
   ]
  },
  {
   "cell_type": "code",
   "execution_count": 26,
   "metadata": {},
   "outputs": [
    {
     "data": {
      "text/plain": [
       "7"
      ]
     },
     "execution_count": 26,
     "metadata": {},
     "output_type": "execute_result"
    }
   ],
   "source": [
    "len(Counter(gDupAge.values()))"
   ]
  },
  {
   "cell_type": "code",
   "execution_count": 36,
   "metadata": {},
   "outputs": [],
   "source": [
    "selDupCl=['Bila','Deuterostomia','Chordata','Vertebrata','Cyclostomata','Myxines','Parata']"
   ]
  },
  {
   "cell_type": "code",
   "execution_count": 55,
   "metadata": {},
   "outputs": [],
   "source": [
    "selDupCl=['Bila','Deuterostomia','Chordata','Vertebrata','Gnathostomata','Osteichthyes','Actinopterygii','Lepocu']"
   ]
  },
  {
   "cell_type": "markdown",
   "metadata": {},
   "source": [
    "## Importing WGCNA information"
   ]
  },
  {
   "cell_type": "code",
   "execution_count": 4,
   "metadata": {},
   "outputs": [],
   "source": [
    "import csv"
   ]
  },
  {
   "cell_type": "code",
   "execution_count": 38,
   "metadata": {},
   "outputs": [],
   "source": [
    "gene2mod={}\n",
    "mod2gene={}\n",
    "for f in glob(\"/Users/fmarletaz/Dropbox/Genomes/Hagfish/Hagfish_analysis/Gar_WGCNA/Gene_lists_in_Modules/non_annotated/*.txt\"):\n",
    "    mod=f.split('/')[-1].split('.')[0]\n",
    "    genes=[]\n",
    "    for l in open(f):\n",
    "        gene2mod[l.strip()]=mod\n",
    "        genes.append(l.strip())\n",
    "    mod2gene[mod]=genes  \n",
    "    "
   ]
  },
  {
   "cell_type": "code",
   "execution_count": null,
   "metadata": {},
   "outputs": [],
   "source": [
    "geneNames={}"
   ]
  },
  {
   "cell_type": "code",
   "execution_count": 48,
   "metadata": {},
   "outputs": [],
   "source": [
    "gene2mod={}\n",
    "mod2gene={}\n",
    "for f in glob(\"/Users/fmarletaz/Dropbox/Genomes/Hagfish/Hagfish_analysis/Hagfish_WGCNA/log2fpkm1/Gene_lists_in_Modules/eb_gid_only/*.txt\"):\n",
    "    mod=f.split('/')[-1].split('.')[0]\n",
    "    genes=[]\n",
    "    for l in open(f):\n",
    "        gene2mod[l.strip()]=mod\n",
    "        genes.append(l.strip())\n",
    "    mod2gene[mod]=genes  \n",
    "    "
   ]
  },
  {
   "cell_type": "code",
   "execution_count": 137,
   "metadata": {},
   "outputs": [],
   "source": [
    "moddesc={}\n",
    "for l in open(\"/Users/fmarletaz/Dropbox/Genomes/Urchin/Annotation/Pliv_WGCNA_log2fpkm1/test2.2_filtered_gene_models_less_clusters/cluster_desc.txt\"):\n",
    "    mod,desc=l.strip().split()\n",
    "    moddesc[mod]=desc"
   ]
  },
  {
   "cell_type": "code",
   "execution_count": 152,
   "metadata": {},
   "outputs": [],
   "source": [
    "modstra=[]\n",
    "gbstr={}\n",
    "for m in mod2gene:\n",
    "    cnts=Counter([genephylo.get(g,'Parliv') for g in mod2gene[m]])\n",
    "    gbstr[m]={c:cnts[c] for c in selclades}\n",
    "    modstra.append([m,moddesc[m]]+[cnts[c] for c in selclades])"
   ]
  },
  {
   "cell_type": "code",
   "execution_count": 56,
   "metadata": {},
   "outputs": [],
   "source": [
    "moddupa=[]\n",
    "gbdpa={}\n",
    "for m in mod2gene:\n",
    "    cnts=Counter([gDupAge.get(g,'Lepocu') for g in mod2gene[m]])\n",
    "    gbdpa[m]={c:cnts[c] for c in selDupCl}\n",
    "    moddupa.append([m]+[cnts[c] for c in selDupCl])"
   ]
  },
  {
   "cell_type": "code",
   "execution_count": 57,
   "metadata": {},
   "outputs": [
    {
     "data": {
      "text/plain": [
       "[['paleturquoise', 53, 38, 5, 64, 41, 6, 4, 25],\n",
       " ['mediumorchid', 12, 13, 3, 15, 11, 1, 0, 20],\n",
       " ['yellow4', 23, 8, 1, 18, 17, 1, 0, 4],\n",
       " ['lightcyan', 150, 40, 4, 62, 60, 8, 4, 15],\n",
       " ['brown4', 64, 18, 4, 24, 16, 3, 1, 7],\n",
       " ['salmon2', 6, 8, 2, 11, 4, 0, 0, 8],\n",
       " ['yellow', 107, 99, 16, 106, 104, 3, 6, 270],\n",
       " ['maroon', 30, 7, 5, 23, 18, 4, 2, 11],\n",
       " ['blue', 226, 205, 92, 532, 241, 14, 14, 523],\n",
       " ['pink', 213, 56, 13, 102, 82, 4, 3, 21],\n",
       " ['blue2', 8, 8, 4, 11, 9, 0, 0, 11],\n",
       " ['skyblue', 130, 20, 4, 46, 27, 5, 2, 14],\n",
       " ['darkorange2', 33, 18, 5, 37, 24, 3, 1, 18],\n",
       " ['black', 40, 71, 16, 71, 86, 4, 10, 213],\n",
       " ['plum1', 82, 14, 2, 42, 38, 6, 1, 9],\n",
       " ['thistle1', 50, 11, 2, 20, 17, 3, 1, 9],\n",
       " ['brown2', 8, 11, 1, 14, 2, 0, 2, 15],\n",
       " ['salmon4', 20, 10, 9, 37, 14, 0, 0, 15],\n",
       " ['ivory', 57, 21, 4, 41, 24, 5, 1, 21],\n",
       " ['bisque4', 34, 10, 4, 34, 31, 0, 1, 17],\n",
       " ['plum2', 17, 18, 6, 18, 14, 1, 2, 43],\n",
       " ['thistle2', 22, 21, 8, 24, 12, 2, 1, 27],\n",
       " ['darkgrey', 23, 32, 11, 62, 24, 2, 4, 122],\n",
       " ['thistle3', 12, 3, 1, 14, 6, 0, 2, 8],\n",
       " ['plum3', 11, 8, 2, 5, 5, 0, 1, 15],\n",
       " ['honeydew', 8, 0, 3, 5, 3, 0, 0, 5],\n",
       " ['yellowgreen', 43, 13, 6, 68, 35, 3, 2, 28],\n",
       " ['darkseagreen3', 2, 4, 0, 5, 0, 0, 2, 8],\n",
       " ['greenyellow', 66, 49, 20, 139, 63, 1, 4, 88],\n",
       " ['darkturquoise', 143, 25, 6, 41, 39, 2, 4, 22],\n",
       " ['lightyellow', 31, 53, 10, 67, 29, 1, 12, 99],\n",
       " ['steelblue', 10, 25, 4, 13, 23, 0, 2, 161],\n",
       " ['darkolivegreen', 17, 26, 9, 52, 26, 3, 0, 76],\n",
       " ['darkorange', 35, 37, 13, 80, 32, 5, 3, 58],\n",
       " ['salmon', 158, 47, 4, 114, 50, 4, 5, 33],\n",
       " ['lightcyan1', 25, 25, 8, 28, 34, 2, 2, 55],\n",
       " ['navajowhite1', 2, 7, 0, 7, 5, 0, 1, 14],\n",
       " ['mediumpurple3', 75, 20, 4, 34, 31, 5, 1, 21],\n",
       " ['darkviolet', 5, 10, 0, 8, 9, 1, 0, 16],\n",
       " ['darkslateblue', 45, 10, 1, 29, 15, 1, 0, 30],\n",
       " ['mediumpurple2', 13, 12, 4, 19, 12, 2, 0, 6],\n",
       " ['firebrick4', 5, 2, 2, 20, 6, 1, 3, 19],\n",
       " ['navajowhite2', 7, 13, 2, 12, 9, 2, 2, 53],\n",
       " ['darkseagreen4', 4, 7, 1, 9, 1, 0, 0, 66],\n",
       " ['plum', 25, 10, 2, 18, 13, 1, 1, 1],\n",
       " ['coral1', 13, 16, 3, 12, 14, 0, 0, 25],\n",
       " ['lightpink4', 16, 17, 4, 29, 6, 2, 0, 21],\n",
       " ['cyan', 85, 39, 19, 103, 53, 7, 1, 78],\n",
       " ['darkgreen', 107, 29, 6, 76, 45, 1, 6, 15],\n",
       " ['brown', 87, 67, 28, 142, 63, 5, 2, 331],\n",
       " ['palevioletred3', 20, 15, 4, 26, 14, 3, 4, 17],\n",
       " ['orangered3', 4, 8, 1, 17, 7, 1, 3, 28],\n",
       " ['lavenderblush3', 16, 9, 4, 25, 19, 2, 1, 18],\n",
       " ['lightsteelblue', 9, 6, 3, 33, 10, 0, 0, 6],\n",
       " ['lavenderblush2', 7, 3, 0, 13, 2, 0, 0, 1],\n",
       " ['palevioletred2', 19, 2, 0, 9, 8, 0, 0, 1],\n",
       " ['white', 43, 38, 4, 95, 46, 2, 3, 21],\n",
       " ['skyblue2', 6, 7, 3, 20, 15, 1, 1, 20],\n",
       " ['thistle', 4, 4, 1, 11, 6, 0, 1, 14],\n",
       " ['grey60', 46, 38, 10, 69, 42, 2, 3, 129],\n",
       " ['lightpink3', 6, 5, 1, 7, 1, 1, 0, 13],\n",
       " ['skyblue3', 8, 18, 5, 20, 18, 4, 1, 122],\n",
       " ['lightcoral', 31, 5, 2, 11, 8, 2, 0, 1],\n",
       " ['sienna3', 49, 20, 1, 32, 28, 1, 2, 70],\n",
       " ['indianred4', 7, 5, 1, 8, 8, 2, 1, 26],\n",
       " ['magenta', 135, 35, 11, 105, 115, 6, 9, 53],\n",
       " ['floralwhite', 12, 22, 8, 20, 15, 1, 3, 85],\n",
       " ['magenta4', 6, 3, 1, 9, 6, 0, 0, 9],\n",
       " ['red', 261, 44, 6, 97, 76, 9, 4, 15],\n",
       " ['purple', 55, 67, 16, 104, 52, 3, 6, 165],\n",
       " ['saddlebrown', 123, 17, 3, 42, 33, 8, 3, 11],\n",
       " ['royalblue', 43, 32, 11, 95, 40, 8, 3, 60],\n",
       " ['skyblue1', 17, 5, 5, 30, 8, 1, 0, 5],\n",
       " ['orangered4', 28, 20, 4, 67, 28, 2, 0, 44],\n",
       " ['darkmagenta', 84, 21, 4, 36, 33, 1, 3, 22],\n",
       " ['midnightblue', 125, 45, 14, 91, 57, 2, 2, 40],\n",
       " ['darkolivegreen4', 10, 9, 0, 16, 13, 0, 0, 8],\n",
       " ['honeydew1', 14, 11, 2, 39, 13, 1, 0, 10],\n",
       " ['orange', 108, 26, 8, 53, 52, 5, 6, 19],\n",
       " ['green', 55, 90, 28, 103, 51, 14, 10, 188],\n",
       " ['antiquewhite4', 33, 7, 2, 17, 14, 2, 0, 3],\n",
       " ['violet', 77, 24, 7, 50, 24, 1, 3, 37],\n",
       " ['tan', 151, 41, 8, 79, 49, 21, 9, 65],\n",
       " ['lightsteelblue1', 14, 21, 6, 18, 11, 0, 0, 115],\n",
       " ['lightgreen', 63, 43, 14, 97, 53, 1, 3, 62],\n",
       " ['turquoise', 663, 318, 115, 539, 382, 28, 35, 1489],\n",
       " ['darkred', 42, 25, 11, 88, 54, 2, 1, 64]]"
      ]
     },
     "execution_count": 57,
     "metadata": {},
     "output_type": "execute_result"
    }
   ],
   "source": [
    "moddupa"
   ]
  },
  {
   "cell_type": "code",
   "execution_count": null,
   "metadata": {},
   "outputs": [],
   "source": [
    "modstra #['grey60', 'blastula_gastrula_pluteus_not_prism', 409, 40, 3, 1, 1, 1, 0, 9]"
   ]
  },
  {
   "cell_type": "markdown",
   "metadata": {},
   "source": [
    "#### Hyp\u001c",
    "ergeometric test on origin (strata) age"
   ]
  },
  {
   "cell_type": "code",
   "execution_count": null,
   "metadata": {},
   "outputs": [],
   "source": [
    "M=26054\n",
    "n=tbc['Ambulacraria']\n",
    "N=len()\n",
    "stats.scipy.stats.hypergeom(M, n, N)"
   ]
  },
  {
   "cell_type": "code",
   "execution_count": 157,
   "metadata": {},
   "outputs": [
    {
     "data": {
      "text/plain": [
       "26054"
      ]
     },
     "execution_count": 157,
     "metadata": {},
     "output_type": "execute_result"
    }
   ],
   "source": [
    "sum([sum(e.values()) for e in gbstr.values()])\n"
   ]
  },
  {
   "cell_type": "code",
   "execution_count": 273,
   "metadata": {},
   "outputs": [],
   "source": [
    "tbc=defaultdict(int)\n",
    "for e in gbstr.values():\n",
    "    for c in selclades:\n",
    "        tbc[c]+=e[c]"
   ]
  },
  {
   "cell_type": "code",
   "execution_count": 284,
   "metadata": {},
   "outputs": [],
   "source": [
    "hypres=[]\n",
    "for m,e in gbstr.items():\n",
    "    pv=[]\n",
    "    #print(e)\n",
    "    for c in selclades:\n",
    "        hpd=stats.hypergeom(26054, tbc[c],sum(e.values()))\n",
    "        pv.append(hpd.pmf(e[c]))\n",
    "    hypres.append([m,moddesc[m]]+pv)\n",
    "    "
   ]
  },
  {
   "cell_type": "code",
   "execution_count": 139,
   "metadata": {},
   "outputs": [],
   "source": [
    "modstrati=pd.DataFrame(modstra, columns = ['mod', 'mod_desc']+selclades)  "
   ]
  },
  {
   "cell_type": "code",
   "execution_count": 288,
   "metadata": {},
   "outputs": [],
   "source": [
    "modstrati.to_csv('strati_wgcna_nb.txt',sep='\\t')"
   ]
  },
  {
   "cell_type": "code",
   "execution_count": 285,
   "metadata": {},
   "outputs": [],
   "source": [
    "modstratihyp=pd.DataFrame(hypres, columns = ['mod', 'mod_desc']+selclades)  "
   ]
  },
  {
   "cell_type": "code",
   "execution_count": 287,
   "metadata": {},
   "outputs": [],
   "source": [
    "modstratihyp.to_csv('strati_wgcna_phyp.txt',sep='\\t')"
   ]
  },
  {
   "cell_type": "markdown",
   "metadata": {},
   "source": [
    "#### Hypergeometric test on duplication ages"
   ]
  },
  {
   "cell_type": "code",
   "execution_count": null,
   "metadata": {},
   "outputs": [],
   "source": [
    "gbdpa\n",
    "\n"
   ]
  },
  {
   "cell_type": "code",
   "execution_count": 58,
   "metadata": {},
   "outputs": [],
   "source": [
    "tbd=defaultdict(int)\n",
    "for e in gbdpa.values():\n",
    "    for c in selDupCl:\n",
    "        tbd[c]+=e[c]"
   ]
  },
  {
   "cell_type": "code",
   "execution_count": 59,
   "metadata": {},
   "outputs": [],
   "source": [
    "hypresa=[]\n",
    "for m,e in gbdpa.items():\n",
    "    pv=[]\n",
    "    #print(e)\n",
    "    for c in selDupCl:\n",
    "        hpd=stats.hypergeom(31313, tbd[c],sum(e.values()))\n",
    "        pv.append(hpd.pmf(e[c]))\n",
    "    hypresa.append([m]+pv)"
   ]
  },
  {
   "cell_type": "code",
   "execution_count": 60,
   "metadata": {},
   "outputs": [
    {
     "data": {
      "text/plain": [
       "defaultdict(int,\n",
       "            {'Bila': 4852,\n",
       "             'Deuterostomia': 2440,\n",
       "             'Chordata': 707,\n",
       "             'Vertebrata': 4754,\n",
       "             'Gnathostomata': 2954,\n",
       "             'Osteichthyes': 261,\n",
       "             'Actinopterygii': 236,\n",
       "             'Lepocu': 5846})"
      ]
     },
     "execution_count": 60,
     "metadata": {},
     "output_type": "execute_result"
    }
   ],
   "source": [
    "tbd"
   ]
  },
  {
   "cell_type": "code",
   "execution_count": 61,
   "metadata": {},
   "outputs": [],
   "source": [
    "modduplage=pd.DataFrame(moddupa, columns = ['mod']+selDupCl)"
   ]
  },
  {
   "cell_type": "code",
   "execution_count": 63,
   "metadata": {},
   "outputs": [],
   "source": [
    "modduplage.to_csv('duplage_wgcna_gar_nb.txt',sep='\\t')"
   ]
  },
  {
   "cell_type": "code",
   "execution_count": 64,
   "metadata": {},
   "outputs": [],
   "source": [
    "modduplahyp=pd.DataFrame(hypresa, columns = ['mod']+selDupCl)"
   ]
  },
  {
   "cell_type": "code",
   "execution_count": 65,
   "metadata": {},
   "outputs": [],
   "source": [
    "modduplahyp.to_csv('duplage_wgcna_gar_phyp.txt',sep='\\t')"
   ]
  },
  {
   "cell_type": "code",
   "execution_count": 155,
   "metadata": {},
   "outputs": [],
   "source": [
    "igl=[[g,PlivNames.get(g,'-'),genephylo.get(g,'Parliv'),m,moddesc[m]] for g,m in gene2mod.items()]"
   ]
  },
  {
   "cell_type": "code",
   "execution_count": 156,
   "metadata": {},
   "outputs": [],
   "source": [
    "gstrmod=pd.DataFrame(igl, columns = ['gid', 'gname','Strata','Module','ModuleDesc'])  "
   ]
  },
  {
   "cell_type": "code",
   "execution_count": null,
   "metadata": {},
   "outputs": [],
   "source": [
    "selclades=['Eumetazoa','Bilateria','Deuterostomia','Ambulacraria', 'Echinodermata','Eleutherozoa','Echinozoa','Echinoidea']"
   ]
  },
  {
   "cell_type": "code",
   "execution_count": 291,
   "metadata": {},
   "outputs": [
    {
     "data": {
      "text/html": [
       "<div>\n",
       "<style scoped>\n",
       "    .dataframe tbody tr th:only-of-type {\n",
       "        vertical-align: middle;\n",
       "    }\n",
       "\n",
       "    .dataframe tbody tr th {\n",
       "        vertical-align: top;\n",
       "    }\n",
       "\n",
       "    .dataframe thead th {\n",
       "        text-align: right;\n",
       "    }\n",
       "</style>\n",
       "<table border=\"1\" class=\"dataframe\">\n",
       "  <thead>\n",
       "    <tr style=\"text-align: right;\">\n",
       "      <th></th>\n",
       "      <th>gid</th>\n",
       "      <th>gname</th>\n",
       "      <th>Strata</th>\n",
       "      <th>Module</th>\n",
       "      <th>ModuleDesc</th>\n",
       "    </tr>\n",
       "  </thead>\n",
       "  <tbody>\n",
       "    <tr>\n",
       "      <th>3574</th>\n",
       "      <td>PL00006</td>\n",
       "      <td>-</td>\n",
       "      <td>Parliv</td>\n",
       "      <td>lightyellow</td>\n",
       "      <td>lantern</td>\n",
       "    </tr>\n",
       "    <tr>\n",
       "      <th>3575</th>\n",
       "      <td>PL00167</td>\n",
       "      <td>unchar-20864</td>\n",
       "      <td>Echinoidea</td>\n",
       "      <td>lightyellow</td>\n",
       "      <td>lantern</td>\n",
       "    </tr>\n",
       "    <tr>\n",
       "      <th>3576</th>\n",
       "      <td>PL00185</td>\n",
       "      <td>unchar-14422</td>\n",
       "      <td>Echinoidea</td>\n",
       "      <td>lightyellow</td>\n",
       "      <td>lantern</td>\n",
       "    </tr>\n",
       "    <tr>\n",
       "      <th>3577</th>\n",
       "      <td>PL00216</td>\n",
       "      <td>unchar-10254</td>\n",
       "      <td>Bilateria</td>\n",
       "      <td>lightyellow</td>\n",
       "      <td>lantern</td>\n",
       "    </tr>\n",
       "    <tr>\n",
       "      <th>3578</th>\n",
       "      <td>PL00263</td>\n",
       "      <td>aces-2</td>\n",
       "      <td>Eumetazoa</td>\n",
       "      <td>lightyellow</td>\n",
       "      <td>lantern</td>\n",
       "    </tr>\n",
       "    <tr>\n",
       "      <th>...</th>\n",
       "      <td>...</td>\n",
       "      <td>...</td>\n",
       "      <td>...</td>\n",
       "      <td>...</td>\n",
       "      <td>...</td>\n",
       "    </tr>\n",
       "    <tr>\n",
       "      <th>3923</th>\n",
       "      <td>PL41273</td>\n",
       "      <td>unchar-21226</td>\n",
       "      <td>Eumetazoa</td>\n",
       "      <td>lightyellow</td>\n",
       "      <td>lantern</td>\n",
       "    </tr>\n",
       "    <tr>\n",
       "      <th>3924</th>\n",
       "      <td>PL41310</td>\n",
       "      <td>unchar-13618</td>\n",
       "      <td>Eumetazoa</td>\n",
       "      <td>lightyellow</td>\n",
       "      <td>lantern</td>\n",
       "    </tr>\n",
       "    <tr>\n",
       "      <th>3925</th>\n",
       "      <td>PL41327</td>\n",
       "      <td>rtbs-36</td>\n",
       "      <td>Eumetazoa</td>\n",
       "      <td>lightyellow</td>\n",
       "      <td>lantern</td>\n",
       "    </tr>\n",
       "    <tr>\n",
       "      <th>3926</th>\n",
       "      <td>PL41386</td>\n",
       "      <td>unchar-23794</td>\n",
       "      <td>Eumetazoa</td>\n",
       "      <td>lightyellow</td>\n",
       "      <td>lantern</td>\n",
       "    </tr>\n",
       "    <tr>\n",
       "      <th>3927</th>\n",
       "      <td>PL41463</td>\n",
       "      <td>dmbt1-49</td>\n",
       "      <td>Eumetazoa</td>\n",
       "      <td>lightyellow</td>\n",
       "      <td>lantern</td>\n",
       "    </tr>\n",
       "  </tbody>\n",
       "</table>\n",
       "<p>354 rows × 5 columns</p>\n",
       "</div>"
      ],
      "text/plain": [
       "          gid         gname      Strata       Module ModuleDesc\n",
       "3574  PL00006             -      Parliv  lightyellow    lantern\n",
       "3575  PL00167  unchar-20864  Echinoidea  lightyellow    lantern\n",
       "3576  PL00185  unchar-14422  Echinoidea  lightyellow    lantern\n",
       "3577  PL00216  unchar-10254   Bilateria  lightyellow    lantern\n",
       "3578  PL00263        aces-2   Eumetazoa  lightyellow    lantern\n",
       "...       ...           ...         ...          ...        ...\n",
       "3923  PL41273  unchar-21226   Eumetazoa  lightyellow    lantern\n",
       "3924  PL41310  unchar-13618   Eumetazoa  lightyellow    lantern\n",
       "3925  PL41327       rtbs-36   Eumetazoa  lightyellow    lantern\n",
       "3926  PL41386  unchar-23794   Eumetazoa  lightyellow    lantern\n",
       "3927  PL41463      dmbt1-49   Eumetazoa  lightyellow    lantern\n",
       "\n",
       "[354 rows x 5 columns]"
      ]
     },
     "execution_count": 291,
     "metadata": {},
     "output_type": "execute_result"
    }
   ],
   "source": [
    "#gstrmod[gstrmod.Strata.str.contains('Echinozoa')]#.to_csv('novel_in_echinoidea.txt',sep='\\t')\n",
    "gstrmod[gstrmod.Module==('lightyellow')]#.to_csv('novel_in_echinoidea.txt',sep='\\t')"
   ]
  },
  {
   "cell_type": "code",
   "execution_count": 292,
   "metadata": {},
   "outputs": [],
   "source": [
    "gstrmod.to_csv('genes_wgcna_strata.txt',sep='\\t')"
   ]
  },
  {
   "cell_type": "code",
   "execution_count": null,
   "metadata": {},
   "outputs": [],
   "source": [
    "for col in cols:\n",
    "    col_zscore = col + '_zscore'\n",
    "    df[col_zscore] = (df[col] - df[col].mean())/df[col].std(ddof=0)"
   ]
  },
  {
   "cell_type": "code",
   "execution_count": null,
   "metadata": {},
   "outputs": [],
   "source": [
    "modstratihyp"
   ]
  },
  {
   "cell_type": "markdown",
   "metadata": {},
   "source": [
    "## Output"
   ]
  }
 ],
 "metadata": {
  "kernelspec": {
   "display_name": "Python 3 (ipykernel)",
   "language": "python",
   "name": "python3"
  },
  "language_info": {
   "codemirror_mode": {
    "name": "ipython",
    "version": 3
   },
   "file_extension": ".py",
   "mimetype": "text/x-python",
   "name": "python",
   "nbconvert_exporter": "python",
   "pygments_lexer": "ipython3",
   "version": "3.9.16"
  }
 },
 "nbformat": 4,
 "nbformat_minor": 4
}
