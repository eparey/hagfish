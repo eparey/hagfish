{
 "cells": [
  {
   "cell_type": "code",
   "execution_count": 1,
   "metadata": {},
   "outputs": [
    {
     "name": "stderr",
     "output_type": "stream",
     "text": [
      "/Users/fmarletaz/miniconda3/envs/py39/lib/python3.9/site-packages/ete3-3.1.2-py3.7.egg/ete3/evol/parser/codemlparser.py:221: SyntaxWarning: \"is\" with a literal. Did you mean \"==\"?\n",
      "/Users/fmarletaz/miniconda3/envs/py39/lib/python3.9/site-packages/ete3-3.1.2-py3.7.egg/ete3/evol/parser/codemlparser.py:221: SyntaxWarning: \"is\" with a literal. Did you mean \"==\"?\n"
     ]
    }
   ],
   "source": [
    "import csv\n",
    "from glob import glob\n",
    "from pybedtools import BedTool\n",
    "from collections import defaultdict\n",
    "from collections import Counter\n",
    "from ete3 import Tree\n",
    "from ete3 import PhyloTree\n",
    "from itertools import chain\n",
    "import itertools\n",
    "import pandas as pd  \n",
    "from numpy import nan\n",
    "from copy import deepcopy"
   ]
  },
  {
   "cell_type": "code",
   "execution_count": 2,
   "metadata": {},
   "outputs": [],
   "source": [
    "%load_ext autoreload\n",
    "%autoreload 2"
   ]
  },
  {
   "cell_type": "code",
   "execution_count": 3,
   "metadata": {},
   "outputs": [],
   "source": [
    "def genePos(gfile):\n",
    "    genePos,geneName={},{}\n",
    "    for rc in csv.reader(open(gfile),delimiter='\\t'):\n",
    "        if rc[0].startswith('Gene'): continue\n",
    "        genePos[rc[0]]=(rc[1],int(rc[2]),int(rc[3]))\n",
    "        if len(rc)>=5:\n",
    "            geneName[rc[0]]=rc[4]\n",
    "        else:\n",
    "            geneName[rc[0]]='NA'\n",
    "    return genePos,geneName"
   ]
  },
  {
   "cell_type": "code",
   "execution_count": 4,
   "metadata": {},
   "outputs": [],
   "source": [
    "def getAnc(nd,sptr):\n",
    "    tsp=list(set([lf.species for lf in nd])) \n",
    "    tanc=sptr.get_common_ancestor(tsp).name if len(tsp)>1 else tsp[0]\n",
    "    return tanc"
   ]
  },
  {
   "cell_type": "code",
   "execution_count": 5,
   "metadata": {},
   "outputs": [],
   "source": [
    "def decoTree(t,outtax=['Acapla','Strpur','Sackow','Ptyfla']):\n",
    "    for l in t:\n",
    "        sp,gid=l.name.split('_',1)\n",
    "        gid=gid.split('.')[0]\n",
    "        l.add_features(species=sp,gid=gid)\n",
    "    #first, reset rooting with mid-point rooting\n",
    "    R = t.get_midpoint_outgroup()\n",
    "    t.set_outgroup(R)\n",
    "    #then root with deuterostome ancestor\n",
    "    sot=[l for l in t if l.species in outtax] \n",
    "    if len(sot)>0:\n",
    "        anc=t.get_common_ancestor(sot)\n",
    "        if not anc==t:\n",
    "            t.set_outgroup(anc)\n",
    "    return t"
   ]
  },
  {
   "cell_type": "code",
   "execution_count": 6,
   "metadata": {},
   "outputs": [],
   "source": [
    "def checkDup(t,spPos):\n",
    "    # determine most frequent CLG in case several amphioxus genes have distinct clgs\n",
    "    BflTax=[l for l in t if l.species=='Braflo']        \n",
    "    clgs=[BflN[l.gid] for l in BflTax]\n",
    "    clgCt=Counter(clgs)\n",
    "    #print(clgCt)\n",
    "    mclg=clgCt.most_common(1)[0][0]\n",
    "    anDup=defaultdict(list)\n",
    "    for l in t:\n",
    "        if l.species in spPos:\n",
    "            if not l.gid in spPos[l.species]: continue\n",
    "            chrom,stt,end=spPos[l.species][l.gid]\n",
    "            if clg_assign[mclg][l.species][chrom]=='': continue\n",
    "            tet=clg_assign[mclg][l.species][chrom]\n",
    "            #print l.species,l.gid,spPos[l.species][l.gid],clg,tet,spName[l.species][l.gid]   \n",
    "            anDup[tet].append(l.name)\n",
    "    return clgCt,anDup"
   ]
  },
  {
   "cell_type": "code",
   "execution_count": 7,
   "metadata": {},
   "outputs": [],
   "source": [
    "def checkDupr(t,clg,spPos,clgAsgn):\n",
    "    # determine most frequent CLG in case several amphioxus genes have distinct clgs\n",
    "    anDup=defaultdict(list)\n",
    "    for l in t:\n",
    "        if l.species in set(['Galgal','Xentro','Chipun','Lepocu']):\n",
    "            if not l.gid in spPos[l.species]: continue\n",
    "            chrom,stt,end=spPos[l.species][l.gid]\n",
    "            #if chrom not in clgAsgn[clg][l.species][chrom]: continue\n",
    "            tet=clgAsgn[clg][l.species][chrom]\n",
    "            #print(l.species,l.gid,spPos[l.species][l.gid],clg,tet,spName[l.species][l.gid])\n",
    "            if not tet==set():\n",
    "                anDup[tet].append(l.name)\n",
    "    return anDup"
   ]
  },
  {
   "cell_type": "code",
   "execution_count": 8,
   "metadata": {},
   "outputs": [],
   "source": [
    "def oriDup(t,anDup,sptr):\n",
    "    stDup={}\n",
    "    for nd in anDup:\n",
    "        if len(anDup[nd])>1:\n",
    "            stDup[nd]=getAnc(t.get_common_ancestor(anDup[nd]),sptr)\n",
    "    rDup=[nd[-1] for nd in anDup]\n",
    "    if all(item in rDup for item in ['1','2']):\n",
    "        otn=list(chain(*[anDup[nd] for nd in anDup]))\n",
    "        stDup['12']=getAnc(t.get_common_ancestor(otn),sptr)\n",
    "    if 'alpha1' in anDup and 'beta1' in anDup:\n",
    "        otn=list(chain(*[anDup[nd] for nd in ['alpha1','beta1']]))\n",
    "        stDup['ab1']=getAnc(t.get_common_ancestor(otn),sptr)\n",
    "    if 'alpha2' in anDup and 'beta2' in anDup:\n",
    "        otn=list(chain(*[anDup[nd] for nd in ['alpha2','beta2']]))\n",
    "        stDup['ab2']=getAnc(t.get_common_ancestor(otn),sptr)\n",
    "    return stDup"
   ]
  },
  {
   "cell_type": "code",
   "execution_count": 9,
   "metadata": {},
   "outputs": [],
   "source": [
    "def oriDup12(t,anDup,sptr):\n",
    "    stDup={}\n",
    "    #for nd in anDup:\n",
    "        #if len(anDup[nd])>1:\n",
    "            #stDup[nd]=getAnc(t.get_common_ancestor(anDup[nd]),sptr)\n",
    "    rDup=[nd[-1] for nd in anDup]\n",
    "    if 'alpha1' in anDup or 'beta1' in anDup:\n",
    "        otn=list(chain(*[anDup[nd] for nd in ['alpha1','beta1']]))\n",
    "        stDup['1']=t.get_common_ancestor(otn)\n",
    "    if 'alpha2' in anDup or 'beta2' in anDup:\n",
    "        otn=list(chain(*[anDup[nd] for nd in ['alpha2','beta2']]))\n",
    "        stDup['2']=t.get_common_ancestor(otn)\n",
    "    return stDup"
   ]
  },
  {
   "cell_type": "code",
   "execution_count": 10,
   "metadata": {},
   "outputs": [],
   "source": [
    "def oriDupNd(t,anDup,sptr):\n",
    "    stDup={}\n",
    "    for nd in anDup:\n",
    "        if len(anDup[nd])>1:\n",
    "            stDup[nd]=t.get_common_ancestor(anDup[nd])\n",
    "    rDup=[nd[-1] for nd in anDup]\n",
    "    if all(item in rDup for item in ['1','2']):\n",
    "        otn=list(chain(*[anDup[nd] for nd in anDup]))\n",
    "        stDup['12']=t.get_common_ancestor(otn)\n",
    "    if 'alpha1' in anDup and 'beta1' in anDup:\n",
    "        otn=list(chain(*[anDup[nd] for nd in ['alpha1','beta1']]))\n",
    "        stDup['ab1']=t.get_common_ancestor(otn)\n",
    "    if 'alpha2' in anDup and 'beta2' in anDup:\n",
    "        otn=list(chain(*[anDup[nd] for nd in ['alpha2','beta2']]))\n",
    "        stDup['ab2']=t.get_common_ancestor(otn)\n",
    "    return stDup"
   ]
  },
  {
   "cell_type": "code",
   "execution_count": 11,
   "metadata": {},
   "outputs": [],
   "source": [
    "def age(node,sptr):\n",
    "    tsp=list(set([lf.species for lf in node]))\n",
    "    if len(tsp)==1:\n",
    "        return tsp[0]\n",
    "    else:\n",
    "        tanc=sptr.get_common_ancestor(tsp).name\n",
    "        return tanc"
   ]
  },
  {
   "cell_type": "code",
   "execution_count": 12,
   "metadata": {},
   "outputs": [],
   "source": [
    "def checkCyclo(t,spT):\n",
    "    spCycl=[l.name for l in spT.search_nodes(name=\"Cyclostomata\")[0].get_leaves()]\n",
    "    for l in t:\n",
    "        cla='Cyclostomata' if l.species in spCycl else 'Other'\n",
    "        l.add_features(clade=cla)\n",
    "    dec=[]\n",
    "    acd=[]\n",
    "    for st in t.get_monophyletic(values=['Cyclostomata'], target_attr=\"clade\"):\n",
    "        #dupnds=[age(sst) for sst in st.search_nodes(D='Y') if not len(set([l.species for l in sst.get_leaves()]))==1]\n",
    "        dupnds=[sst for sst in st.search_nodes(D='Y') if not len(set([l.species for l in sst.get_leaves()]))==1]\n",
    "        #print(dupnds)\n",
    "        #print(st.get_ascii(attributes=[\"gid\",\"species\", \"clade\",\"D\"], show_internal=True))\n",
    "        #ntrees, ndups, sptrees =  st.get_speciation_trees()\n",
    "        dec.append(len(dupnds))\n",
    "        for nd in dupnds:\n",
    "            acd.append([l.name for l in nd.get_leaves()])\n",
    "        #print(ntrees, ndups)\n",
    "        #for std in sptrees:\n",
    "        #    print(std.get_ascii(attributes=[\"species\", \"clade\"], show_internal=False))\n",
    "    return dec,acd"
   ]
  },
  {
   "cell_type": "markdown",
   "metadata": {},
   "source": [
    "#### Load CLG assignment for the 3 species that are in the master table"
   ]
  },
  {
   "cell_type": "code",
   "execution_count": 13,
   "metadata": {},
   "outputs": [],
   "source": [
    "Leri2Cpun={rc[1]:rc[0] for rc in csv.reader(open('geneInfo/cpun-leri.txt'),delimiter='\\t')}"
   ]
  },
  {
   "cell_type": "code",
   "execution_count": 14,
   "metadata": {},
   "outputs": [],
   "source": [
    "clg_assign=defaultdict( lambda: defaultdict(lambda: defaultdict( set )))\n",
    "\n",
    "for rc in csv.reader(open('geneInfo/clg_assign_wsk12r.txt'),delimiter='\\t'):\n",
    "    if rc[0]=='CLG': continue\n",
    "    #print(rc)\n",
    "    clg,dup,gga,loc,xtr,ler=rc\n",
    "    clg_assign[clg]['Galgal'][gga.replace('GGA','')].add(dup)\n",
    "    for lc in loc.split(','):\n",
    "        clg_assign[clg]['Lepocu'][lc.replace('LOC','LG')].add(dup)\n",
    "    for lc in ler.split(','):\n",
    "        if lc in Leri2Cpun:\n",
    "            cp=Leri2Cpun[lc]\n",
    "            clg_assign[clg]['Chipun'][cp].add(dup)    \n",
    "    clg_assign[clg]['Xentro'][xtr.replace('XTR','XTR')].add(dup)"
   ]
  },
  {
   "cell_type": "code",
   "execution_count": 15,
   "metadata": {},
   "outputs": [],
   "source": [
    "clg_assign2=defaultdict( lambda: defaultdict(lambda: defaultdict( set )))\n",
    "for clg in clg_assign:\n",
    "    for sp in clg_assign[clg]:\n",
    "        for chm in clg_assign[clg][sp]:\n",
    "            evts='/'.join(list(clg_assign[clg][sp][chm]))\n",
    "            #if '-' in evts or '-' in chm: continue\n",
    "            if '/' in evts or '-' in evts or '-' in chm: continue\n",
    "            #print(clg,sp,chm,evts)\n",
    "            clg_assign2[clg][sp][chm]=evts"
   ]
  },
  {
   "cell_type": "code",
   "execution_count": 16,
   "metadata": {},
   "outputs": [
    {
     "data": {
      "text/plain": [
       "defaultdict(set,\n",
       "            {'XTR6': 'alpha1',\n",
       "             'XTR10': 'beta1',\n",
       "             'XTR9': 'alpha2',\n",
       "             'XTR2': 'beta2'})"
      ]
     },
     "execution_count": 16,
     "metadata": {},
     "output_type": "execute_result"
    }
   ],
   "source": [
    "clg_assign2['CLGB']['Xentro']#['XTR6']"
   ]
  },
  {
   "cell_type": "code",
   "execution_count": null,
   "metadata": {},
   "outputs": [],
   "source": [
    "clg_assign2"
   ]
  },
  {
   "cell_type": "code",
   "execution_count": 18,
   "metadata": {
    "tags": []
   },
   "outputs": [],
   "source": [
    "ckG=set()\n",
    "with open('geneInfo/Strpur_info.txt','w') as out:\n",
    "    for r in csv.reader(open(\"GCF_0000022355_Spur_5_genes.wn.bed\"),delimiter='\\t'):\n",
    "        #print(r[13],r[0],r[1],r[2])\n",
    "        if not r[13] in ckG:\n",
    "            out.write(\"{}\\t{}\\t{}\\t{}\\n\".format(r[13],r[0],r[1],r[2]))\n",
    "            ckG.add(r[13])\n",
    "    "
   ]
  },
  {
   "cell_type": "markdown",
   "metadata": {},
   "source": [
    "#### Load gene positions for the species "
   ]
  },
  {
   "cell_type": "code",
   "execution_count": 19,
   "metadata": {},
   "outputs": [],
   "source": [
    "Loc,LocN=genePos('geneInfo/Lepocu_info.txt')\n",
    "Gga,GgaN=genePos('geneInfo/Galga_info.txt')\n",
    "Bfl,BflN=genePos('geneInfo/Braflo_info_cor.txt')\n",
    "Xtr,XtrN=genePos('geneInfo/Xentro_info_v9.txt')\n",
    "Pma,PmaN=genePos('geneInfo/Petmar2_info.txt')\n",
    "Pat,PatN=genePos('geneInfo/Pata_info.txt')\n",
    "Spu,SpuN=genePos('geneInfo/Strpur_info.txt')\n",
    "Cpu,CpuN=genePos('geneInfo/Chipun_info.txt')\n"
   ]
  },
  {
   "cell_type": "code",
   "execution_count": 20,
   "metadata": {},
   "outputs": [],
   "source": [
    "Hsa,HsaN=genePos('geneInfo/Homsap_info.txt')"
   ]
  },
  {
   "cell_type": "code",
   "execution_count": 21,
   "metadata": {},
   "outputs": [],
   "source": [
    "spPos={'Lepocu':Loc,'Galgal':Gga,'Xentro':Xtr,'Braflo':Bfl,'Petmar':Pma,'Parata':Pat,'Strpur':Spu,'Chipun':Cpu}\n",
    "spName={'Lepocu':LocN,'Galgal':GgaN,'Braflo':BflN,'Xentro':XtrN}"
   ]
  },
  {
   "cell_type": "code",
   "execution_count": 22,
   "metadata": {},
   "outputs": [],
   "source": [
    "spT=Tree(open('deut2.tre').read(), format=1)"
   ]
  },
  {
   "cell_type": "code",
   "execution_count": 23,
   "metadata": {},
   "outputs": [
    {
     "data": {
      "text/plain": [
       "('chrm10', 16236992, 16320832)"
      ]
     },
     "execution_count": 23,
     "metadata": {},
     "output_type": "execute_result"
    }
   ],
   "source": [
    "spPos['Petmar']['POLE']"
   ]
  },
  {
   "cell_type": "code",
   "execution_count": 24,
   "metadata": {},
   "outputs": [
    {
     "name": "stdout",
     "output_type": "stream",
     "text": [
      "['ARHGAP11A', 'AC011295.1', 'NLRP7', 'AP006285.3', 'SURF2', 'GSTT2B', 'CRHR1', 'TSEN34', 'GPX6', 'GP6']\n"
     ]
    }
   ],
   "source": [
    "print(list(HsaN.values())[0:10])"
   ]
  },
  {
   "cell_type": "code",
   "execution_count": 25,
   "metadata": {},
   "outputs": [
    {
     "name": "stdout",
     "output_type": "stream",
     "text": [
      "27057\n"
     ]
    }
   ],
   "source": [
    "print(len(spPos['Strpur']))"
   ]
  },
  {
   "cell_type": "markdown",
   "metadata": {},
   "source": [
    "# Check generax trees"
   ]
  },
  {
   "cell_type": "markdown",
   "metadata": {},
   "source": [
    "read trees from generax and reroot them with Ambulacraria"
   ]
  },
  {
   "cell_type": "code",
   "execution_count": 26,
   "metadata": {},
   "outputs": [],
   "source": [
    "rTrees={}\n",
    "nclgbfl=[]\n",
    "strees={}\n",
    "nexcl=0\n",
    "for l in open('brofams_0221_rec.trees'):\n",
    "    o,ts=l.strip().split(':',1)\n",
    "    og=o.split('/')[-1].rsplit('_',1)[0]\n",
    "    #print(og)\n",
    "    strees[og]=ts\n",
    "    t=Tree(ts, format=1)\n",
    "    try:\n",
    "        t=decoTree(t)\n",
    "        spl=list(set([l.species for l in t]))\n",
    "    #print(spl)\n",
    "        if len(spl)<3: #or 'Braflo' not in spl:\n",
    "            nexcl+=1\n",
    "            continue\n",
    "        rTrees[og]=t\n",
    "    except:\n",
    "        print(\"troubles with {}\".format(og))"
   ]
  },
  {
   "cell_type": "code",
   "execution_count": 27,
   "metadata": {},
   "outputs": [
    {
     "data": {
      "text/plain": [
       "Tree node 'n449' (0x1da354e8)"
      ]
     },
     "execution_count": 27,
     "metadata": {},
     "output_type": "execute_result"
    }
   ],
   "source": [
    "rTrees['OG_2222']"
   ]
  },
  {
   "cell_type": "code",
   "execution_count": 28,
   "metadata": {},
   "outputs": [
    {
     "data": {
      "text/plain": [
       "Tree node 'n449' (0x1bf84819)"
      ]
     },
     "execution_count": 28,
     "metadata": {},
     "output_type": "execute_result"
    }
   ],
   "source": [
    "decoTree(Tree(strees['OG_2222'],format=1))"
   ]
  },
  {
   "cell_type": "markdown",
   "metadata": {},
   "source": [
    "Split gene families that show deep duplications "
   ]
  },
  {
   "cell_type": "code",
   "execution_count": 29,
   "metadata": {},
   "outputs": [],
   "source": [
    "verts=set([l.name for l in spT.search_nodes(name='Vertebrata')[0]])\n",
    "dupDeut=defaultdict(int)\n",
    "rrTrees={}\n",
    "j=0\n",
    "for og,t in rTrees.items():\n",
    "    j+=1\n",
    "    vch=[]\n",
    "    #print(og)\n",
    "    #print(t.get_ascii(attributes=[\"species\", \"name\",'D'], show_internal=True))\n",
    "\n",
    "    for n in t.search_nodes(D='Y'):\n",
    "        if age(n,spT)=='Deuterostomia':\n",
    "            #print(n.name)\n",
    "            #print(n.get_ascii(attributes=[\"species\", \"name\",'D'], show_internal=True))\n",
    "            vert_ct,dup_nd=[],[]\n",
    "            for sn in n.children:\n",
    "                spl=set([l.species for l in sn])\n",
    "                nvert=sum([1 if s in verts else 0 for s in spl])\n",
    "                vert_ct.append(nvert)\n",
    "                dup_nd.append(sn)\n",
    "            if vert_ct[0]>0 and vert_ct[1]>0: vch.extend(dup_nd)\n",
    "    #print(vch)\n",
    "    if len(vch)>1:\n",
    "        for i,sn in enumerate(vch,start=1):\n",
    "            #print(sn.name,sn.get_ascii(attributes=[\"species\", \"name\",'D'], show_internal=True))\n",
    "            rrTrees['{}.{}'.format(og,i)]=sn\n",
    "            \n",
    "    elif len(vch)==1:\n",
    "        rrTrees[og]=vch[0]\n",
    "    else:\n",
    "        rrTrees[og]=t\n",
    "    #if j==2: break"
   ]
  },
  {
   "cell_type": "code",
   "execution_count": 30,
   "metadata": {},
   "outputs": [
    {
     "name": "stdout",
     "output_type": "stream",
     "text": [
      "13612\n"
     ]
    }
   ],
   "source": [
    "print(len(rrTrees))"
   ]
  },
  {
   "cell_type": "code",
   "execution_count": 31,
   "metadata": {},
   "outputs": [],
   "source": [
    "from copy import deepcopy"
   ]
  },
  {
   "cell_type": "code",
   "execution_count": 32,
   "metadata": {},
   "outputs": [
    {
     "data": {
      "text/plain": [
       "dict_items([('Galgal', defaultdict(<class 'set'>, {'1': {'alpha1'}, '4': {'beta1'}, '3': {'alpha2'}, '23': {'beta2'}})), ('Lepocu', defaultdict(<class 'set'>, {'LG3': {'alpha1'}, 'LG7': {'beta1', 'alpha1'}, 'LG1': {'alpha2'}, 'LG6': {'beta2'}})), ('Chipun', defaultdict(<class 'set'>, {'chr6': {'alpha1'}, 'chr12': {'alpha1'}, 'chr15': {'beta1'}, 'chr27': {'beta2'}})), ('Xentro', defaultdict(<class 'set'>, {'XTR2': {'beta2', 'alpha1'}, 'XTR8': {'beta1'}, 'XTR5': {'alpha2'}}))])"
      ]
     },
     "execution_count": 32,
     "metadata": {},
     "output_type": "execute_result"
    }
   ],
   "source": [
    "clg_assign['CLGK'].items()"
   ]
  },
  {
   "cell_type": "code",
   "execution_count": 33,
   "metadata": {},
   "outputs": [
    {
     "data": {
      "text/plain": [
       "[('OG_10006', Tree node 'n41' (0x1073977c)),\n",
       " ('OG_1000', Tree node 'n241' (0x1bf85225)),\n",
       " ('OG_1001', Tree node 'n201' (0x1bf82079)),\n",
       " ('OG_1002', Tree node 'n145' (0x1bf85240)),\n",
       " ('OG_10030', Tree node 'n41' (0x1bf8520a))]"
      ]
     },
     "execution_count": 33,
     "metadata": {},
     "output_type": "execute_result"
    }
   ],
   "source": [
    "list(rrTrees.items())[0:5]\n"
   ]
  },
  {
   "cell_type": "code",
   "execution_count": null,
   "metadata": {},
   "outputs": [],
   "source": []
  },
  {
   "cell_type": "markdown",
   "metadata": {},
   "source": [
    "### Make a table for Dan"
   ]
  },
  {
   "cell_type": "code",
   "execution_count": 186,
   "metadata": {},
   "outputs": [],
   "source": [
    "chrEvtPmar=defaultdict( lambda: defaultdict())"
   ]
  },
  {
   "cell_type": "code",
   "execution_count": 187,
   "metadata": {},
   "outputs": [
    {
     "data": {
      "text/plain": [
       "defaultdict(<function __main__.<lambda>()>, {})"
      ]
     },
     "execution_count": 187,
     "metadata": {},
     "output_type": "execute_result"
    }
   ],
   "source": [
    "chrEvtPmar"
   ]
  },
  {
   "cell_type": "code",
   "execution_count": 37,
   "metadata": {},
   "outputs": [],
   "source": [
    "chrEvtPmar=defaultdict( lambda: defaultdict())\n",
    "for r in csv.reader(open('geneInfo/Petmar_ttbl.txt'),delimiter='\\t'):\n",
    "    #print(r)\n",
    "    clg,ev1,ev2=r\n",
    "    if not ev2=='-':\n",
    "        for chrm in ev1.split(','):\n",
    "            chrEvtPmar[clg][chrm]='1'\n",
    "        for chrm in ev2.split(','):\n",
    "            chrEvtPmar[clg][chrm]='2'\n",
    "    elif ev2=='-':\n",
    "        for chrm in ev1.split(','):\n",
    "            chrEvtPmar[clg][chrm]='nd'\n"
   ]
  },
  {
   "cell_type": "code",
   "execution_count": 38,
   "metadata": {},
   "outputs": [],
   "source": [
    "chrEvtPata=defaultdict( lambda: defaultdict())\n",
    "for r in csv.reader(open('geneInfo/Parata_ttbl.txt'),delimiter='\\t'):\n",
    "    #print(r)\n",
    "    clg,ev1,ev2=r\n",
    "    if not ev2=='-':\n",
    "        for chrm in ev1.split(','):\n",
    "            chrEvtPata[clg][chrm]='1'\n",
    "        for chrm in ev2.split(','):\n",
    "            chrEvtPata[clg][chrm]='2'\n",
    "    elif ev2=='-':\n",
    "        for chrm in ev1.split(','):\n",
    "            chrEvtPata[clg][chrm]='nd'\n"
   ]
  },
  {
   "cell_type": "code",
   "execution_count": 190,
   "metadata": {},
   "outputs": [
    {
     "data": {
      "text/plain": [
       "'2'"
      ]
     },
     "execution_count": 190,
     "metadata": {},
     "output_type": "execute_result"
    }
   ],
   "source": [
    "chrEvtPmar['CLGB']['chrm34']"
   ]
  },
  {
   "cell_type": "code",
   "execution_count": 42,
   "metadata": {},
   "outputs": [],
   "source": [
    "def findVrtCLG(posV,clgVA=clgVA):\n",
    "    clgSc=defaultdict(int)\n",
    "    for i,cs in enumerate(posV):\n",
    "        for clg in clgVA:\n",
    "            ic=set(cs).intersection(clgVA[clg][i])\n",
    "            clgSc[clg]+=len(ic)\n",
    "\n",
    "    topSc=max(clgSc.values())\n",
    "    rCLG=[clg for clg in clgSc if clgSc[clg]==topSc]\n",
    "    if len(rCLG)>2:\n",
    "        rCLG=[]\n",
    "    return rCLG"
   ]
  },
  {
   "cell_type": "code",
   "execution_count": 36,
   "metadata": {},
   "outputs": [
    {
     "data": {
      "text/plain": [
       "Tree node 'n449' (0x1e3948eb)"
      ]
     },
     "execution_count": 36,
     "metadata": {},
     "output_type": "execute_result"
    }
   ],
   "source": [
    "rrTrees['OG_2222']"
   ]
  },
  {
   "cell_type": "code",
   "execution_count": null,
   "metadata": {},
   "outputs": [],
   "source": [
    "clg_assign2"
   ]
  },
  {
   "cell_type": "code",
   "execution_count": null,
   "metadata": {},
   "outputs": [],
   "source": [
    "verts=set([l.name for l in spT.search_nodes(name='Vertebrata')[0]])\n",
    "i=0\n",
    "out=[]\n",
    "Pgon={}\n",
    "oL=[]\n",
    "for f,t in rrTrees.items():\n",
    "    at=age(t,spT)\n",
    "    #spset=set([l.species for l in t])\n",
    "    spset=set([l.species for l in t])\n",
    "    BflL=t.search_nodes(species='Braflo')\n",
    "    #SpuL=t.search_nodes(species='Strpur')\n",
    "    #spCLG=sum([clgSpur.get(Spu[n.gid][0],[]) for n in SpuL if n.gid in Spu],[])\n",
    "    bfCLGs=list(set([BflN[l.gid] for l in BflL if not BflN[l.gid]=='NA']))\n",
    "    SpuL=t.search_nodes(species='Strpur')\n",
    "    spCLGs=list(set(sum([clgSpur.get(Spu[n.gid][0],[]) for n in SpuL if n.gid in Spu],[])))\n",
    "    #print(bfCLGs,spCLGs)\n",
    "    Hsap=[l.gid for l in t.search_nodes(species='Homsap')]\n",
    "    #HsapN=[HsaN[g] for g in Hsap if g.startswith('ENS')]\n",
    "    if len(spset.intersection(verts))==0: continue\n",
    "    #for sp in ['Homsap','Lepocu','Galgal','Petmar','Parata']:\n",
    "    posV=[]\n",
    "    for sp in ['Chipun','Lepocu','Xentro','Galgal']:\n",
    "        #print(sp,[spPos[sp][l.gid][0] for l in t.search_nodes(species=sp)])\n",
    "        posV.append([spPos[sp][l.gid][0] for l in t.search_nodes(species=sp) if l.gid in spPos[sp]])\n",
    "    rvCLGs=findVrtCLG(posV)\n",
    "    #print(posV)\n",
    "    #print(f,bfCLGs,spCLGs,rvCLGs)\n",
    "    #print(set(bfCLGs) & set(spCLGs) & set(rvCLGs))\n",
    "    #print(set(bfCLGs) & set(rvCLGs))\n",
    "    #print(Counter(bfCLGs+spCLGs))\n",
    "    #clg=Counter(bfCLGs+spCLGs+rvCLGs).most_common()[0][0] if len(Counter(bfCLGs+spCLGs+rvCLGs))>0 else clg=='nd'\n",
    "    clg='nd'\n",
    "    if len(Counter(bfCLGs+spCLGs))>0:\n",
    "        clg=Counter(bfCLGs+spCLGs).most_common()[0][0] \n",
    "    elif len(Counter(rvCLGs))>0:\n",
    "        clg=Counter(rvCLGs).most_common()[0][0]\n",
    "        print(f,bfCLGs,spCLGs,rvCLGs,clg,Counter(rvCLGs).most_common())\n",
    "\n",
    "        \n",
    "    #clgSp=Counter(spCLGs).most_common()[0][0]\n",
    "    if clg=='CLGA':\n",
    "        if 'CLGA1' in spCLGs or 'CLGA1' in rvCLGs:\n",
    "            clg='CLGA1'\n",
    "        elif 'CLGA2' in spCLGs or 'CLGA2' in rvCLGs:\n",
    "            clg='CLGA2'\n",
    "        else:\n",
    "            clg='nd'\n",
    "    #print(clg,bfCLGs,spCLGs,rvCLGs)\n",
    "    #print(Counter(bfCLGs+spCLGs+rvCLGs).most_common()[0])\n",
    "    #print(clg)\n",
    "        \n",
    "    #Locu=[l.gid for l in t.search_nodes(species='Lepocu')]\n",
    "    #Ggal=[l.gid for l in t.search_nodes(species='Galgal')]\n",
    "    Pmar=[l.gid for l in t.search_nodes(species='Petmar')]\n",
    "    Pata=[l.gid for l in t.search_nodes(species='Parata')]\n",
    "\n",
    "    #print(Pmar)\n",
    "    gnthGnEv={}\n",
    "    if not clg=='nd':\n",
    "        anDup=checkDupr(t,clg,spPos,clg_assign2)\n",
    "        for e,l in anDup.items():\n",
    "            for g in l:\n",
    "                gnthGnEv[g]=e\n",
    "                #sp,gid=g.split('_',1)\n",
    "                #print(f,clg,','.join(rvCLGs),e,sp,gid,spName[sp].get(gid,'nf'),pos[0],pos[1])\n",
    "    #print(anDup)\n",
    "    #print(str(clg))\n",
    "    rvDup={}   \n",
    "    for g in Pmar:\n",
    "        pos=spPos['Petmar'].get(g,('',0,0))\n",
    "        pevt=chrEvtPmar[clg].get(pos[0],'nd')#.get(pos[0],['nd','nd'])\n",
    "        sol=[f,clg,'-',pevt,'Petmar',g,'NA',pos[0],pos[1]]\n",
    "        #print(sol)\n",
    "        oL.append(sol)\n",
    "\n",
    "    for g in Pata:\n",
    "        pos=spPos['Parata'].get(g,('',0,0))\n",
    "        pevt=chrEvtPata[clg].get(pos[0],'nd')\n",
    "        sol=[f,clg,'-',pevt,'Parata',g,'NA',pos[0],pos[1]]\n",
    "        #print(sol)\n",
    "        oL.append(sol)\n",
    "    #print(oL)\n",
    "    for l in t:\n",
    "        sp,gid=l.species,l.gid\n",
    "        #sp,gid=g.split('_',1)\n",
    "        if sp in ['Xentro','Lepocu','Galgal','Chipun']:\n",
    "            pos=spPos[sp].get(gid,('',0,0))\n",
    "            spn=spName[sp].get(gid,'nf') if sp in ['Xentro','Lepocu','Galgal'] else 'nd'\n",
    "            evt=gnthGnEv.get(l.name,'nd')\n",
    "            if clg==\"nd\":\n",
    "                #print(anDup)\n",
    "                print(f,clg,bfCLGs,spCLGs,rvCLGs,evt,sp,gid,spn,pos[0],pos[1],gnthGnEv)\n",
    "\n",
    "            oL.append([f,clg,','.join(rvCLGs),evt,sp,gid,spn,pos[0],pos[1]])\n",
    "            #rvDup[]\n",
    "    #print(f,clg,at,','.join(list(HsapN)),anDup,HsaP,Hsap,Locu,Ggal)\n",
    "    #print(anDup)\n",
    "   # Pgon[f]=frozenset(anDup.keys())\n",
    "    #pdp=set([p[-1] for p in anDup.keys()])\n",
    "    #if len(anDup)<3 or len(pdp)==1: continue\n",
    "    i+=1\n",
    "    #if i==50: break\n",
    "    "
   ]
  },
  {
   "cell_type": "code",
   "execution_count": null,
   "metadata": {},
   "outputs": [],
   "source": [
    "oL"
   ]
  },
  {
   "cell_type": "code",
   "execution_count": 63,
   "metadata": {},
   "outputs": [
    {
     "data": {
      "text/plain": [
       "defaultdict(set,\n",
       "            {'XTR6': 'alpha1',\n",
       "             'XTR10': 'beta1',\n",
       "             'XTR9': 'alpha2',\n",
       "             'XTR2': 'beta2',\n",
       "             'XTR1': set()})"
      ]
     },
     "execution_count": 63,
     "metadata": {},
     "output_type": "execute_result"
    }
   ],
   "source": [
    "clg_assign2['CLGB']['Xentro']"
   ]
  },
  {
   "cell_type": "code",
   "execution_count": 46,
   "metadata": {},
   "outputs": [
    {
     "name": "stdout",
     "output_type": "stream",
     "text": [
      "['EA00001', 'EA00003', 'EA00006', 'EA00007', 'EA00009']\n"
     ]
    }
   ],
   "source": [
    "print(list(spPos['Parata'])[0:5])"
   ]
  },
  {
   "cell_type": "code",
   "execution_count": 92,
   "metadata": {},
   "outputs": [],
   "source": [
    "testv=[['chr25'], ['LG20'], ['XTR1'], ['15', '15']]"
   ]
  },
  {
   "cell_type": "code",
   "execution_count": 97,
   "metadata": {},
   "outputs": [
    {
     "data": {
      "text/plain": [
       "[]"
      ]
     },
     "execution_count": 97,
     "metadata": {},
     "output_type": "execute_result"
    }
   ],
   "source": [
    "findVrtCLG(testv,clgVA=clgVA)"
   ]
  },
  {
   "cell_type": "code",
   "execution_count": 95,
   "metadata": {},
   "outputs": [
    {
     "name": "stdout",
     "output_type": "stream",
     "text": [
      "defaultdict(<class 'int'>, {'CLGC': 1, 'CLGL': 1, 'CLGM': 0, 'CLGE': 0, 'CLGO': 0, 'CLGI': 1, 'CLGQ': 1, 'CLGF': 1, 'CLGN': 0, 'CLGP': 0, 'CLGA1': 0, 'CLGA2': 0, 'CLGK': 0, 'CLGJ': 0, 'CLGD': 0, 'CLGB': 4, 'CLGG': 4, 'CLGH': 0, 'CLG': 0}) ['CLGB', 'CLGG']\n"
     ]
    }
   ],
   "source": [
    "clgSc=defaultdict(int)\n",
    "for i,cs in enumerate(testv):\n",
    "    for clg in clgVA:\n",
    "        ic=set(cs).intersection(clgVA[clg][i])\n",
    "        clgSc[clg]+=len(ic)\n",
    "topSc=max(clgSc.values())\n",
    "rCLG=[clg for clg in clgSc if clgSc[clg]==topSc]\n",
    "print(clgSc,rCLG)"
   ]
  },
  {
   "cell_type": "code",
   "execution_count": 207,
   "metadata": {},
   "outputs": [
    {
     "name": "stdout",
     "output_type": "stream",
     "text": [
      "11254\n"
     ]
    }
   ],
   "source": [
    "print(len(set([l[0] for l in oL])))"
   ]
  },
  {
   "cell_type": "code",
   "execution_count": null,
   "metadata": {},
   "outputs": [],
   "source": [
    "clg_assign"
   ]
  },
  {
   "cell_type": "code",
   "execution_count": 74,
   "metadata": {},
   "outputs": [],
   "source": [
    "oLs=sorted(oL,key=lambda x:float(x[0].split('_')[1]))"
   ]
  },
  {
   "cell_type": "code",
   "execution_count": 75,
   "metadata": {},
   "outputs": [],
   "source": [
    "hL=['FID','CLG','CLGv','1R','Sp','GID','Gname','chrm','Pos']"
   ]
  },
  {
   "cell_type": "code",
   "execution_count": 76,
   "metadata": {},
   "outputs": [],
   "source": [
    "df = pd.DataFrame(oLs, columns = hL)"
   ]
  },
  {
   "cell_type": "code",
   "execution_count": 77,
   "metadata": {},
   "outputs": [
    {
     "data": {
      "text/html": [
       "<div>\n",
       "<style scoped>\n",
       "    .dataframe tbody tr th:only-of-type {\n",
       "        vertical-align: middle;\n",
       "    }\n",
       "\n",
       "    .dataframe tbody tr th {\n",
       "        vertical-align: top;\n",
       "    }\n",
       "\n",
       "    .dataframe thead th {\n",
       "        text-align: right;\n",
       "    }\n",
       "</style>\n",
       "<table border=\"1\" class=\"dataframe\">\n",
       "  <thead>\n",
       "    <tr style=\"text-align: right;\">\n",
       "      <th></th>\n",
       "      <th>FID</th>\n",
       "      <th>CLG</th>\n",
       "      <th>CLGv</th>\n",
       "      <th>1R</th>\n",
       "      <th>Sp</th>\n",
       "      <th>GID</th>\n",
       "      <th>Gname</th>\n",
       "      <th>chrm</th>\n",
       "      <th>Pos</th>\n",
       "    </tr>\n",
       "  </thead>\n",
       "  <tbody>\n",
       "    <tr>\n",
       "      <th>0</th>\n",
       "      <td>OG_1</td>\n",
       "      <td>CLGP</td>\n",
       "      <td>-</td>\n",
       "      <td>nd</td>\n",
       "      <td>Petmar</td>\n",
       "      <td>POLR2H</td>\n",
       "      <td>NA</td>\n",
       "      <td>chrm5</td>\n",
       "      <td>5962455</td>\n",
       "    </tr>\n",
       "    <tr>\n",
       "      <th>1</th>\n",
       "      <td>OG_1</td>\n",
       "      <td>CLGP</td>\n",
       "      <td>-</td>\n",
       "      <td>nd</td>\n",
       "      <td>Parata</td>\n",
       "      <td>EA33602</td>\n",
       "      <td>NA</td>\n",
       "      <td>chr7</td>\n",
       "      <td>4558168</td>\n",
       "    </tr>\n",
       "    <tr>\n",
       "      <th>2</th>\n",
       "      <td>OG_1</td>\n",
       "      <td>CLGP</td>\n",
       "      <td>CLGN,CLGP</td>\n",
       "      <td>alpha2</td>\n",
       "      <td>Galgal</td>\n",
       "      <td>ENSGALG00000008534</td>\n",
       "      <td>POLR2H</td>\n",
       "      <td>9</td>\n",
       "      <td>15996145</td>\n",
       "    </tr>\n",
       "    <tr>\n",
       "      <th>3</th>\n",
       "      <td>OG_1</td>\n",
       "      <td>CLGP</td>\n",
       "      <td>CLGN,CLGP</td>\n",
       "      <td>alpha2</td>\n",
       "      <td>Xentro</td>\n",
       "      <td>polr2h</td>\n",
       "      <td>Xetrov90014686m</td>\n",
       "      <td>XTR5</td>\n",
       "      <td>111547748</td>\n",
       "    </tr>\n",
       "    <tr>\n",
       "      <th>4</th>\n",
       "      <td>OG_1</td>\n",
       "      <td>CLGP</td>\n",
       "      <td>CLGN,CLGP</td>\n",
       "      <td>alpha2</td>\n",
       "      <td>Lepocu</td>\n",
       "      <td>ENSLOCG00000008946</td>\n",
       "      <td>polr2h</td>\n",
       "      <td>LG14</td>\n",
       "      <td>18263274</td>\n",
       "    </tr>\n",
       "    <tr>\n",
       "      <th>...</th>\n",
       "      <td>...</td>\n",
       "      <td>...</td>\n",
       "      <td>...</td>\n",
       "      <td>...</td>\n",
       "      <td>...</td>\n",
       "      <td>...</td>\n",
       "      <td>...</td>\n",
       "      <td>...</td>\n",
       "      <td>...</td>\n",
       "    </tr>\n",
       "    <tr>\n",
       "      <th>105846</th>\n",
       "      <td>OG_22217</td>\n",
       "      <td>nd</td>\n",
       "      <td></td>\n",
       "      <td>nd</td>\n",
       "      <td>Lepocu</td>\n",
       "      <td>ENSLOCG00000014028</td>\n",
       "      <td>zgc:172079</td>\n",
       "      <td>LG2</td>\n",
       "      <td>61165908</td>\n",
       "    </tr>\n",
       "    <tr>\n",
       "      <th>105847</th>\n",
       "      <td>OG_22217</td>\n",
       "      <td>nd</td>\n",
       "      <td></td>\n",
       "      <td>nd</td>\n",
       "      <td>Xentro</td>\n",
       "      <td>LOC100493299</td>\n",
       "      <td>Xetrov90029005m</td>\n",
       "      <td>scaffold_48</td>\n",
       "      <td>508560</td>\n",
       "    </tr>\n",
       "    <tr>\n",
       "      <th>105848</th>\n",
       "      <td>OG_22217</td>\n",
       "      <td>nd</td>\n",
       "      <td></td>\n",
       "      <td>nd</td>\n",
       "      <td>Xentro</td>\n",
       "      <td>LOC100493138</td>\n",
       "      <td>Xetrov90029004m</td>\n",
       "      <td>scaffold_48</td>\n",
       "      <td>483093</td>\n",
       "    </tr>\n",
       "    <tr>\n",
       "      <th>105849</th>\n",
       "      <td>OG_22278</td>\n",
       "      <td>CLGF</td>\n",
       "      <td></td>\n",
       "      <td>alpha1</td>\n",
       "      <td>Lepocu</td>\n",
       "      <td>ENSLOCG00000008308</td>\n",
       "      <td>hdac12</td>\n",
       "      <td>LG3</td>\n",
       "      <td>13665151</td>\n",
       "    </tr>\n",
       "    <tr>\n",
       "      <th>105850</th>\n",
       "      <td>OG_22318</td>\n",
       "      <td>CLGG</td>\n",
       "      <td>CLGG</td>\n",
       "      <td>alpha2</td>\n",
       "      <td>Lepocu</td>\n",
       "      <td>ENSLOCG00000006921</td>\n",
       "      <td></td>\n",
       "      <td>LG22</td>\n",
       "      <td>11092490</td>\n",
       "    </tr>\n",
       "  </tbody>\n",
       "</table>\n",
       "<p>105851 rows × 9 columns</p>\n",
       "</div>"
      ],
      "text/plain": [
       "             FID   CLG       CLGv      1R      Sp                 GID  \\\n",
       "0           OG_1  CLGP          -      nd  Petmar              POLR2H   \n",
       "1           OG_1  CLGP          -      nd  Parata             EA33602   \n",
       "2           OG_1  CLGP  CLGN,CLGP  alpha2  Galgal  ENSGALG00000008534   \n",
       "3           OG_1  CLGP  CLGN,CLGP  alpha2  Xentro              polr2h   \n",
       "4           OG_1  CLGP  CLGN,CLGP  alpha2  Lepocu  ENSLOCG00000008946   \n",
       "...          ...   ...        ...     ...     ...                 ...   \n",
       "105846  OG_22217    nd                 nd  Lepocu  ENSLOCG00000014028   \n",
       "105847  OG_22217    nd                 nd  Xentro        LOC100493299   \n",
       "105848  OG_22217    nd                 nd  Xentro        LOC100493138   \n",
       "105849  OG_22278  CLGF             alpha1  Lepocu  ENSLOCG00000008308   \n",
       "105850  OG_22318  CLGG       CLGG  alpha2  Lepocu  ENSLOCG00000006921   \n",
       "\n",
       "                  Gname         chrm        Pos  \n",
       "0                    NA        chrm5    5962455  \n",
       "1                    NA         chr7    4558168  \n",
       "2                POLR2H            9   15996145  \n",
       "3       Xetrov90014686m         XTR5  111547748  \n",
       "4                polr2h         LG14   18263274  \n",
       "...                 ...          ...        ...  \n",
       "105846       zgc:172079          LG2   61165908  \n",
       "105847  Xetrov90029005m  scaffold_48     508560  \n",
       "105848  Xetrov90029004m  scaffold_48     483093  \n",
       "105849           hdac12          LG3   13665151  \n",
       "105850                          LG22   11092490  \n",
       "\n",
       "[105851 rows x 9 columns]"
      ]
     },
     "execution_count": 77,
     "metadata": {},
     "output_type": "execute_result"
    }
   ],
   "source": [
    "df#[df.Sp=='Chipun']"
   ]
  },
  {
   "cell_type": "code",
   "execution_count": 78,
   "metadata": {},
   "outputs": [],
   "source": [
    "df.to_csv('Vert_Evt_OGrrA.txt',index=False,sep='\\t')"
   ]
  },
  {
   "cell_type": "code",
   "execution_count": 83,
   "metadata": {},
   "outputs": [
    {
     "data": {
      "text/html": [
       "<div>\n",
       "<style scoped>\n",
       "    .dataframe tbody tr th:only-of-type {\n",
       "        vertical-align: middle;\n",
       "    }\n",
       "\n",
       "    .dataframe tbody tr th {\n",
       "        vertical-align: top;\n",
       "    }\n",
       "\n",
       "    .dataframe thead th {\n",
       "        text-align: right;\n",
       "    }\n",
       "</style>\n",
       "<table border=\"1\" class=\"dataframe\">\n",
       "  <thead>\n",
       "    <tr style=\"text-align: right;\">\n",
       "      <th></th>\n",
       "      <th>FID</th>\n",
       "      <th>CLG</th>\n",
       "      <th>CLGv</th>\n",
       "      <th>1R</th>\n",
       "      <th>Sp</th>\n",
       "      <th>GID</th>\n",
       "      <th>Gname</th>\n",
       "      <th>chrm</th>\n",
       "      <th>Pos</th>\n",
       "    </tr>\n",
       "  </thead>\n",
       "  <tbody>\n",
       "    <tr>\n",
       "      <th>0</th>\n",
       "      <td>OG_1</td>\n",
       "      <td>CLGP</td>\n",
       "      <td>CLGG</td>\n",
       "      <td>1</td>\n",
       "      <td>Petmar</td>\n",
       "      <td>POLR2H</td>\n",
       "      <td>NA</td>\n",
       "      <td>chrm5</td>\n",
       "      <td>5962455</td>\n",
       "    </tr>\n",
       "    <tr>\n",
       "      <th>1</th>\n",
       "      <td>OG_1</td>\n",
       "      <td>CLGP</td>\n",
       "      <td>CLGO</td>\n",
       "      <td>2</td>\n",
       "      <td>Parata</td>\n",
       "      <td>EA33602</td>\n",
       "      <td>NA</td>\n",
       "      <td>chr7</td>\n",
       "      <td>4558168</td>\n",
       "    </tr>\n",
       "    <tr>\n",
       "      <th>2</th>\n",
       "      <td>OG_2</td>\n",
       "      <td>CLGO</td>\n",
       "      <td>CLGJ</td>\n",
       "      <td>2</td>\n",
       "      <td>Petmar</td>\n",
       "      <td>COPB1</td>\n",
       "      <td>NA</td>\n",
       "      <td>chrm3</td>\n",
       "      <td>17170487</td>\n",
       "    </tr>\n",
       "    <tr>\n",
       "      <th>3</th>\n",
       "      <td>OG_2</td>\n",
       "      <td>CLGO</td>\n",
       "      <td>CLGM</td>\n",
       "      <td>nd</td>\n",
       "      <td>Parata</td>\n",
       "      <td>EA45752</td>\n",
       "      <td>NA</td>\n",
       "      <td>chr2</td>\n",
       "      <td>180728977</td>\n",
       "    </tr>\n",
       "    <tr>\n",
       "      <th>4</th>\n",
       "      <td>OG_3</td>\n",
       "      <td>CLGA1</td>\n",
       "      <td>CLGA1</td>\n",
       "      <td>2</td>\n",
       "      <td>Petmar</td>\n",
       "      <td>YIPF4</td>\n",
       "      <td>NA</td>\n",
       "      <td>chrm6</td>\n",
       "      <td>3963531</td>\n",
       "    </tr>\n",
       "    <tr>\n",
       "      <th>...</th>\n",
       "      <td>...</td>\n",
       "      <td>...</td>\n",
       "      <td>...</td>\n",
       "      <td>...</td>\n",
       "      <td>...</td>\n",
       "      <td>...</td>\n",
       "      <td>...</td>\n",
       "      <td>...</td>\n",
       "      <td>...</td>\n",
       "    </tr>\n",
       "    <tr>\n",
       "      <th>34147</th>\n",
       "      <td>OG_21678</td>\n",
       "      <td>CLGF</td>\n",
       "      <td>CLGF,CLGN</td>\n",
       "      <td>alpha1</td>\n",
       "      <td>Galgal</td>\n",
       "      <td>ENSGALG00000042735</td>\n",
       "      <td></td>\n",
       "      <td>1</td>\n",
       "      <td>92419270</td>\n",
       "    </tr>\n",
       "    <tr>\n",
       "      <th>34148</th>\n",
       "      <td>OG_21678</td>\n",
       "      <td>CLGF</td>\n",
       "      <td>CLGF,CLGN</td>\n",
       "      <td>alpha1</td>\n",
       "      <td>Galgal</td>\n",
       "      <td>ENSGALG00000039452</td>\n",
       "      <td>GJA5</td>\n",
       "      <td>1</td>\n",
       "      <td>92426541</td>\n",
       "    </tr>\n",
       "    <tr>\n",
       "      <th>34149</th>\n",
       "      <td>OG_21777</td>\n",
       "      <td>CLGF</td>\n",
       "      <td>CLGF</td>\n",
       "      <td>1</td>\n",
       "      <td>Petmar</td>\n",
       "      <td>LOC116955772</td>\n",
       "      <td>NA</td>\n",
       "      <td>chrm61</td>\n",
       "      <td>8185934</td>\n",
       "    </tr>\n",
       "    <tr>\n",
       "      <th>34150</th>\n",
       "      <td>OG_21777</td>\n",
       "      <td>CLGF</td>\n",
       "      <td>CLGF</td>\n",
       "      <td>alpha1</td>\n",
       "      <td>Galgal</td>\n",
       "      <td>ENSGALG00000019145</td>\n",
       "      <td></td>\n",
       "      <td>1</td>\n",
       "      <td>130465409</td>\n",
       "    </tr>\n",
       "    <tr>\n",
       "      <th>34151</th>\n",
       "      <td>OG_21806</td>\n",
       "      <td>False</td>\n",
       "      <td>CLGL</td>\n",
       "      <td>nd</td>\n",
       "      <td>Petmar</td>\n",
       "      <td>LOC116943886</td>\n",
       "      <td>NA</td>\n",
       "      <td>chrm1</td>\n",
       "      <td>30021563</td>\n",
       "    </tr>\n",
       "  </tbody>\n",
       "</table>\n",
       "<p>34152 rows × 9 columns</p>\n",
       "</div>"
      ],
      "text/plain": [
       "            FID    CLG       CLGv      1R      Sp                 GID Gname  \\\n",
       "0          OG_1   CLGP       CLGG       1  Petmar              POLR2H    NA   \n",
       "1          OG_1   CLGP       CLGO       2  Parata             EA33602    NA   \n",
       "2          OG_2   CLGO       CLGJ       2  Petmar               COPB1    NA   \n",
       "3          OG_2   CLGO       CLGM      nd  Parata             EA45752    NA   \n",
       "4          OG_3  CLGA1      CLGA1       2  Petmar               YIPF4    NA   \n",
       "...         ...    ...        ...     ...     ...                 ...   ...   \n",
       "34147  OG_21678   CLGF  CLGF,CLGN  alpha1  Galgal  ENSGALG00000042735         \n",
       "34148  OG_21678   CLGF  CLGF,CLGN  alpha1  Galgal  ENSGALG00000039452  GJA5   \n",
       "34149  OG_21777   CLGF       CLGF       1  Petmar        LOC116955772    NA   \n",
       "34150  OG_21777   CLGF       CLGF  alpha1  Galgal  ENSGALG00000019145         \n",
       "34151  OG_21806  False       CLGL      nd  Petmar        LOC116943886    NA   \n",
       "\n",
       "         chrm        Pos  \n",
       "0       chrm5    5962455  \n",
       "1        chr7    4558168  \n",
       "2       chrm3   17170487  \n",
       "3        chr2  180728977  \n",
       "4       chrm6    3963531  \n",
       "...       ...        ...  \n",
       "34147       1   92419270  \n",
       "34148       1   92426541  \n",
       "34149  chrm61    8185934  \n",
       "34150       1  130465409  \n",
       "34151   chrm1   30021563  \n",
       "\n",
       "[34152 rows x 9 columns]"
      ]
     },
     "execution_count": 83,
     "metadata": {},
     "output_type": "execute_result"
    }
   ],
   "source": [
    "df"
   ]
  },
  {
   "cell_type": "code",
   "execution_count": 60,
   "metadata": {},
   "outputs": [],
   "source": [
    "with open('Vert_Evt_OGr2.txt','w') as out: \n",
    "    out.write('\\t'.join(hL)+'\\n')\n",
    "    for r in oLs:\n",
    "        out.write('\\t'.join(map(str,r))+'\\n')"
   ]
  },
  {
   "cell_type": "markdown",
   "metadata": {},
   "source": [
    "# New approach to molecular dating "
   ]
  },
  {
   "cell_type": "code",
   "execution_count": 24,
   "metadata": {},
   "outputs": [],
   "source": [
    "def checkDup(t,spPos):\n",
    "    # determine most frequent CLG in case several amphioxus genes have distinct clgs\n",
    "    BflTax=[l for l in t if l.species=='Braflo']        \n",
    "    #clgs=[BflN[l.gid] for l in BflTax]\n",
    "    clgs=sum([SpuN[l.gid] for l in SpuL],[])\n",
    "    clgCt=Counter(clgs)\n",
    "    #print(clgCt)\n",
    "    mclg=clgCt.most_common(1)[0][0]\n",
    "    anDup=defaultdict(list)\n",
    "    for l in t:\n",
    "        if l.species in spPos:\n",
    "            if not l.gid in spPos[l.species]: continue\n",
    "            chrom,stt,end=spPos[l.species][l.gid]\n",
    "            if clg_assign[mclg][l.species][chrom]=='': continue\n",
    "            tet=clg_assign[mclg][l.species][chrom]\n",
    "            #print l.species,l.gid,spPos[l.species][l.gid],clg,tet,spName[l.species][l.gid]   \n",
    "            anDup[tet].append(l.name)\n",
    "    return mclg,anDup"
   ]
  },
  {
   "cell_type": "code",
   "execution_count": 25,
   "metadata": {},
   "outputs": [],
   "source": [
    "clgPmar,clgPata=defaultdict(set),defaultdict(set)\n",
    "for r in csv.reader(open(\"Pata_Pmar_clg.txt\"),delimiter='\\t'):\n",
    "    if r[0]=='s2chr': continue\n",
    "    #clg='A' if r[2]=='A1' else r[2]\n",
    "    clg=r[2]\n",
    "    clgPmar['CLG'+clg].add(r[1])\n",
    "    clgPata['CLG'+clg].add(r[0])\n",
    "   \n",
    "    #print(r)"
   ]
  },
  {
   "cell_type": "code",
   "execution_count": null,
   "metadata": {},
   "outputs": [],
   "source": [
    "clg_assign"
   ]
  },
  {
   "cell_type": "code",
   "execution_count": 40,
   "metadata": {},
   "outputs": [
    {
     "name": "stdout",
     "output_type": "stream",
     "text": [
      "scaffold_1 ['CLGA2']\n",
      "scaffold_2 ['CLGG']\n",
      "scaffold_3 ['CLGL']\n",
      "scaffold_4 ['CLGM']\n",
      "scaffold_5 ['CLGA1']\n",
      "scaffold_6 ['CLGC', 'CLGB', 'CLGE']\n",
      "scaffold_7 ['CLGJ', 'CLGB']\n",
      "scaffold_8 ['CLGD']\n",
      "scaffold_9 ['CLGC']\n",
      "scaffold_10 ['CLGQ']\n",
      "scaffold_11 ['CLGF']\n",
      "scaffold_12 ['CLGN']\n",
      "scaffold_13 ['CLGJ']\n",
      "scaffold_14 ['CLGH']\n",
      "scaffold_15 ['CLGI']\n",
      "scaffold_16 ['CLGP']\n",
      "scaffold_17 ['CLGO']\n",
      "scaffold_18 ['CLGO']\n",
      "scaffold_19 ['CLGB']\n",
      "scaffold_20 ['CLGR']\n",
      "scaffold_21 ['CLGK']\n"
     ]
    }
   ],
   "source": [
    "clgSpur=defaultdict(list)\n",
    "for r in csv.reader(open(\"Strpur_clgs.txt\"),delimiter='\\t'):\n",
    "    clgs=['CLG'+c if len(c)==1 or c in ['A1','A2'] else 'CLG'+c[0] for c in r[1].split(',') ]\n",
    "    print(r[0],clgs)\n",
    "    clgSpur[r[0]].extend(clgs)"
   ]
  },
  {
   "cell_type": "code",
   "execution_count": null,
   "metadata": {},
   "outputs": [],
   "source": [
    "SpuN=defaultdict(list)\n",
    "for g,l in Spu.items():\n",
    "    print(g,l[0],clgSpur[l[0]])\n",
    "    SpuN[g]=clgSpur.get(l[0],'')\n",
    "    #break"
   ]
  },
  {
   "cell_type": "code",
   "execution_count": null,
   "metadata": {},
   "outputs": [],
   "source": [
    "checkDup(rrTrees['OG_11749'],spPos)"
   ]
  },
  {
   "cell_type": "code",
   "execution_count": null,
   "metadata": {},
   "outputs": [],
   "source": [
    "print(rrTrees['OG_1002'])"
   ]
  },
  {
   "cell_type": "code",
   "execution_count": 102,
   "metadata": {},
   "outputs": [
    {
     "data": {
      "text/plain": [
       "dict_keys(['Lepocu', 'Galgal', 'Xentro', 'Braflo', 'Petmar', 'Parata', 'Strpur', 'Chipun'])"
      ]
     },
     "execution_count": 102,
     "metadata": {},
     "output_type": "execute_result"
    }
   ],
   "source": [
    "spPos.keys()"
   ]
  },
  {
   "cell_type": "code",
   "execution_count": 52,
   "metadata": {},
   "outputs": [],
   "source": [
    "def checkDupr(t,clg,spPos,clgAsgn):\n",
    "    anDup=defaultdict(list)\n",
    "    for l in t:\n",
    "        if l.species in {'Lepocu', 'Galgal', 'Xentro','Chipun'}:\n",
    "            if not l.gid in spPos[l.species]: continue\n",
    "            chrom,stt,end=spPos[l.species][l.gid]\n",
    "            if not chrom in clgAsgn[clg][l.species]: continue\n",
    "            tet=clgAsgn[clg][l.species][chrom]\n",
    "            #print(l.species,l.gid,spPos[l.species][l.gid],clg,tet)\n",
    "            anDup[tet].append(l.name)\n",
    "    return anDup"
   ]
  },
  {
   "cell_type": "code",
   "execution_count": 147,
   "metadata": {
    "tags": []
   },
   "outputs": [
    {
     "data": {
      "text/plain": [
       "defaultdict(list, {})"
      ]
     },
     "execution_count": 147,
     "metadata": {},
     "output_type": "execute_result"
    }
   ],
   "source": [
    "checkDupr(rrTrees['OG_1677'],'CLGQ',spPos,clg_assign2)"
   ]
  },
  {
   "cell_type": "code",
   "execution_count": 96,
   "metadata": {},
   "outputs": [
    {
     "data": {
      "text/plain": [
       "'alpha2'"
      ]
     },
     "execution_count": 96,
     "metadata": {},
     "output_type": "execute_result"
    }
   ],
   "source": [
    "clg_assign2['CLGK']['Xentro']"
   ]
  },
  {
   "cell_type": "code",
   "execution_count": 201,
   "metadata": {},
   "outputs": [],
   "source": [
    "bfCLG=[BflN[l.gid] for l in rrTrees['OG_20160'].search_nodes(species='Braflo')]"
   ]
  },
  {
   "cell_type": "code",
   "execution_count": 203,
   "metadata": {},
   "outputs": [
    {
     "data": {
      "text/plain": [
       "[['CLGA1']]"
      ]
     },
     "execution_count": 203,
     "metadata": {},
     "output_type": "execute_result"
    }
   ],
   "source": [
    "[clgSpur.get(Spu[n.gid][0],[]) for n in rrTrees['OG_20160'].search_nodes(species='Strpur')]"
   ]
  },
  {
   "cell_type": "code",
   "execution_count": 202,
   "metadata": {},
   "outputs": [
    {
     "name": "stdout",
     "output_type": "stream",
     "text": [
      "['CLGA']\n"
     ]
    }
   ],
   "source": [
    "print(bfCLG)"
   ]
  },
  {
   "cell_type": "code",
   "execution_count": 199,
   "metadata": {},
   "outputs": [
    {
     "data": {
      "text/plain": [
       "'nd'"
      ]
     },
     "execution_count": 199,
     "metadata": {},
     "output_type": "execute_result"
    }
   ],
   "source": [
    "pos=spPos['Petmar'].get('LHX1',('',0,0))\n",
    "chrEvtPmar['CLGB'].get('chrm38','nd')\n"
   ]
  },
  {
   "cell_type": "code",
   "execution_count": 92,
   "metadata": {},
   "outputs": [
    {
     "data": {
      "text/plain": [
       "'nd'"
      ]
     },
     "execution_count": 92,
     "metadata": {},
     "output_type": "execute_result"
    }
   ],
   "source": [
    "chrEvtPmar['CLGL'].get('chrm44','nd')"
   ]
  },
  {
   "cell_type": "code",
   "execution_count": 94,
   "metadata": {},
   "outputs": [
    {
     "data": {
      "text/plain": [
       "'nd'"
      ]
     },
     "execution_count": 94,
     "metadata": {},
     "output_type": "execute_result"
    }
   ],
   "source": [
    "chrEvtPata['chr7'].get('chr10','nd')"
   ]
  },
  {
   "cell_type": "code",
   "execution_count": 85,
   "metadata": {},
   "outputs": [
    {
     "data": {
      "text/plain": [
       "defaultdict(list,\n",
       "            {'alpha1': ['Lepocu_ENSLOCG00000004020',\n",
       "              'Xentro_dmbx1',\n",
       "              'Galgal_ENSGALG00000010436',\n",
       "              'Chipun_Chipu0005518']})"
      ]
     },
     "execution_count": 85,
     "metadata": {},
     "output_type": "execute_result"
    }
   ],
   "source": [
    "checkDupr(rrTrees['OG_1677'],'CLGM',spPos,clg_assign2)"
   ]
  },
  {
   "cell_type": "code",
   "execution_count": 205,
   "metadata": {},
   "outputs": [
    {
     "name": "stdout",
     "output_type": "stream",
     "text": [
      "Chipun Chipu0010645 ('chr25', 31254172, 31261253) set()\n",
      "Chipun Chipun_Chipu0010645 Chipu0010645 ('chr25', 31254172, 31261253) CLGA set() nd\n",
      "Lepocu ENSLOCG00000008328 ('LG20', 14084503, 14115002) set()\n",
      "Lepocu Lepocu_ENSLOCG00000008328 ENSLOCG00000008328 ('LG20', 14084503, 14115002) CLGA set() nd\n",
      "Xentro lhx5 ('XTR1', 133703287, 133726520) set()\n",
      "Xentro Xentro_lhx5 lhx5 ('XTR1', 133703287, 133726520) CLGA set() nd\n",
      "Galgal ENSGALG00000008303 ('15', 12639428, 12644631) set()\n",
      "Galgal Galgal_ENSGALG00000008303 ENSGALG00000008303 ('15', 12639428, 12644631) CLGA set() nd\n",
      "Lepocu ENSLOCG00000000357 ('AHAT01043974.1', 1099, 4145) set()\n",
      "Lepocu Lepocu_ENSLOCG00000000357 ENSLOCG00000000357 ('AHAT01043974.1', 1099, 4145) CLGA set() nd\n",
      "Lepocu ENSLOCG00000004960 ('LG22', 7558717, 7567347) set()\n",
      "Lepocu Lepocu_ENSLOCG00000004960 ENSLOCG00000004960 ('LG22', 7558717, 7567347) CLGA set() nd\n",
      "Xentro lhx1 ('XTR2', 49862098, 49873565) set()\n",
      "Xentro Xentro_lhx1 lhx1 ('XTR2', 49862098, 49873565) CLGA set() nd\n",
      "Galgal ENSGALG00000005409 ('19', 8410268, 8413427) set()\n",
      "Galgal Galgal_ENSGALG00000005409 ENSGALG00000005409 ('19', 8410268, 8413427) CLGA set() nd\n",
      "Chipun Chipu0002038 ('chr28', 20632836, 20641967) set()\n",
      "Chipun Chipun_Chipu0002038 Chipu0002038 ('chr28', 20632836, 20641967) CLGA set() nd\n"
     ]
    }
   ],
   "source": [
    "clg='CLGA'\n",
    "for l in rrTrees['OG_4927']:\n",
    "    if l.species in set(['Galgal','Xentro','Chipun','Lepocu']):\n",
    "        if not l.gid in spPos[l.species]: continue\n",
    "        chrom,stt,end=spPos[l.species][l.gid]\n",
    "        print(l.species,l.gid,spPos[l.species][l.gid],clg_assign2[clg][l.species][chrom])\n",
    "        #if not chrom in clg_assign2[clg][l.species][chrom]: continue\n",
    "        tet=clg_assign2[clg][l.species][chrom]\n",
    "        print(l.species,l.name,l.gid,spPos[l.species][l.gid],clg,tet,spName.get('l.species','nd'))\n"
   ]
  },
  {
   "cell_type": "code",
   "execution_count": null,
   "metadata": {},
   "outputs": [],
   "source": [
    "clg_assign2[clg]['Chipun']"
   ]
  },
  {
   "cell_type": "code",
   "execution_count": 263,
   "metadata": {},
   "outputs": [
    {
     "name": "stdout",
     "output_type": "stream",
     "text": [
      "((((Ptyfla_pfl_40v0_9_20150316_1g31822:0.106164,Ptyfla_pfl_40v0_9_20150316_1g25097:1e-06)100:0.329348,Sackow_Sakowv30012058m:0.390453)100:0.66229,(((Strpur_LOC579970:0.019736,Strpur_LOC762569:0.084777)100:0.059386,(Strpur_LOC115923164:0.008152,Strpur_LOC100893855:0.004053)100:0.012219)100:1.2917,Acapla_LOC110982062:1.02927)100:0.279163)100:0.512013,(((((((Eptbur_Eptbu0034081:0.093773,Parata_EA36646:0.008609)100:0.571272,(Eptbur_Eptbu0034084:0.206781,Parata_EA37041:1e-06)100:1.83406)100:0.637158,(Petmar_LOC116947536:0.011558,((Letjap_g6222:0.080164,Letrei_Hic_chr_38_136:0.107337)98:0.060352,(Letjap_g6223:0.779313,Letrei_Hic_chr_38_138:0.081709)100:0.465668)100:1e-06)100:0.960052)100:0.541538,((((Eptbur_Eptbu0020379:0.066244,Parata_EA79398:1e-06)100:0.381094,(Eptbur_Eptbu0026466:0.004714,Parata_EA73963:0.477391)95:1e-06)100:0.765906,(Petmar_LOC116952791:1e-06,(((Letrei_Hic_chr_55_21:0.063678,Letrei_Hic_chr_55_213:0.158428)91:0.01043,Letjap_g15697:0.139584)92:0.15712,(Letjap_g15696:0.215305,Letjap_g14014:0.663492)61:0.032401)93:1e-06)100:1.12686)100:0.171299,((Eptbur_Eptbu0008074:0.034386,Parata_EA12549:0.293685)100:1.18476,((Letjap_g834:0.023076,Letrei_Hic_chr_30_223:0.026977)100:0.061513,Petmar_LOC116942318:0.091335)100:0.903154)95:0.085728)98:0.146728)93:0.154649,(((Chipun_Chipu0019713:0.301069,Calmil_SINCAMG00000009002:0.457934)100:0.121237,(((Danrer_ENSDARG00000000472:0.218556,Orylat_ENSORLG00000010556:0.293846)100:0.142588,Lepocu_ENSLOCG00000011962:0.253016)100:0.355429,((Xentro_LOC100487049:0.548896,(Galgal_ENSGALG00000000653:0.241412,(Musmus_ENSMUSG00000053024:0.10312,Homsap_ENSG00000184144:0.099552)100:0.250896)100:0.109516)100:0.147178,Latcha_ENSLACG00000013846:0.337143)99:0.060161)99:0.095024)100:0.272272,(((Chipun_Chipu0005182:0.393828,Calmil_SINCAMG00000010197:0.090746)100:0.095705,Chipun_Chipu0005183:0.341083)100:0.215174,(((Xentro_cntn1:0.343816,(Galgal_ENSGALG00000009523:0.231314,(Musmus_ENSMUSG00000055022:0.035931,Homsap_ENSG00000018236:0.034091)100:0.267213)100:0.131267)100:0.112469,Latcha_ENSLACG00000003625:0.341174)100:0.054075,(((Danrer_ENSDARG00000045685:0.382405,Orylat_ENSORLG00000010060:0.527087)100:0.441631,Orylat_ENSORLG00000003308:0.776701)99:0.080395,Lepocu_ENSLOCG00000001255:0.260483)100:0.213296)87:0.183386)100:0.355527)100:0.210639)100:0.086227,((((Eptbur_Eptbu0034726:0.206632,Parata_EA20810:0.044481)100:0.836267,(Letjap_g17785:0.465376,Petmar_LOC116955302:0.118514)100:1.10658)87:0.250986,((((Letjap_g5538:0.036598,Petmar_LOC116949329:0.021255)100:0.128373,Letjap_g5537:0.15252)100:0.482514,((Letjap_g13504:0.021652,Letrei_Hic_chr_54_116:0.064562)97:0.027677,Petmar_LOC116951115:0.046122)100:0.482359)86:0.033382,((Eptbur_Eptbu0009679:1e-06,Parata_EA19978:0.324881)100:0.14273,Parata_EA17984:0.130344)100:1.25045)66:0.06006)100:0.267456,((((((Latcha_ENSLACG00000003784:0.332323,(Galgal_ENSGALG00000007862:0.177356,(Musmus_ENSMUSG00000030075:0.076344,Homsap_ENSG00000113805:0.057074)100:0.129522)100:0.188633)84:0.086252,(((Danrer_ENSDARG00000053454:0.283089,Orylat_ENSORLG00000011105:0.247167)100:0.123027,(Danrer_ENSDARG00000013647:0.191564,Orylat_ENSORLG00000005078:0.337789)100:0.180496)100:0.107695,Lepocu_ENSLOCG00000009897:0.21412)100:0.357313)75:0.045111,(((Danrer_ENSDARG00000104277:0.346206,Orylat_ENSORLG00000011363:0.541726)100:0.146372,Lepocu_ENSLOCG00000009835:0.194987)100:0.267834,(Galgal_ENSGALG00000007927:0.239461,(Musmus_ENSMUSG00000030092:0.126287,Homsap_ENSG00000134115:0.067573)100:0.200159)100:0.35628)97:0.073992)72:0.030773,((((Danrer_ENSDARG00000062880:0.264899,Orylat_ENSORLG00000004950:0.330453)100:0.125942,(Danrer_ENSDARG00000098161:0.16308,Orylat_ENSORLG00000011392:0.198759)100:0.061213)100:0.13574,Lepocu_ENSLOCG00000009813:0.172464)100:0.252809,((Xentro_cntn4:0.336771,(Galgal_ENSGALG00000008263:0.091681,(Musmus_ENSMUSG00000064293:0.046494,Homsap_ENSG00000144619:0.026077)100:0.107849)100:0.054069)100:0.101449,Latcha_ENSLACG00000012459:0.555135)100:0.064694)99:0.038793)75:0.105923,((Chipun_Chipu0002844:0.12012,Calmil_SINCAMG00000014301:0.087953)100:0.133869,(Chipun_Chipu0002847:0.413369,Chipun_Chipu0002846:0.125363)99:0.185311)100:0.212888)100:0.224645,((Latcha_ENSLACG00000009258:0.255694,((Xentro_cntn5:0.20832,(Xentro_Xetrov90006866m:0.271021,Xentro_Xetrov90006865m:0.128644)98:0.185519)100:1e-06,((Musmus_ENSMUSG00000039488:0.134157,Homsap_ENSG00000149972:0.025383)100:0.101756,Galgal_ENSGALG00000017197:0.112969)93:0.040017)91:0.097647)100:0.050269,((Danrer_ENSDARG00000021584:0.215688,Orylat_ENSORLG00000002616:0.259037)100:0.160681,Lepocu_ENSLOCG00000005476:0.127791)100:0.20142)92:0.472372)100:0.204136)100:0.140305)85:0.684109,(((Bralan_BL10751:0.290186,(Brabel_253130R:0.143882,Braflo_BF23331:0.149574)98:0.2195)100:1.28064,((((Bralan_BL22043:0.249451,(Braflo_BF08825:0.248763,Braflo_BF07634:0.115894)100:0.248582)100:0.093126,Brabel_124170F:0.26229)100:0.156578,(Brabel_124180F:0.574515,Braflo_BF07638:0.969124)100:0.246219)100:0.483721,(((Brabel_078470F:0.040294,Brabel_225110R:1e-06)100:0.239238,(Bralan_BL08427:0.183012,Braflo_BF07640:0.172168)59:0.05035)100:0.81407,(((((Bralan_BL06292:0.137385,Braflo_BF07627:0.478039)100:0.027248,Brabel_177840F:0.222742)82:0.244656,Braflo_BF07626:0.180626)100:0.157422,((Bralan_BL12820:0.36421,Braflo_BF07630:0.374987)100:0.833463,Brabel_124120R:0.148331)91:0.351927)100:0.514981,((Braflo_BF07628:0.140398,Braflo_BF07629:0.282099)99:0.077011,Bralan_BL13375:0.1522)n203:1.02536)100:0.217356)64:0.193023)90:0.804383)100:0.353655,(((Bralan_BL06071:0.538895,Braflo_BF23330:0.25174)100:0.013204,Brabel_253110R:0.160335)99:1.40246,((Bralan_BL15401:0.238611,Brabel_252950R:0.153933)100:0.883715,((Bralan_BL95760:0.17912,Brabel_252980R:0.220882)100:1.16899,(((Bralan_BL04964:0.17555,Braflo_BF23398:0.283261)97:0.234948,Brabel_214110R:0.215331)97:1.89508,(((Braflo_BF23328:0.107734,(Bralan_BL95759:0.115021,Bralan_BL06069:0.047424)95:0.050562)98:0.053744,Brabel_253100R:0.163301)88:0.129154,((Bralan_BL95758:0.19412,(Brabel_253070R:0.272654,Brabel_253010R:0.149956)94:0.068098)96:0.114602,((Braflo_BF23327:0.151244,Bralan_BL26793:0.358427)77:0.02672,((Brabel_253090R:0.12577,Brabel_253050R:0.740111)91:0.057733,(Bralan_BL95757:0.056672,Braflo_BF23326:18.3309)73:0.048245)95:0.019929)75:0.038707)89:0.109554)62:0.752073)73:0.153771)99:0.403769)100:0.366811)100:0.389055)100:0.650321)100:0.512013);\n"
     ]
    }
   ],
   "source": [
    "print(rrTrees['OG_2892'].write(format=1))"
   ]
  },
  {
   "cell_type": "code",
   "execution_count": 262,
   "metadata": {},
   "outputs": [
    {
     "name": "stdout",
     "output_type": "stream",
     "text": [
      "\n",
      "            /-Ptyfla_pfl_40v0_9_20150316_1g31822\n",
      "         /-|\n",
      "      /-|   \\-Ptyfla_pfl_40v0_9_20150316_1g25097\n",
      "     |  |\n",
      "     |   \\-Sackow_Sakowv30012058m\n",
      "     |\n",
      "   /-|         /-Strpur_LOC579970\n",
      "  |  |      /-|\n",
      "  |  |     |   \\-Strpur_LOC762569\n",
      "  |  |   /-|\n",
      "  |  |  |  |   /-Strpur_LOC115923164\n",
      "  |   \\-|   \\-|\n",
      "  |     |      \\-Strpur_LOC100893855\n",
      "  |     |\n",
      "  |      \\-Acapla_LOC110982062\n",
      "  |\n",
      "  |                     /-Eptbur_Eptbu0034081\n",
      "  |                  /-|\n",
      "  |                 |   \\-Parata_EA36646\n",
      "  |               /-|\n",
      "  |              |  |   /-Eptbur_Eptbu0034084\n",
      "  |              |   \\-|\n",
      "  |            /-|      \\-Parata_EA37041\n",
      "  |           |  |\n",
      "  |           |  |   /-Petmar_LOC116947536\n",
      "  |           |  |  |\n",
      "  |           |   \\-|      /-Letjap_g6222\n",
      "  |           |     |   /-|\n",
      "  |           |     |  |   \\-Letrei_Hic_chr_38_136\n",
      "  |           |      \\-|\n",
      "  |           |        |   /-Letjap_g6223\n",
      "  |           |         \\-|\n",
      "  |           |            \\-Letrei_Hic_chr_38_138\n",
      "  |           |\n",
      "  |           |            /-Eptbur_Eptbu0020379\n",
      "  |         /-|         /-|\n",
      "  |        |  |        |   \\-Parata_EA79398\n",
      "  |        |  |      /-|\n",
      "  |        |  |     |  |   /-Eptbur_Eptbu0026466\n",
      "  |        |  |     |   \\-|\n",
      "  |        |  |     |      \\-Parata_EA73963\n",
      "  |        |  |   /-|\n",
      "  |        |  |  |  |   /-Petmar_LOC116952791\n",
      "  |        |  |  |  |  |\n",
      "  |        |  |  |  |  |         /-Letrei_Hic_chr_55_21\n",
      "  |        |  |  |   \\-|      /-|\n",
      "  |        |  |  |     |   /-|   \\-Letrei_Hic_chr_55_213\n",
      "  |        |  |  |     |  |  |\n",
      "  |        |  |  |      \\-|   \\-Letjap_g15697\n",
      "  |        |   \\-|        |\n",
      "  |        |     |        |   /-Letjap_g15696\n",
      "  |        |     |         \\-|\n",
      "  |        |     |            \\-Letjap_g14014\n",
      "  |        |     |\n",
      "  |        |     |      /-Eptbur_Eptbu0008074\n",
      "  |        |     |   /-|\n",
      "  |        |     |  |   \\-Parata_EA12549\n",
      "  |      /-|      \\-|\n",
      "  |     |  |        |      /-Letjap_g834\n",
      "  |     |  |        |   /-|\n",
      "  |     |  |         \\-|   \\-Letrei_Hic_chr_30_223\n",
      "  |     |  |           |\n",
      "  |     |  |            \\-Petmar_LOC116942318\n",
      "  |     |  |\n",
      "  |     |  |         /-Chipun_Chipu0019713\n",
      "  |     |  |      /-|\n",
      "  |     |  |     |   \\-Calmil_SINCAMG00000009002\n",
      "  |     |  |     |\n",
      "  |     |  |     |         /-Danrer_ENSDARG00000000472\n",
      "  |     |  |   /-|      /-|\n",
      "  |     |  |  |  |   /-|   \\-Orylat_ENSORLG00000010556\n",
      "  |     |  |  |  |  |  |\n",
      "  |     |  |  |  |  |   \\-Lepocu_ENSLOCG00000011962\n",
      "  |     |  |  |  |  |\n",
      "  |     |  |  |   \\-|      /-Xentro_LOC100487049\n",
      "  |     |  |  |     |   /-|\n",
      "  |     |  |  |     |  |  |   /-Galgal_ENSGALG00000000653\n",
      "  |     |  |  |     |  |   \\-|\n",
      "  |     |  |  |      \\-|     |   /-Musmus_ENSMUSG00000053024\n",
      "  |     |  |  |        |      \\-|\n",
      "  |     |   \\-|        |         \\-Homsap_ENSG00000184144\n",
      "  |     |     |        |\n",
      "  |     |     |         \\-Latcha_ENSLACG00000013846\n",
      "  |     |     |\n",
      "  |     |     |         /-Chipun_Chipu0005182\n",
      "  |     |     |      /-|\n",
      "  |     |     |   /-|   \\-Calmil_SINCAMG00000010197\n",
      "  |     |     |  |  |\n",
      "  |     |     |  |   \\-Chipun_Chipu0005183\n",
      "--|     |     |  |\n",
      "  |     |     |  |         /-Xentro_cntn1\n",
      "  |     |     |  |      /-|\n",
      "  |     |      \\-|     |  |   /-Galgal_ENSGALG00000009523\n",
      "  |     |        |     |   \\-|\n",
      "  |     |        |   /-|     |   /-Musmus_ENSMUSG00000055022\n",
      "  |     |        |  |  |      \\-|\n",
      "  |     |        |  |  |         \\-Homsap_ENSG00000018236\n",
      "  |     |        |  |  |\n",
      "  |     |        |  |   \\-Latcha_ENSLACG00000003625\n",
      "  |     |         \\-|\n",
      "  |     |           |         /-Danrer_ENSDARG00000045685\n",
      "  |     |           |      /-|\n",
      "  |     |           |   /-|   \\-Orylat_ENSORLG00000010060\n",
      "  |     |           |  |  |\n",
      "  |   /-|            \\-|   \\-Orylat_ENSORLG00000003308\n",
      "  |  |  |              |\n",
      "  |  |  |               \\-Lepocu_ENSLOCG00000001255\n",
      "  |  |  |\n",
      "  |  |  |            /-Eptbur_Eptbu0034726\n",
      "  |  |  |         /-|\n",
      "  |  |  |        |   \\-Parata_EA20810\n",
      "  |  |  |      /-|\n",
      "  |  |  |     |  |   /-Letjap_g17785\n",
      "  |  |  |     |   \\-|\n",
      "  |  |  |     |      \\-Petmar_LOC116955302\n",
      "  |  |  |     |\n",
      "  |  |  |     |            /-Letjap_g5538\n",
      "  |  |  |     |         /-|\n",
      "  |  |  |   /-|      /-|   \\-Petmar_LOC116949329\n",
      "  |  |  |  |  |     |  |\n",
      "  |  |  |  |  |     |   \\-Letjap_g5537\n",
      "  |  |  |  |  |   /-|\n",
      "  |  |  |  |  |  |  |      /-Letjap_g13504\n",
      "  |  |  |  |  |  |  |   /-|\n",
      "  |  |  |  |  |  |   \\-|   \\-Letrei_Hic_chr_54_116\n",
      "  |  |  |  |   \\-|     |\n",
      "  |  |  |  |     |      \\-Petmar_LOC116951115\n",
      "  |  |  |  |     |\n",
      "  |  |  |  |     |      /-Eptbur_Eptbu0009679\n",
      "  |  |  |  |     |   /-|\n",
      "  |  |  |  |      \\-|   \\-Parata_EA19978\n",
      "  |  |  |  |        |\n",
      "  |  |  |  |         \\-Parata_EA17984\n",
      "  |  |  |  |\n",
      "  |  |  |  |                  /-Latcha_ENSLACG00000003784\n",
      "  |  |  |  |               /-|\n",
      "  |  |  |  |              |  |   /-Galgal_ENSGALG00000007862\n",
      "  |  |  |  |              |   \\-|\n",
      "  |  |  |  |              |     |   /-Musmus_ENSMUSG00000030075\n",
      "  |  |  |  |              |      \\-|\n",
      "  |  |  |  |              |         \\-Homsap_ENSG00000113805\n",
      "  |  |  |  |            /-|\n",
      "  |  |  |  |           |  |         /-Danrer_ENSDARG00000053454\n",
      "  |  |  |  |           |  |      /-|\n",
      "  |  |  |  |           |  |     |   \\-Orylat_ENSORLG00000011105\n",
      "  |  |  |  |           |  |   /-|\n",
      "  |  |  |  |           |  |  |  |   /-Danrer_ENSDARG00000013647\n",
      "  |  |  |  |           |   \\-|   \\-|\n",
      "  |  |  |  |         /-|     |      \\-Orylat_ENSORLG00000005078\n",
      "  |  |  |  |        |  |     |\n",
      "  |  |  |  |        |  |      \\-Lepocu_ENSLOCG00000009897\n",
      "  |  |  |  |        |  |\n",
      "  |  |   \\-|        |  |         /-Danrer_ENSDARG00000104277\n",
      "  |  |     |        |  |      /-|\n",
      "  |  |     |        |  |   /-|   \\-Orylat_ENSORLG00000011363\n",
      "  |  |     |        |  |  |  |\n",
      "  |  |     |        |   \\-|   \\-Lepocu_ENSLOCG00000009835\n",
      "  |  |     |        |     |\n",
      "  |  |     |        |     |   /-Galgal_ENSGALG00000007927\n",
      "  |  |     |        |      \\-|\n",
      "  |  |     |      /-|        |   /-Musmus_ENSMUSG00000030092\n",
      "  |  |     |     |  |         \\-|\n",
      "  |  |     |     |  |            \\-Homsap_ENSG00000134115\n",
      "  |  |     |     |  |\n",
      "  |  |     |     |  |            /-Danrer_ENSDARG00000062880\n",
      "  |  |     |     |  |         /-|\n",
      "  |  |     |     |  |        |   \\-Orylat_ENSORLG00000004950\n",
      "  |  |     |     |  |      /-|\n",
      "  |  |     |     |  |     |  |   /-Danrer_ENSDARG00000098161\n",
      "  |  |     |     |  |   /-|   \\-|\n",
      "  |  |     |     |  |  |  |      \\-Orylat_ENSORLG00000011392\n",
      "  |  |     |     |  |  |  |\n",
      "  |  |     |     |  |  |   \\-Lepocu_ENSLOCG00000009813\n",
      "   \\-|     |   /-|   \\-|\n",
      "     |     |  |  |     |      /-Xentro_cntn4\n",
      "     |     |  |  |     |   /-|\n",
      "     |     |  |  |     |  |  |   /-Galgal_ENSGALG00000008263\n",
      "     |     |  |  |     |  |   \\-|\n",
      "     |     |  |  |      \\-|     |   /-Musmus_ENSMUSG00000064293\n",
      "     |     |  |  |        |      \\-|\n",
      "     |     |  |  |        |         \\-Homsap_ENSG00000144619\n",
      "     |     |  |  |        |\n",
      "     |     |  |  |         \\-Latcha_ENSLACG00000012459\n",
      "     |     |  |  |\n",
      "     |     |  |  |      /-Chipun_Chipu0002844\n",
      "     |     |  |  |   /-|\n",
      "     |     |  |  |  |   \\-Calmil_SINCAMG00000014301\n",
      "     |      \\-|   \\-|\n",
      "     |        |     |   /-Chipun_Chipu0002847\n",
      "     |        |      \\-|\n",
      "     |        |         \\-Chipun_Chipu0002846\n",
      "     |        |\n",
      "     |        |      /-Latcha_ENSLACG00000009258\n",
      "     |        |     |\n",
      "     |        |     |      /-Xentro_cntn5\n",
      "     |        |   /-|   /-|\n",
      "     |        |  |  |  |  |   /-Xentro_Xetrov90006866m\n",
      "     |        |  |  |  |   \\-|\n",
      "     |        |  |   \\-|      \\-Xentro_Xetrov90006865m\n",
      "     |        |  |     |\n",
      "     |        |  |     |      /-Musmus_ENSMUSG00000039488\n",
      "     |         \\-|     |   /-|\n",
      "     |           |      \\-|   \\-Homsap_ENSG00000149972\n",
      "     |           |        |\n",
      "     |           |         \\-Galgal_ENSGALG00000017197\n",
      "     |           |\n",
      "     |           |      /-Danrer_ENSDARG00000021584\n",
      "     |           |   /-|\n",
      "     |            \\-|   \\-Orylat_ENSORLG00000002616\n",
      "     |              |\n",
      "     |               \\-Lepocu_ENSLOCG00000005476\n",
      "     |\n",
      "     |         /-Bralan_BL10751\n",
      "     |      /-|\n",
      "     |     |  |   /-Brabel_253130R\n",
      "     |     |   \\-|\n",
      "     |     |      \\-Braflo_BF23331\n",
      "     |     |\n",
      "     |     |            /-Bralan_BL22043\n",
      "     |     |         /-|\n",
      "     |     |        |  |   /-Braflo_BF08825\n",
      "     |     |      /-|   \\-|\n",
      "     |   /-|     |  |      \\-Braflo_BF07634\n",
      "     |  |  |     |  |\n",
      "     |  |  |   /-|   \\-Brabel_124170F\n",
      "     |  |  |  |  |\n",
      "     |  |  |  |  |   /-Brabel_124180F\n",
      "     |  |  |  |   \\-|\n",
      "     |  |  |  |      \\-Braflo_BF07638\n",
      "     |  |  |  |\n",
      "     |  |  |  |         /-Brabel_078470F\n",
      "     |  |  |  |      /-|\n",
      "     |  |   \\-|     |   \\-Brabel_225110R\n",
      "     |  |     |   /-|\n",
      "     |  |     |  |  |   /-Bralan_BL08427\n",
      "     |  |     |  |   \\-|\n",
      "     |  |     |  |      \\-Braflo_BF07640\n",
      "     |  |     |  |\n",
      "     |  |     |  |               /-Bralan_BL06292\n",
      "     |  |     |  |            /-|\n",
      "     |  |     |  |         /-|   \\-Braflo_BF07627\n",
      "     |  |      \\-|        |  |\n",
      "     |  |        |      /-|   \\-Brabel_177840F\n",
      "      \\-|        |     |  |\n",
      "        |        |     |   \\-Braflo_BF07626\n",
      "        |        |   /-|\n",
      "        |        |  |  |      /-Bralan_BL12820\n",
      "        |        |  |  |   /-|\n",
      "        |        |  |   \\-|   \\-Braflo_BF07630\n",
      "        |         \\-|     |\n",
      "        |           |      \\-Brabel_124120R\n",
      "        |           |\n",
      "        |           |      /-Braflo_BF07628\n",
      "        |           |   /-|\n",
      "        |            \\-|   \\-Braflo_BF07629\n",
      "        |              |\n",
      "        |               \\-Bralan_BL13375\n",
      "        |\n",
      "        |         /-Bralan_BL06071\n",
      "        |      /-|\n",
      "        |   /-|   \\-Braflo_BF23330\n",
      "        |  |  |\n",
      "        |  |   \\-Brabel_253110R\n",
      "        |  |\n",
      "         \\-|      /-Bralan_BL15401\n",
      "           |   /-|\n",
      "           |  |   \\-Brabel_252950R\n",
      "           |  |\n",
      "           |  |      /-Bralan_BL95760\n",
      "            \\-|   /-|\n",
      "              |  |   \\-Brabel_252980R\n",
      "              |  |\n",
      "              |  |         /-Bralan_BL04964\n",
      "              |  |      /-|\n",
      "               \\-|   /-|   \\-Braflo_BF23398\n",
      "                 |  |  |\n",
      "                 |  |   \\-Brabel_214110R\n",
      "                 |  |\n",
      "                 |  |         /-Braflo_BF23328\n",
      "                 |  |      /-|\n",
      "                  \\-|     |  |   /-Bralan_BL95759\n",
      "                    |   /-|   \\-|\n",
      "                    |  |  |      \\-Bralan_BL06069\n",
      "                    |  |  |\n",
      "                    |  |   \\-Brabel_253100R\n",
      "                    |  |\n",
      "                     \\-|      /-Bralan_BL95758\n",
      "                       |   /-|\n",
      "                       |  |  |   /-Brabel_253070R\n",
      "                       |  |   \\-|\n",
      "                       |  |      \\-Brabel_253010R\n",
      "                        \\-|\n",
      "                          |      /-Braflo_BF23327\n",
      "                          |   /-|\n",
      "                          |  |   \\-Bralan_BL26793\n",
      "                          |  |\n",
      "                           \\-|      /-Brabel_253090R\n",
      "                             |   /-|\n",
      "                             |  |   \\-Brabel_253050R\n",
      "                              \\-|\n",
      "                                |   /-Bralan_BL95757\n",
      "                                 \\-|\n",
      "                                    \\-Braflo_BF23326\n"
     ]
    }
   ],
   "source": [
    "print(rrTrees['OG_2892'])"
   ]
  },
  {
   "cell_type": "code",
   "execution_count": null,
   "metadata": {},
   "outputs": [],
   "source": []
  },
  {
   "cell_type": "code",
   "execution_count": 116,
   "metadata": {},
   "outputs": [],
   "source": [
    "i=0\n",
    "out=[]\n",
    "Pgon={}\n",
    "for f,t in rrTrees.items():\n",
    "    i+=1\n",
    "    #if i==10: break\n",
    "    at=age(t,spT)\n",
    "    #spset=set([l.species for l in t])\n",
    "    spset=set([l.species for l in t])\n",
    "    if not 'Braflo' in spset or not len(spset.intersection(verts))>0: continue   \n",
    "    BflL=t.search_nodes(species='Braflo')\n",
    "    SpuL=t.search_nodes(species='Strpur')\n",
    "    spCLG=sum([clgSpur.get(Spu[n.gid][0],[]) for n in SpuL if n.gid in Spu],[])\n",
    "    bfCLG=[BflN[l.gid] for l in BflL]\n",
    "    #clgs=sum([SpuN[l.gid] for l in SpuL],[])\n",
    "    #print(clgs)\n",
    "    #print(set(clgs).intersection(set(['A1','A2'])))\n",
    "    clg=Counter(spCLG+bfCLG).most_common()[0][0]\n",
    "    #if not clg=='CLGB': continue\n",
    "    #if len(set(clgs).intersection(set(['CLGG'])))==0:\n",
    "    #    continue\n",
    "    #print(clgs)\n",
    "    SkoL=[l.gid for l in t.search_nodes(species='Sackow')]+['']\n",
    "    PflL=[l.gid for l in t.search_nodes(species='Ptyfla')]+['']\n",
    "    AplL=[l.gid for l in t.search_nodes(species='Acapla')]+['']\n",
    "    BlaL=[l.gid for l in t.search_nodes(species='Bralan')]+['']\n",
    "    \n",
    "    anDup=checkDupr(t,clg,spPos,clg_assign2)\n",
    "    Pgon[f]=frozenset(anDup.keys())\n",
    "    pdp=set([p[-1] for p in anDup.keys()])\n",
    "    #print(i,f,clg,pdp,anDup.keys(),anDup)\n",
    "    if len(anDup)<2 or len(pdp)==1: continue # more relaxed param for A1 (and A2)\n",
    "    #if len(anDup)<3 or len(pdp)==1: continue\n",
    "    rSpu=[l.gid for l in SpuL if clg in SpuN[l.gid]]\n",
    "    rSpu.append('')\n",
    "#   print(clg,rSpu,)\n",
    "    rBfl=[l.gid for l in BflL if BflN[l.gid]==clg]\n",
    "    rBfl.append('')\n",
    "    pggn={}\n",
    "    for pgn in ['alpha1','beta1','alpha2','beta2']:\n",
    "        pggn[pgn]={}\n",
    "        for g in anDup.get(pgn,[]):\n",
    "            sp,gn=g.rsplit('_',1)\n",
    "            pggn[pgn][sp]=gn\n",
    "    #print(pggn)\n",
    "    #print([f,clg,rBfl,rSpu,BlaL,SkoL,PflL,AplL])\n",
    "    oL=[f,clg,rBfl[0],rSpu[0],BlaL[0],SkoL[0],PflL[0],AplL[0]]\n",
    "    #hd=['fid','clg','Bflo','Lepocu','Xentro','Galgal','Lepocu','Chipun','Parata']\n",
    "    spG=defaultdict(list)\n",
    "    for sp in ['Chipun','Lepocu','Xentro','Galgal']:\n",
    "        for pgn in ['alpha1','beta1','alpha2','beta2']:\n",
    "            if sp in pggn[pgn]:\n",
    "                spG[sp].append(\"{}_{}|{}\".format(sp,pggn[pgn][sp],pgn))\n",
    "                #print(\"{}_{}|{}\".format(sp,pggn[pgn][sp],pgn))\n",
    "            #print(pgn,sp,pggn[pgn].get(sp,''))\n",
    "    #hd.append(\"{}_{}\".format(pgn,sp))\n",
    "    #oL.append(pggn[pgn].get(sp,''))\n",
    "    #print(spG)\n",
    "    for l in t.search_nodes(species='Petmar'):\n",
    "        pos=spPos['Petmar'][l.gid][0]\n",
    "        if pos in clgPmar[clg]:\n",
    "            spG['Petmar'].append(\"{}_{}|{}\".format('Petmar',l.gid,pos))\n",
    "    for l in t.search_nodes(species='Parata'):\n",
    "        pos=spPos['Parata'].get(l.gid,[0])[0]\n",
    "        if pos in clgPata[clg]:\n",
    "            spG['Parata'].append(\"{}_{}|{}\".format('Parata',l.gid,pos))\n",
    "            #print(\"{}_{}|{}\".format('Parata',l.gid,pos))\n",
    "    #print(PmaL)\n",
    "    #PatL=t.search_nodes(species='Parata')\n",
    "    for sp in ['Chipun','Lepocu','Xentro','Galgal','Lepocu','Petmar','Parata']:\n",
    "        oL.append(';'.join(spG[sp]))\n",
    "    #print(hd)\n",
    "    out.append(oL)\n",
    "    #i+=1\n",
    "    "
   ]
  },
  {
   "cell_type": "code",
   "execution_count": null,
   "metadata": {},
   "outputs": [],
   "source": [
    "print(out)"
   ]
  },
  {
   "cell_type": "code",
   "execution_count": 117,
   "metadata": {},
   "outputs": [
    {
     "name": "stdout",
     "output_type": "stream",
     "text": [
      "1823\n"
     ]
    }
   ],
   "source": [
    "print(len(out))"
   ]
  },
  {
   "cell_type": "code",
   "execution_count": 118,
   "metadata": {},
   "outputs": [],
   "source": [
    "hd=['fid','clg','Bflo','Spu','Blan','Skow','Pfla','Apla','Chipun','Lepocu','Xentro','Galgal','Lepocu','Petmar','Parata']"
   ]
  },
  {
   "cell_type": "code",
   "execution_count": 119,
   "metadata": {},
   "outputs": [],
   "source": [
    "phyloclg=pd.DataFrame(out, columns =hd)"
   ]
  },
  {
   "cell_type": "code",
   "execution_count": 121,
   "metadata": {},
   "outputs": [],
   "source": [
    "phyloclg.sort_values(by=['clg'], inplace=True)\n"
   ]
  },
  {
   "cell_type": "code",
   "execution_count": 122,
   "metadata": {},
   "outputs": [
    {
     "data": {
      "text/html": [
       "<div>\n",
       "<style scoped>\n",
       "    .dataframe tbody tr th:only-of-type {\n",
       "        vertical-align: middle;\n",
       "    }\n",
       "\n",
       "    .dataframe tbody tr th {\n",
       "        vertical-align: top;\n",
       "    }\n",
       "\n",
       "    .dataframe thead th {\n",
       "        text-align: right;\n",
       "    }\n",
       "</style>\n",
       "<table border=\"1\" class=\"dataframe\">\n",
       "  <thead>\n",
       "    <tr style=\"text-align: right;\">\n",
       "      <th></th>\n",
       "      <th>fid</th>\n",
       "      <th>clg</th>\n",
       "      <th>Bflo</th>\n",
       "      <th>Spu</th>\n",
       "      <th>Blan</th>\n",
       "      <th>Skow</th>\n",
       "      <th>Pfla</th>\n",
       "      <th>Apla</th>\n",
       "      <th>Chipun</th>\n",
       "      <th>Lepocu</th>\n",
       "      <th>Xentro</th>\n",
       "      <th>Galgal</th>\n",
       "      <th>Lepocu</th>\n",
       "      <th>Petmar</th>\n",
       "      <th>Parata</th>\n",
       "    </tr>\n",
       "  </thead>\n",
       "  <tbody>\n",
       "    <tr>\n",
       "      <th>1395</th>\n",
       "      <td>OG_6628</td>\n",
       "      <td>CLGA1</td>\n",
       "      <td></td>\n",
       "      <td>LOC578715</td>\n",
       "      <td>BL09586</td>\n",
       "      <td>Sakowv30006424m</td>\n",
       "      <td>pfl_40v0_9_20150316_1g10237</td>\n",
       "      <td>LOC110980554</td>\n",
       "      <td>Chipun_Chipu0002554|alpha1;Chipun_Chipu0012983...</td>\n",
       "      <td>Lepocu_ENSLOCG00000009500|alpha1;Lepocu_ENSLOC...</td>\n",
       "      <td>Xentro_egln2|alpha1;Xentro_egln1|alpha2</td>\n",
       "      <td>Galgal_ENSGALG00000010001|alpha1;Galgal_ENSGAL...</td>\n",
       "      <td>Lepocu_ENSLOCG00000009500|alpha1;Lepocu_ENSLOC...</td>\n",
       "      <td>Petmar_LOC116953961|chrm53;Petmar_LOC116947785...</td>\n",
       "      <td>Parata_EA18103|chr13;Parata_EA12406|chr10;Para...</td>\n",
       "    </tr>\n",
       "    <tr>\n",
       "      <th>367</th>\n",
       "      <td>OG_1700</td>\n",
       "      <td>CLGA1</td>\n",
       "      <td></td>\n",
       "      <td>LOC578865</td>\n",
       "      <td>BL02832</td>\n",
       "      <td>Sakowv30002459m</td>\n",
       "      <td></td>\n",
       "      <td>LOC110976744</td>\n",
       "      <td>Chipun_Chipu0020963|alpha2</td>\n",
       "      <td>Lepocu_ENSLOCG00000016222|alpha2</td>\n",
       "      <td>Xentro_kcnk6|alpha1</td>\n",
       "      <td>Galgal_ENSGALG00000011005|alpha2</td>\n",
       "      <td>Lepocu_ENSLOCG00000016222|alpha2</td>\n",
       "      <td>Petmar_LOC116939679|chrm6;Petmar_LOC116948302|...</td>\n",
       "      <td>Parata_EA47364|chr9;Parata_EA38796|chr1</td>\n",
       "    </tr>\n",
       "    <tr>\n",
       "      <th>51</th>\n",
       "      <td>OG_1150</td>\n",
       "      <td>CLGA1</td>\n",
       "      <td></td>\n",
       "      <td>LOC575813</td>\n",
       "      <td>BL06663</td>\n",
       "      <td>Sakowv30013194m</td>\n",
       "      <td>pfl_40v0_9_20150316_1g20928</td>\n",
       "      <td>LOC110975166</td>\n",
       "      <td>Chipun_Chipu0011142|alpha2</td>\n",
       "      <td>Lepocu_ENSLOCG00000016285|alpha2</td>\n",
       "      <td>Xentro_c6orf211|beta1</td>\n",
       "      <td>Galgal_ENSGALG00000026322|alpha2</td>\n",
       "      <td>Lepocu_ENSLOCG00000016285|alpha2</td>\n",
       "      <td>Petmar_ARMT1|chrm6</td>\n",
       "      <td>Parata_EA47347|chr9</td>\n",
       "    </tr>\n",
       "    <tr>\n",
       "      <th>823</th>\n",
       "      <td>OG_2751</td>\n",
       "      <td>CLGA1</td>\n",
       "      <td></td>\n",
       "      <td>LOC580795</td>\n",
       "      <td>BL21129</td>\n",
       "      <td>Sakowv30031205m</td>\n",
       "      <td>pfl_40v0_9_20150316_1g9151</td>\n",
       "      <td>LOC110979503</td>\n",
       "      <td>Chipun_Chipu0011948|alpha1;Chipun_Chipu0022910...</td>\n",
       "      <td>Lepocu_ENSLOCG00000010222|alpha1;Lepocu_ENSLOC...</td>\n",
       "      <td>Xentro_ppp2r5e|alpha1;Xentro_ppp2r5a|alpha2</td>\n",
       "      <td>Galgal_ENSGALG00000011840|alpha1;Galgal_ENSGAL...</td>\n",
       "      <td>Lepocu_ENSLOCG00000010222|alpha1;Lepocu_ENSLOC...</td>\n",
       "      <td>Petmar_LOC116947244|chrm29;Petmar_PPP2R5E|chrm...</td>\n",
       "      <td>Parata_EA53345|chr14;Parata_EA48022|chr9</td>\n",
       "    </tr>\n",
       "    <tr>\n",
       "      <th>945</th>\n",
       "      <td>OG_3571</td>\n",
       "      <td>CLGA1</td>\n",
       "      <td></td>\n",
       "      <td>LOC115929506</td>\n",
       "      <td>BL15153</td>\n",
       "      <td>Sakowv30033198m</td>\n",
       "      <td>pfl_40v0_9_20150316_1g12625</td>\n",
       "      <td>LOC110979502</td>\n",
       "      <td>Chipun_Chipu0012844|alpha2</td>\n",
       "      <td>Lepocu_ENSLOCG00000008909|alpha1;Lepocu_ENSLOC...</td>\n",
       "      <td>Xentro_Xetrov90021168m|alpha1;Xentro_lhcgr|alpha2</td>\n",
       "      <td>Galgal_ENSGALG00000010572|alpha1;Galgal_ENSGAL...</td>\n",
       "      <td>Lepocu_ENSLOCG00000008909|alpha1;Lepocu_ENSLOC...</td>\n",
       "      <td>Petmar_LOC103091684|chrm33;Petmar_LOC103091775...</td>\n",
       "      <td>Parata_EA36232|chr1;Parata_EA11448|chr10</td>\n",
       "    </tr>\n",
       "    <tr>\n",
       "      <th>...</th>\n",
       "      <td>...</td>\n",
       "      <td>...</td>\n",
       "      <td>...</td>\n",
       "      <td>...</td>\n",
       "      <td>...</td>\n",
       "      <td>...</td>\n",
       "      <td>...</td>\n",
       "      <td>...</td>\n",
       "      <td>...</td>\n",
       "      <td>...</td>\n",
       "      <td>...</td>\n",
       "      <td>...</td>\n",
       "      <td>...</td>\n",
       "      <td>...</td>\n",
       "      <td>...</td>\n",
       "    </tr>\n",
       "    <tr>\n",
       "      <th>385</th>\n",
       "      <td>OG_17281</td>\n",
       "      <td>CLGQ</td>\n",
       "      <td>BF15228</td>\n",
       "      <td>LOC580376</td>\n",
       "      <td>BL00006</td>\n",
       "      <td>Sakowv30045756m</td>\n",
       "      <td>pfl_40v0_9_20150316_1g8026</td>\n",
       "      <td>LOC110977987</td>\n",
       "      <td>Chipun_Chipu0001412|beta1;Chipun_Chipu0008223|...</td>\n",
       "      <td>Lepocu_ENSLOCG00000009344|alpha1;Lepocu_ENSLOC...</td>\n",
       "      <td>Xentro_tet2|alpha2</td>\n",
       "      <td>Galgal_ENSGALG00000031604|alpha1;Galgal_ENSGAL...</td>\n",
       "      <td>Lepocu_ENSLOCG00000009344|alpha1;Lepocu_ENSLOC...</td>\n",
       "      <td>Petmar_LOC116950889|chrm41</td>\n",
       "      <td>Parata_EA77789|chr3;Parata_EA79111|chr3</td>\n",
       "    </tr>\n",
       "    <tr>\n",
       "      <th>1127</th>\n",
       "      <td>OG_496</td>\n",
       "      <td>CLGQ</td>\n",
       "      <td>BF15386</td>\n",
       "      <td>LOC100892398</td>\n",
       "      <td>BL03951</td>\n",
       "      <td>Sakowv30022063m</td>\n",
       "      <td>pfl_40v0_9_20150316_1g6979</td>\n",
       "      <td>LOC110977562</td>\n",
       "      <td>Chipun_Chipu0015445|alpha1;Chipun_Chipu0012572...</td>\n",
       "      <td>Lepocu_ENSLOCG00000012923|alpha1;Lepocu_ENSLOC...</td>\n",
       "      <td>Xentro_tspan14|alpha1;Xentro_tspan5|alpha2</td>\n",
       "      <td>Galgal_ENSGALG00000002414|alpha1;Galgal_ENSGAL...</td>\n",
       "      <td>Lepocu_ENSLOCG00000012923|alpha1;Lepocu_ENSLOC...</td>\n",
       "      <td>Petmar_LOC116940233|chrm8</td>\n",
       "      <td>Parata_EA04379|chr6</td>\n",
       "    </tr>\n",
       "    <tr>\n",
       "      <th>599</th>\n",
       "      <td>OG_19251</td>\n",
       "      <td>CLGQ</td>\n",
       "      <td>BF15432</td>\n",
       "      <td>LOC590057</td>\n",
       "      <td>BL24628</td>\n",
       "      <td>Sakowv30008992m</td>\n",
       "      <td>pfl_40v0_9_20150316_1g29158</td>\n",
       "      <td>LOC110981231</td>\n",
       "      <td>Chipun_Chipu0001501|beta1</td>\n",
       "      <td>Lepocu_ENSLOCG00000015345|beta1;Lepocu_ENSLOCG...</td>\n",
       "      <td>Xentro_cds1|alpha2</td>\n",
       "      <td>Galgal_ENSGALG00000030406|beta1;Galgal_ENSGALG...</td>\n",
       "      <td>Lepocu_ENSLOCG00000015345|beta1;Lepocu_ENSLOCG...</td>\n",
       "      <td>Petmar_LOC116950985|chrm41;Petmar_CDS2|chrm8</td>\n",
       "      <td>Parata_EA03551|chr6</td>\n",
       "    </tr>\n",
       "    <tr>\n",
       "      <th>438</th>\n",
       "      <td>OG_17804</td>\n",
       "      <td>CLGQ</td>\n",
       "      <td>BF26773</td>\n",
       "      <td>LOC582657</td>\n",
       "      <td>BL95131</td>\n",
       "      <td>Sakowv30014963m</td>\n",
       "      <td>pfl_40v0_9_20150316_1g20443</td>\n",
       "      <td>LOC110973998</td>\n",
       "      <td>Chipun_Chipu0015568|alpha1;Chipun_Chipu0002365...</td>\n",
       "      <td>Lepocu_ENSLOCG00000005214|alpha1;Lepocu_ENSLOC...</td>\n",
       "      <td>Xentro_sar1a|alpha1</td>\n",
       "      <td>Galgal_ENSGALG00000004431|alpha1;Galgal_ENSGAL...</td>\n",
       "      <td>Lepocu_ENSLOCG00000005214|alpha1;Lepocu_ENSLOC...</td>\n",
       "      <td></td>\n",
       "      <td>Parata_EA00504|chr6</td>\n",
       "    </tr>\n",
       "    <tr>\n",
       "      <th>147</th>\n",
       "      <td>OG_1329.2</td>\n",
       "      <td>CLGQ</td>\n",
       "      <td>BF15066</td>\n",
       "      <td>LOC753866</td>\n",
       "      <td>BL24647</td>\n",
       "      <td>Sakowv30022994m</td>\n",
       "      <td>pfl_40v0_9_20150316_1g4857</td>\n",
       "      <td>LOC110973415</td>\n",
       "      <td>Chipun_Chipu0006720|beta2</td>\n",
       "      <td>Lepocu_ENSLOCG00000007894|alpha2;Lepocu_ENSLOC...</td>\n",
       "      <td>Xentro_klhl17-like|alpha1;Xentro_klhl2|alpha2</td>\n",
       "      <td>Galgal_ENSGALG00000009554|alpha2;Galgal_ENSGAL...</td>\n",
       "      <td>Lepocu_ENSLOCG00000007894|alpha2;Lepocu_ENSLOC...</td>\n",
       "      <td>Petmar_LOC116940242|chrm8</td>\n",
       "      <td>Parata_EA02329|chr6</td>\n",
       "    </tr>\n",
       "  </tbody>\n",
       "</table>\n",
       "<p>1823 rows × 15 columns</p>\n",
       "</div>"
      ],
      "text/plain": [
       "            fid    clg     Bflo           Spu     Blan             Skow  \\\n",
       "1395    OG_6628  CLGA1              LOC578715  BL09586  Sakowv30006424m   \n",
       "367     OG_1700  CLGA1              LOC578865  BL02832  Sakowv30002459m   \n",
       "51      OG_1150  CLGA1              LOC575813  BL06663  Sakowv30013194m   \n",
       "823     OG_2751  CLGA1              LOC580795  BL21129  Sakowv30031205m   \n",
       "945     OG_3571  CLGA1           LOC115929506  BL15153  Sakowv30033198m   \n",
       "...         ...    ...      ...           ...      ...              ...   \n",
       "385    OG_17281   CLGQ  BF15228     LOC580376  BL00006  Sakowv30045756m   \n",
       "1127     OG_496   CLGQ  BF15386  LOC100892398  BL03951  Sakowv30022063m   \n",
       "599    OG_19251   CLGQ  BF15432     LOC590057  BL24628  Sakowv30008992m   \n",
       "438    OG_17804   CLGQ  BF26773     LOC582657  BL95131  Sakowv30014963m   \n",
       "147   OG_1329.2   CLGQ  BF15066     LOC753866  BL24647  Sakowv30022994m   \n",
       "\n",
       "                             Pfla          Apla  \\\n",
       "1395  pfl_40v0_9_20150316_1g10237  LOC110980554   \n",
       "367                                LOC110976744   \n",
       "51    pfl_40v0_9_20150316_1g20928  LOC110975166   \n",
       "823    pfl_40v0_9_20150316_1g9151  LOC110979503   \n",
       "945   pfl_40v0_9_20150316_1g12625  LOC110979502   \n",
       "...                           ...           ...   \n",
       "385    pfl_40v0_9_20150316_1g8026  LOC110977987   \n",
       "1127   pfl_40v0_9_20150316_1g6979  LOC110977562   \n",
       "599   pfl_40v0_9_20150316_1g29158  LOC110981231   \n",
       "438   pfl_40v0_9_20150316_1g20443  LOC110973998   \n",
       "147    pfl_40v0_9_20150316_1g4857  LOC110973415   \n",
       "\n",
       "                                                 Chipun  \\\n",
       "1395  Chipun_Chipu0002554|alpha1;Chipun_Chipu0012983...   \n",
       "367                          Chipun_Chipu0020963|alpha2   \n",
       "51                           Chipun_Chipu0011142|alpha2   \n",
       "823   Chipun_Chipu0011948|alpha1;Chipun_Chipu0022910...   \n",
       "945                          Chipun_Chipu0012844|alpha2   \n",
       "...                                                 ...   \n",
       "385   Chipun_Chipu0001412|beta1;Chipun_Chipu0008223|...   \n",
       "1127  Chipun_Chipu0015445|alpha1;Chipun_Chipu0012572...   \n",
       "599                           Chipun_Chipu0001501|beta1   \n",
       "438   Chipun_Chipu0015568|alpha1;Chipun_Chipu0002365...   \n",
       "147                           Chipun_Chipu0006720|beta2   \n",
       "\n",
       "                                                 Lepocu  \\\n",
       "1395  Lepocu_ENSLOCG00000009500|alpha1;Lepocu_ENSLOC...   \n",
       "367                    Lepocu_ENSLOCG00000016222|alpha2   \n",
       "51                     Lepocu_ENSLOCG00000016285|alpha2   \n",
       "823   Lepocu_ENSLOCG00000010222|alpha1;Lepocu_ENSLOC...   \n",
       "945   Lepocu_ENSLOCG00000008909|alpha1;Lepocu_ENSLOC...   \n",
       "...                                                 ...   \n",
       "385   Lepocu_ENSLOCG00000009344|alpha1;Lepocu_ENSLOC...   \n",
       "1127  Lepocu_ENSLOCG00000012923|alpha1;Lepocu_ENSLOC...   \n",
       "599   Lepocu_ENSLOCG00000015345|beta1;Lepocu_ENSLOCG...   \n",
       "438   Lepocu_ENSLOCG00000005214|alpha1;Lepocu_ENSLOC...   \n",
       "147   Lepocu_ENSLOCG00000007894|alpha2;Lepocu_ENSLOC...   \n",
       "\n",
       "                                                 Xentro  \\\n",
       "1395            Xentro_egln2|alpha1;Xentro_egln1|alpha2   \n",
       "367                                 Xentro_kcnk6|alpha1   \n",
       "51                                Xentro_c6orf211|beta1   \n",
       "823         Xentro_ppp2r5e|alpha1;Xentro_ppp2r5a|alpha2   \n",
       "945   Xentro_Xetrov90021168m|alpha1;Xentro_lhcgr|alpha2   \n",
       "...                                                 ...   \n",
       "385                                  Xentro_tet2|alpha2   \n",
       "1127         Xentro_tspan14|alpha1;Xentro_tspan5|alpha2   \n",
       "599                                  Xentro_cds1|alpha2   \n",
       "438                                 Xentro_sar1a|alpha1   \n",
       "147       Xentro_klhl17-like|alpha1;Xentro_klhl2|alpha2   \n",
       "\n",
       "                                                 Galgal  \\\n",
       "1395  Galgal_ENSGALG00000010001|alpha1;Galgal_ENSGAL...   \n",
       "367                    Galgal_ENSGALG00000011005|alpha2   \n",
       "51                     Galgal_ENSGALG00000026322|alpha2   \n",
       "823   Galgal_ENSGALG00000011840|alpha1;Galgal_ENSGAL...   \n",
       "945   Galgal_ENSGALG00000010572|alpha1;Galgal_ENSGAL...   \n",
       "...                                                 ...   \n",
       "385   Galgal_ENSGALG00000031604|alpha1;Galgal_ENSGAL...   \n",
       "1127  Galgal_ENSGALG00000002414|alpha1;Galgal_ENSGAL...   \n",
       "599   Galgal_ENSGALG00000030406|beta1;Galgal_ENSGALG...   \n",
       "438   Galgal_ENSGALG00000004431|alpha1;Galgal_ENSGAL...   \n",
       "147   Galgal_ENSGALG00000009554|alpha2;Galgal_ENSGAL...   \n",
       "\n",
       "                                                 Lepocu  \\\n",
       "1395  Lepocu_ENSLOCG00000009500|alpha1;Lepocu_ENSLOC...   \n",
       "367                    Lepocu_ENSLOCG00000016222|alpha2   \n",
       "51                     Lepocu_ENSLOCG00000016285|alpha2   \n",
       "823   Lepocu_ENSLOCG00000010222|alpha1;Lepocu_ENSLOC...   \n",
       "945   Lepocu_ENSLOCG00000008909|alpha1;Lepocu_ENSLOC...   \n",
       "...                                                 ...   \n",
       "385   Lepocu_ENSLOCG00000009344|alpha1;Lepocu_ENSLOC...   \n",
       "1127  Lepocu_ENSLOCG00000012923|alpha1;Lepocu_ENSLOC...   \n",
       "599   Lepocu_ENSLOCG00000015345|beta1;Lepocu_ENSLOCG...   \n",
       "438   Lepocu_ENSLOCG00000005214|alpha1;Lepocu_ENSLOC...   \n",
       "147   Lepocu_ENSLOCG00000007894|alpha2;Lepocu_ENSLOC...   \n",
       "\n",
       "                                                 Petmar  \\\n",
       "1395  Petmar_LOC116953961|chrm53;Petmar_LOC116947785...   \n",
       "367   Petmar_LOC116939679|chrm6;Petmar_LOC116948302|...   \n",
       "51                                   Petmar_ARMT1|chrm6   \n",
       "823   Petmar_LOC116947244|chrm29;Petmar_PPP2R5E|chrm...   \n",
       "945   Petmar_LOC103091684|chrm33;Petmar_LOC103091775...   \n",
       "...                                                 ...   \n",
       "385                          Petmar_LOC116950889|chrm41   \n",
       "1127                          Petmar_LOC116940233|chrm8   \n",
       "599        Petmar_LOC116950985|chrm41;Petmar_CDS2|chrm8   \n",
       "438                                                       \n",
       "147                           Petmar_LOC116940242|chrm8   \n",
       "\n",
       "                                                 Parata  \n",
       "1395  Parata_EA18103|chr13;Parata_EA12406|chr10;Para...  \n",
       "367             Parata_EA47364|chr9;Parata_EA38796|chr1  \n",
       "51                                  Parata_EA47347|chr9  \n",
       "823            Parata_EA53345|chr14;Parata_EA48022|chr9  \n",
       "945            Parata_EA36232|chr1;Parata_EA11448|chr10  \n",
       "...                                                 ...  \n",
       "385             Parata_EA77789|chr3;Parata_EA79111|chr3  \n",
       "1127                                Parata_EA04379|chr6  \n",
       "599                                 Parata_EA03551|chr6  \n",
       "438                                 Parata_EA00504|chr6  \n",
       "147                                 Parata_EA02329|chr6  \n",
       "\n",
       "[1823 rows x 15 columns]"
      ]
     },
     "execution_count": 122,
     "metadata": {},
     "output_type": "execute_result"
    }
   ],
   "source": [
    "phyloclg"
   ]
  },
  {
   "cell_type": "code",
   "execution_count": 57,
   "metadata": {},
   "outputs": [
    {
     "name": "stdout",
     "output_type": "stream",
     "text": [
      "788\n"
     ]
    }
   ],
   "source": [
    "print(len(out))"
   ]
  },
  {
   "cell_type": "code",
   "execution_count": 123,
   "metadata": {},
   "outputs": [],
   "source": [
    "phyloclg.to_csv('paralogons_genes_rsGrRx2.txt',sep='\\t',index=False)"
   ]
  },
  {
   "cell_type": "code",
   "execution_count": 124,
   "metadata": {},
   "outputs": [
    {
     "name": "stdout",
     "output_type": "stream",
     "text": [
      "Counter({frozenset(): 2220, frozenset({'alpha1'}): 1952, frozenset({'alpha2'}): 1829, frozenset({'alpha2', 'alpha1'}): 898, frozenset({'beta1'}): 497, frozenset({'beta2'}): 448, frozenset({'beta1', 'alpha1'}): 291, frozenset({'alpha1', 'alpha2', 'beta1'}): 273, frozenset({'beta2', 'alpha2'}): 198, frozenset({'beta2', 'alpha2', 'alpha1'}): 186, frozenset({'beta2', 'alpha2', 'beta1', 'alpha1'}): 133, frozenset({'alpha2', 'beta1'}): 118, frozenset({'beta2', 'alpha1'}): 87, frozenset({'beta2', 'beta1'}): 46, frozenset({'beta2', 'alpha2', 'beta1'}): 45, frozenset({'alpha1', 'beta2', 'beta1'}): 37})\n"
     ]
    }
   ],
   "source": [
    "print(Counter(Pgon.values()))"
   ]
  },
  {
   "cell_type": "markdown",
   "metadata": {},
   "source": [
    "# Check trees"
   ]
  },
  {
   "cell_type": "code",
   "execution_count": 23,
   "metadata": {},
   "outputs": [],
   "source": [
    "rrTreesAn=deepcopy(rrTrees)"
   ]
  },
  {
   "cell_type": "code",
   "execution_count": 24,
   "metadata": {},
   "outputs": [],
   "source": [
    "def extDup(anDup):\n",
    "    exdup={}\n",
    "    if 'alpha1'  in anDup and 'beta1' in anDup:\n",
    "        exdup['ab1']=anDup['alpha1']+anDup['beta1']\n",
    "    if 'alpha2'  in anDup and 'beta2' in anDup:\n",
    "        exdup['ab2']=anDup['alpha2']+anDup['beta2']\n",
    "    if all(item in [nd[-1] for nd in anDup] for item in ['1','2']):\n",
    "        exdup['12']=list(set(chain(*[anDup[nd] for nd in anDup])))\n",
    "    return exdup"
   ]
  },
  {
   "cell_type": "code",
   "execution_count": 25,
   "metadata": {},
   "outputs": [],
   "source": [
    "testt=rrTreesAn['OG_11749']"
   ]
  },
  {
   "cell_type": "code",
   "execution_count": 26,
   "metadata": {},
   "outputs": [
    {
     "name": "stdout",
     "output_type": "stream",
     "text": [
      "['Letjap', 'Letrei', 'Petmar', 'Parata', 'Eptbur', 'Calmil', 'Chipun', 'Lepocu', 'Amical', 'Danrer', 'Orylat', 'Latcha', 'Xentro', 'Galgal', 'Homsap', 'Musmus']\n"
     ]
    }
   ],
   "source": [
    "print([l.name for l in spT.search_nodes(name='Vertebrata')[0]])"
   ]
  },
  {
   "cell_type": "code",
   "execution_count": 41,
   "metadata": {},
   "outputs": [
    {
     "name": "stdout",
     "output_type": "stream",
     "text": [
      "defaultdict(<class 'int'>, {'Strpur': 7346, 'Ptyfla': 6506, 'Myxines': 3011, 'Eptbur': 2721, 'Letrei': 1066, 'Orylat': 1353, 'Galgal': 1143, 'Letjap': 4664, 'Deuterostomia': 2707, 'Bralan': 4946, 'Vertebrata': 3423, 'Euteleostei': 2406, 'Gnathostomata': 4441, 'Homsap': 931, 'Sackow': 4168, 'Braflo': 3119, 'Musmus': 1014, 'Chipun': 1832, 'Mammalia': 552, 'Cyclostomata': 1675, 'Danrer': 2023, 'Cephalochordata': 7255, 'Hyperoartia': 1868, 'Hemichordata': 1801, 'Parata': 1482, 'Xentro': 2587, 'Acapla': 2179, 'Brabel': 3276, 'Chordata': 798, 'Ceph2': 1062, 'Latcha': 911, 'Lepocu': 479, 'Echinodermata': 618, 'Actinopterygii': 642, 'Leth': 924, 'Chondrichthyes': 526, 'Osteichthyes': 764, 'Sarcopterygia': 246, 'Tetrapoda': 280, 'Ambulacraria': 581, 'Calmil': 441, 'Petmar': 514, 'Amniotes': 156})\n"
     ]
    }
   ],
   "source": [
    "i=0\n",
    "dupNds=defaultdict(int)\n",
    "pats=[]\n",
    "patDs=[]\n",
    "extpats=[]\n",
    "verts=set([l.name for l in spT.search_nodes(name='Vertebrata')[0]])\n",
    "for fid,t in rrTreesAn.items():\n",
    "    spset=set([l.species for l in t])\n",
    "    if not 'Braflo' in spset or not len(spset.intersection(verts))>0: continue\n",
    "    i+=1\n",
    "    clgct,anDup=checkDup(t,spPos)\n",
    "    edts=extDup(anDup)\n",
    "    pats.append(list(edts.keys()))\n",
    "    eda={de:age(t.get_common_ancestor(det),spT) for de,det in edts.items()}\n",
    "    edd={de:t.get_common_ancestor(det).D for de,det in edts.items() if t.get_common_ancestor(det).D=='Y'}\n",
    "    #pats.append(eda.values())\n",
    "    patDs.append(list(edd.keys()))\n",
    "    extpats.append(eda)\n",
    "    #print(fid)\n",
    "    for dn in t.search_nodes(D='Y'):\n",
    "        dupNds[age(dn,spT)]+=1\n",
    "    #if i==10: break \n",
    "\n",
    "print(dupNds)\n",
    "#print(extpats)"
   ]
  },
  {
   "cell_type": "code",
   "execution_count": 37,
   "metadata": {},
   "outputs": [
    {
     "name": "stdout",
     "output_type": "stream",
     "text": [
      "defaultdict(<class 'int'>, {'Strpur': 7346, 'Ptyfla': 6506, 'Myxines': 3011, 'Eptbur': 2721, 'Letrei': 1066, 'Orylat': 1353, 'Galgal': 1143, 'Letjap': 4664, 'Deuterostomia': 2707, 'Bralan': 4946, 'Vertebrata': 3423, 'Euteleostei': 2406, 'Gnathostomata': 4441, 'Homsap': 931, 'Sackow': 4168, 'Braflo': 3119, 'Musmus': 1014, 'Chipun': 1832, 'Mammalia': 552, 'Cyclostomata': 1675, 'Danrer': 2023, 'Cephalochordata': 7255, 'Hyperoartia': 1868, 'Hemichordata': 1801, 'Parata': 1482, 'Xentro': 2587, 'Acapla': 2179, 'Brabel': 3276, 'Chordata': 798, '': 1062, 'Latcha': 911, 'Lepocu': 479, 'Echinodermata': 618, 'Actinopterygii': 642, 'Leth': 924, 'Chondrichthyes': 526, 'Osteichthyes': 764, 'Sarcopterygia': 246, 'Tetrapoda': 280, 'Ambulacraria': 581, 'Calmil': 441, 'Petmar': 514, 'Amniotes': 156})\n"
     ]
    }
   ],
   "source": [
    "print(dupNds)"
   ]
  },
  {
   "cell_type": "code",
   "execution_count": 45,
   "metadata": {},
   "outputs": [
    {
     "name": "stdout",
     "output_type": "stream",
     "text": [
      "Counter({'': 6817, '12': 1124, 'ab2': 378, '12_ab2': 332, '12_ab1': 249, 'ab1': 207, '12_ab1_ab2': 151})\n"
     ]
    }
   ],
   "source": [
    "print(Counter(['_'.join(sorted(p)) for p in pats]))"
   ]
  },
  {
   "cell_type": "code",
   "execution_count": 47,
   "metadata": {},
   "outputs": [
    {
     "name": "stdout",
     "output_type": "stream",
     "text": [
      "Counter({'': 7187, '12': 1076, '12_ab1': 252, '12_ab2': 239, 'ab1': 185, 'ab2': 184, '12_ab1_ab2': 134, 'ab1_ab2': 1})\n"
     ]
    }
   ],
   "source": [
    "print(Counter(['_'.join(sorted(p)) for p in patDs]))"
   ]
  },
  {
   "cell_type": "code",
   "execution_count": null,
   "metadata": {},
   "outputs": [],
   "source": [
    "print(print(testt.get_ascii(attributes=[\"D\",\"name\",\"Clade\"], show_internal=True)))"
   ]
  },
  {
   "cell_type": "code",
   "execution_count": null,
   "metadata": {},
   "outputs": [],
   "source": []
  },
  {
   "cell_type": "markdown",
   "metadata": {},
   "source": [
    "# Generate a table"
   ]
  },
  {
   "cell_type": "code",
   "execution_count": 32,
   "metadata": {},
   "outputs": [],
   "source": [
    "oriRes={}\n",
    "famEvents={}\n",
    "hasCyclo={}\n",
    "clgCts={}\n",
    "cyclostomes=set(['Parata','Eptbur','Letrei','Petmar','Letjap'])\n",
    "\n",
    "nd12={}\n",
    "i=0\n",
    "for fid,ftr in rrTrees.items():\n",
    "    #print(fid)\n",
    "    spset=set([l.species for l in ftr])\n",
    "    if not 'Braflo' in spset or not len(spset.intersection(verts))>0: continue\n",
    "    clgct,anDup=checkDup(ftr,spPos)\n",
    "    #dec,acd=checkCyclo(ftr,spT)\n",
    "    clgCts[fid]=clgct\n",
    "    oridup=oriDup(ftr,anDup,spT)\n",
    "    famEvents[fid]=anDup\n",
    "    #print(fid,anDup,oridup)\n",
    "    glf=[l.name for l in ftr if l.species in cyclostomes]\n",
    "    hasCyclo[fid]=len(glf)\n",
    "    #print fid,anDup,oridup\n",
    "    oriRes[fid]=oridup\n",
    "    ori12=oriDup12(ftr,anDup,spT)\n",
    "    #print(ori12)\n",
    "    if len(ori12)>0:\n",
    "        n12=ftr.get_common_ancestor(list(ori12.values()))\n",
    "        nd12[fid]=n12.D\n",
    "    else:\n",
    "        nd12[fid]='NA'\n",
    "    #print(n12.name,n12.D)\n",
    "    i+=1\n",
    "    #if i==10: break\n",
    "   "
   ]
  },
  {
   "cell_type": "code",
   "execution_count": 146,
   "metadata": {},
   "outputs": [
    {
     "name": "stdout",
     "output_type": "stream",
     "text": [
      "defaultdict(<class 'list'>, {'alpha2': ['Lepocu_ENSLOCG00000007566', 'Xentro_sf3b3', 'Galgal_ENSGALG00000002531'], 'beta2': []})\n",
      "[('OG_1000', defaultdict(<class 'list'>, {})), ('OG_1001', defaultdict(<class 'list'>, {'beta2': ['Xentro_mau2', 'Galgal_ENSGALG00000002969', 'Lepocu_ENSLOCG00000004881'], 'alpha2': []})), ('OG_1002', defaultdict(<class 'list'>, {})), ('OG_1003.1', defaultdict(<class 'list'>, {'alpha2': ['Lepocu_ENSLOCG00000012369', 'Galgal_ENSGALG00000026195'], 'beta2': []})), ('OG_1004', defaultdict(<class 'list'>, {'alpha1': ['Xentro_rpl4', 'Galgal_ENSGALG00000007711', 'Lepocu_ENSLOCG00000013867'], 'beta1': []})), ('OG_1006', defaultdict(<class 'list'>, {'beta2': ['Xentro_hmgcr-like'], 'alpha2': ['Galgal_ENSGALG00000014948', 'Lepocu_ENSLOCG00000005433']})), ('OG_1007', defaultdict(<class 'list'>, {'beta2': ['Xentro_camk4', 'Lepocu_ENSLOCG00000001661', 'Xentro_LOC100496389', 'Galgal_ENSGALG00000015203'], 'alpha2': ['Galgal_ENSGALG00000000244', 'Lepocu_ENSLOCG00000010354']})), ('OG_1009', defaultdict(<class 'list'>, {'alpha2': ['Galgal_ENSGALG00000032458', 'Lepocu_ENSLOCG00000016767'], 'beta2': []})), ('OG_1011', defaultdict(<class 'list'>, {'beta1': ['Xentro_Xetrov90007666m', 'Lepocu_ENSLOCG00000012089'], 'alpha1': []})), ('OG_1012', defaultdict(<class 'list'>, {}))]\n",
      "[('OG_1000', {}), ('OG_1001', {'beta2': 'Osteichthyes'}), ('OG_1002', {}), ('OG_1003.1', {'alpha2': 'Osteichthyes'}), ('OG_1004', {'alpha1': 'Osteichthyes'}), ('OG_1006', {'alpha2': 'Osteichthyes', 'ab2': 'Osteichthyes'}), ('OG_1007', {'beta2': 'Gnathostomata', 'alpha2': 'Osteichthyes', 'ab2': 'Gnathostomata'}), ('OG_1009', {'alpha2': 'Osteichthyes'}), ('OG_1011', {'beta1': 'Osteichthyes'}), ('OG_1012', {})]\n"
     ]
    }
   ],
   "source": [
    "print(anDup)\n",
    "print(list(famEvents.items())[0:10])\n",
    "print(list(oriRes.items())[0:10])"
   ]
  },
  {
   "cell_type": "code",
   "execution_count": 147,
   "metadata": {},
   "outputs": [],
   "source": [
    "clgNb={og:len(ct) for og,ct in clgCts.items()}\n",
    "clgPck={og:ct.most_common(1)[0][0] for og,ct in clgCts.items()}"
   ]
  },
  {
   "cell_type": "code",
   "execution_count": 148,
   "metadata": {},
   "outputs": [],
   "source": [
    "hsaRef={}\n",
    "for og in rTrees:\n",
    "    hgns=[]\n",
    "    for l in rTrees[og]:\n",
    "        if l.species=='Homsap':\n",
    "            hg=l.name.split('_')[1]\n",
    "            if hg in HsaN:\n",
    "                #hgns.append('{}:{}'.format(hg,HsaN[hg]))\n",
    "                hgns.append(HsaN[hg])\n",
    "\n",
    "    hsaRef[og]=','.join(hgns)"
   ]
  },
  {
   "cell_type": "code",
   "execution_count": 149,
   "metadata": {},
   "outputs": [
    {
     "name": "stdout",
     "output_type": "stream",
     "text": [
      " 2456\n",
      "alpha2 beta2 2443\n",
      "alpha1 beta1 2503\n",
      "beta1 alpha1 alpha2 beta2 1856\n"
     ]
    }
   ],
   "source": [
    "for fs,ct in Counter([frozenset(evn) for fid,evn in famEvents.items()]).items():\n",
    "    print(' '.join(list(fs)),ct)"
   ]
  },
  {
   "cell_type": "code",
   "execution_count": 150,
   "metadata": {},
   "outputs": [],
   "source": [
    "evO=['alpha1','alpha2','beta1','beta2','ab1','ab2','12']\n",
    "evN0=['Nd_a1','Nd_a2','Nd_b1','Nd_b2','Nd_ab1','Nd_ab2','Nd_12']\n",
    "oriresflat=[]\n",
    "for fid in oriRes:\n",
    "    oriresflat.append([fid]+[oriRes[fid].get(ev,nan)for ev in evO])\n",
    "df = pd.DataFrame(oriresflat, columns =['fid']+evN0).set_index('fid')    "
   ]
  },
  {
   "cell_type": "code",
   "execution_count": 151,
   "metadata": {},
   "outputs": [],
   "source": [
    "df[\"CLG\"] = pd.Series(clgPck)\n",
    "df[\"NbCLG\"] = pd.Series(clgNb)\n",
    "df[\"HsaNms\"] = pd.Series(hsaRef)\n",
    "df[\"N12_Dup\"] = pd.Series(nd12)"
   ]
  },
  {
   "cell_type": "code",
   "execution_count": 152,
   "metadata": {},
   "outputs": [
    {
     "data": {
      "text/html": [
       "<div>\n",
       "<style scoped>\n",
       "    .dataframe tbody tr th:only-of-type {\n",
       "        vertical-align: middle;\n",
       "    }\n",
       "\n",
       "    .dataframe tbody tr th {\n",
       "        vertical-align: top;\n",
       "    }\n",
       "\n",
       "    .dataframe thead th {\n",
       "        text-align: right;\n",
       "    }\n",
       "</style>\n",
       "<table border=\"1\" class=\"dataframe\">\n",
       "  <thead>\n",
       "    <tr style=\"text-align: right;\">\n",
       "      <th></th>\n",
       "      <th>Nd_a1</th>\n",
       "      <th>Nd_a2</th>\n",
       "      <th>Nd_b1</th>\n",
       "      <th>Nd_b2</th>\n",
       "      <th>Nd_ab1</th>\n",
       "      <th>Nd_ab2</th>\n",
       "      <th>Nd_12</th>\n",
       "      <th>CLG</th>\n",
       "      <th>NbCLG</th>\n",
       "      <th>HsaNms</th>\n",
       "      <th>N12_Dup</th>\n",
       "    </tr>\n",
       "    <tr>\n",
       "      <th>fid</th>\n",
       "      <th></th>\n",
       "      <th></th>\n",
       "      <th></th>\n",
       "      <th></th>\n",
       "      <th></th>\n",
       "      <th></th>\n",
       "      <th></th>\n",
       "      <th></th>\n",
       "      <th></th>\n",
       "      <th></th>\n",
       "      <th></th>\n",
       "    </tr>\n",
       "  </thead>\n",
       "  <tbody>\n",
       "    <tr>\n",
       "      <th>OG_1000</th>\n",
       "      <td>NaN</td>\n",
       "      <td>NaN</td>\n",
       "      <td>NaN</td>\n",
       "      <td>NaN</td>\n",
       "      <td>NaN</td>\n",
       "      <td>NaN</td>\n",
       "      <td>NaN</td>\n",
       "      <td>CLGB</td>\n",
       "      <td>1</td>\n",
       "      <td>POLE</td>\n",
       "      <td>NA</td>\n",
       "    </tr>\n",
       "    <tr>\n",
       "      <th>OG_1001</th>\n",
       "      <td>NaN</td>\n",
       "      <td>NaN</td>\n",
       "      <td>NaN</td>\n",
       "      <td>Osteichthyes</td>\n",
       "      <td>NaN</td>\n",
       "      <td>NaN</td>\n",
       "      <td>NaN</td>\n",
       "      <td>CLGC</td>\n",
       "      <td>1</td>\n",
       "      <td>MAU2</td>\n",
       "      <td>N</td>\n",
       "    </tr>\n",
       "    <tr>\n",
       "      <th>OG_1002</th>\n",
       "      <td>NaN</td>\n",
       "      <td>NaN</td>\n",
       "      <td>NaN</td>\n",
       "      <td>NaN</td>\n",
       "      <td>NaN</td>\n",
       "      <td>NaN</td>\n",
       "      <td>NaN</td>\n",
       "      <td>CLGC</td>\n",
       "      <td>1</td>\n",
       "      <td>GTDC1</td>\n",
       "      <td>NA</td>\n",
       "    </tr>\n",
       "    <tr>\n",
       "      <th>OG_1003.1</th>\n",
       "      <td>NaN</td>\n",
       "      <td>Osteichthyes</td>\n",
       "      <td>NaN</td>\n",
       "      <td>NaN</td>\n",
       "      <td>NaN</td>\n",
       "      <td>NaN</td>\n",
       "      <td>NaN</td>\n",
       "      <td>CLGC</td>\n",
       "      <td>1</td>\n",
       "      <td>NaN</td>\n",
       "      <td>N</td>\n",
       "    </tr>\n",
       "    <tr>\n",
       "      <th>OG_1004</th>\n",
       "      <td>Osteichthyes</td>\n",
       "      <td>NaN</td>\n",
       "      <td>NaN</td>\n",
       "      <td>NaN</td>\n",
       "      <td>NaN</td>\n",
       "      <td>NaN</td>\n",
       "      <td>NaN</td>\n",
       "      <td>CLGC</td>\n",
       "      <td>1</td>\n",
       "      <td>RPL4</td>\n",
       "      <td>N</td>\n",
       "    </tr>\n",
       "    <tr>\n",
       "      <th>...</th>\n",
       "      <td>...</td>\n",
       "      <td>...</td>\n",
       "      <td>...</td>\n",
       "      <td>...</td>\n",
       "      <td>...</td>\n",
       "      <td>...</td>\n",
       "      <td>...</td>\n",
       "      <td>...</td>\n",
       "      <td>...</td>\n",
       "      <td>...</td>\n",
       "      <td>...</td>\n",
       "    </tr>\n",
       "    <tr>\n",
       "      <th>OG_996</th>\n",
       "      <td>Osteichthyes</td>\n",
       "      <td>NaN</td>\n",
       "      <td>NaN</td>\n",
       "      <td>NaN</td>\n",
       "      <td>NaN</td>\n",
       "      <td>NaN</td>\n",
       "      <td>NaN</td>\n",
       "      <td>CLGA</td>\n",
       "      <td>1</td>\n",
       "      <td>HECTD1</td>\n",
       "      <td>N</td>\n",
       "    </tr>\n",
       "    <tr>\n",
       "      <th>OG_997</th>\n",
       "      <td>NaN</td>\n",
       "      <td>NaN</td>\n",
       "      <td>NaN</td>\n",
       "      <td>NaN</td>\n",
       "      <td>NaN</td>\n",
       "      <td>NaN</td>\n",
       "      <td>NaN</td>\n",
       "      <td>CLGC</td>\n",
       "      <td>1</td>\n",
       "      <td>MECR</td>\n",
       "      <td>NA</td>\n",
       "    </tr>\n",
       "    <tr>\n",
       "      <th>OG_998</th>\n",
       "      <td>NaN</td>\n",
       "      <td>NaN</td>\n",
       "      <td>NaN</td>\n",
       "      <td>NaN</td>\n",
       "      <td>NaN</td>\n",
       "      <td>NaN</td>\n",
       "      <td>NaN</td>\n",
       "      <td>CLGJ</td>\n",
       "      <td>1</td>\n",
       "      <td>C1orf123</td>\n",
       "      <td>NA</td>\n",
       "    </tr>\n",
       "    <tr>\n",
       "      <th>OG_999</th>\n",
       "      <td>NaN</td>\n",
       "      <td>NaN</td>\n",
       "      <td>NaN</td>\n",
       "      <td>Osteichthyes</td>\n",
       "      <td>NaN</td>\n",
       "      <td>NaN</td>\n",
       "      <td>NaN</td>\n",
       "      <td>CLGJ</td>\n",
       "      <td>1</td>\n",
       "      <td>PPP1R8</td>\n",
       "      <td>N</td>\n",
       "    </tr>\n",
       "    <tr>\n",
       "      <th>OG_9</th>\n",
       "      <td>NaN</td>\n",
       "      <td>Osteichthyes</td>\n",
       "      <td>NaN</td>\n",
       "      <td>NaN</td>\n",
       "      <td>NaN</td>\n",
       "      <td>NaN</td>\n",
       "      <td>NaN</td>\n",
       "      <td>CLGD</td>\n",
       "      <td>1</td>\n",
       "      <td></td>\n",
       "      <td>N</td>\n",
       "    </tr>\n",
       "  </tbody>\n",
       "</table>\n",
       "<p>9258 rows × 11 columns</p>\n",
       "</div>"
      ],
      "text/plain": [
       "                  Nd_a1         Nd_a2 Nd_b1         Nd_b2 Nd_ab1 Nd_ab2 Nd_12  \\\n",
       "fid                                                                             \n",
       "OG_1000             NaN           NaN   NaN           NaN    NaN    NaN   NaN   \n",
       "OG_1001             NaN           NaN   NaN  Osteichthyes    NaN    NaN   NaN   \n",
       "OG_1002             NaN           NaN   NaN           NaN    NaN    NaN   NaN   \n",
       "OG_1003.1           NaN  Osteichthyes   NaN           NaN    NaN    NaN   NaN   \n",
       "OG_1004    Osteichthyes           NaN   NaN           NaN    NaN    NaN   NaN   \n",
       "...                 ...           ...   ...           ...    ...    ...   ...   \n",
       "OG_996     Osteichthyes           NaN   NaN           NaN    NaN    NaN   NaN   \n",
       "OG_997              NaN           NaN   NaN           NaN    NaN    NaN   NaN   \n",
       "OG_998              NaN           NaN   NaN           NaN    NaN    NaN   NaN   \n",
       "OG_999              NaN           NaN   NaN  Osteichthyes    NaN    NaN   NaN   \n",
       "OG_9                NaN  Osteichthyes   NaN           NaN    NaN    NaN   NaN   \n",
       "\n",
       "            CLG  NbCLG    HsaNms N12_Dup  \n",
       "fid                                       \n",
       "OG_1000    CLGB      1      POLE      NA  \n",
       "OG_1001    CLGC      1      MAU2       N  \n",
       "OG_1002    CLGC      1     GTDC1      NA  \n",
       "OG_1003.1  CLGC      1       NaN       N  \n",
       "OG_1004    CLGC      1      RPL4       N  \n",
       "...         ...    ...       ...     ...  \n",
       "OG_996     CLGA      1    HECTD1       N  \n",
       "OG_997     CLGC      1      MECR      NA  \n",
       "OG_998     CLGJ      1  C1orf123      NA  \n",
       "OG_999     CLGJ      1    PPP1R8       N  \n",
       "OG_9       CLGD      1                 N  \n",
       "\n",
       "[9258 rows x 11 columns]"
      ]
     },
     "execution_count": 152,
     "metadata": {},
     "output_type": "execute_result"
    }
   ],
   "source": [
    "df"
   ]
  },
  {
   "cell_type": "code",
   "execution_count": 153,
   "metadata": {},
   "outputs": [],
   "source": [
    "link={}\n",
    "for og in rrTrees:\n",
    "    t=rrTrees[og]\n",
    "    link[og]='http://202.182.123.7/trees/{}.png'.format(og)\n",
    "    #t.render(\"png_trees/{}.png\".format(og), w=180,units=\"mm\")"
   ]
  },
  {
   "cell_type": "markdown",
   "metadata": {},
   "source": [
    "### Check cyclostomes further"
   ]
  },
  {
   "cell_type": "code",
   "execution_count": 68,
   "metadata": {},
   "outputs": [],
   "source": [
    "dupCyc={}\n",
    "dupLfCyc={}\n",
    "for fid in rrTrees:\n",
    "    dec,acd=checkCyclo(rrTrees[fid],spT)\n",
    "    dupCyc[fid]=dec\n",
    "    dupLfCyc[fid]=acd"
   ]
  },
  {
   "cell_type": "code",
   "execution_count": 66,
   "metadata": {},
   "outputs": [
    {
     "name": "stdout",
     "output_type": "stream",
     "text": [
      "[('OG_10006', []), ('OG_1000', [['Eptbur_Eptbu0039275', 'Eptbur_Eptbu0002172', 'Parata_EA11680', 'Eptbur_Eptbu0040463', 'Parata_EA10592']]), ('OG_1001', [['Eptbur_Eptbu0036718', 'Eptbur_Eptbu0038182', 'Parata_EA09890', 'Eptbur_Eptbu0038084', 'Eptbur_Eptbu0042124', 'Parata_EA12192'], ['Eptbur_Eptbu0038084', 'Eptbur_Eptbu0042124', 'Parata_EA12192']]), ('OG_1002', []), ('OG_1003.1', []), ('OG_1003.2', []), ('OG_1004', []), ('OG_1005', []), ('OG_1006', []), ('OG_1007', []), ('OG_1009', []), ('OG_1011', []), ('OG_1012', []), ('OG_1013', []), ('OG_1014', []), ('OG_1016', [['Eptbur_Eptbu0005258', 'Parata_EA73540', 'Letjap_g13385', 'Petmar_LOC116946835', 'Eptbur_Eptbu0008385', 'Parata_EA16224']]), ('OG_1017', []), ('OG_1018', []), ('OG_1019', [['Petmar_LOC116950297', 'Letjap_g15184', 'Letjap_g15183', 'Letjap_g16626', 'Petmar_LOC116950298', 'Petmar_LOC116939115', 'Letjap_g5453', 'Letrei_Hic_chr_27_173'], ['Eptbur_Eptbu0030203', 'Parata_EA62128', 'Eptbur_Eptbu0030205', 'Parata_EA62614'], ['Petmar_LOC116950297', 'Letjap_g15184', 'Letjap_g15183', 'Letjap_g16626', 'Petmar_LOC116950298']])]\n"
     ]
    }
   ],
   "source": [
    "print(list(dupLfCyc.items())[0:19])"
   ]
  },
  {
   "cell_type": "code",
   "execution_count": 155,
   "metadata": {},
   "outputs": [],
   "source": [
    "dupCycS={fid:','.join(map(str,l)) for fid,l in dupCyc.items() if not l==[]}"
   ]
  },
  {
   "cell_type": "code",
   "execution_count": 156,
   "metadata": {},
   "outputs": [],
   "source": [
    "df[\"link\"] = pd.Series(link)\n",
    "df['hasCyclo']=pd.Series(hasCyclo)\n",
    "df['CycloDup']=pd.Series(dupCycS)\n",
    "cols = df.columns.tolist()\n",
    "recols=[ 'CLG', 'NbCLG', 'N12_Dup','hasCyclo', 'CycloDup' , 'Nd_a1', 'Nd_a2', 'Nd_b1', 'Nd_b2', 'Nd_ab1', 'Nd_ab2', 'Nd_12','HsaNms','link' ]\n",
    "#recols=[ 'CLG', 'NbCLG', 'N12_Dup','hasCyclo', 'CycloDup' , 'Nd_a1', 'Nd_a2', 'Nd_b1', 'Nd_b2', 'Nd_ab1', 'Nd_ab2', 'Nd_12','HsaNms' ]\n",
    "\n",
    "df=df[recols]"
   ]
  },
  {
   "cell_type": "code",
   "execution_count": 157,
   "metadata": {},
   "outputs": [
    {
     "data": {
      "text/html": [
       "<div>\n",
       "<style scoped>\n",
       "    .dataframe tbody tr th:only-of-type {\n",
       "        vertical-align: middle;\n",
       "    }\n",
       "\n",
       "    .dataframe tbody tr th {\n",
       "        vertical-align: top;\n",
       "    }\n",
       "\n",
       "    .dataframe thead th {\n",
       "        text-align: right;\n",
       "    }\n",
       "</style>\n",
       "<table border=\"1\" class=\"dataframe\">\n",
       "  <thead>\n",
       "    <tr style=\"text-align: right;\">\n",
       "      <th></th>\n",
       "      <th>CLG</th>\n",
       "      <th>NbCLG</th>\n",
       "      <th>N12_Dup</th>\n",
       "      <th>hasCyclo</th>\n",
       "      <th>CycloDup</th>\n",
       "      <th>Nd_a1</th>\n",
       "      <th>Nd_a2</th>\n",
       "      <th>Nd_b1</th>\n",
       "      <th>Nd_b2</th>\n",
       "      <th>Nd_ab1</th>\n",
       "      <th>Nd_ab2</th>\n",
       "      <th>Nd_12</th>\n",
       "      <th>HsaNms</th>\n",
       "      <th>link</th>\n",
       "    </tr>\n",
       "    <tr>\n",
       "      <th>fid</th>\n",
       "      <th></th>\n",
       "      <th></th>\n",
       "      <th></th>\n",
       "      <th></th>\n",
       "      <th></th>\n",
       "      <th></th>\n",
       "      <th></th>\n",
       "      <th></th>\n",
       "      <th></th>\n",
       "      <th></th>\n",
       "      <th></th>\n",
       "      <th></th>\n",
       "      <th></th>\n",
       "      <th></th>\n",
       "    </tr>\n",
       "  </thead>\n",
       "  <tbody>\n",
       "    <tr>\n",
       "      <th>OG_1000</th>\n",
       "      <td>CLGB</td>\n",
       "      <td>1</td>\n",
       "      <td>NA</td>\n",
       "      <td>10</td>\n",
       "      <td>1</td>\n",
       "      <td>NaN</td>\n",
       "      <td>NaN</td>\n",
       "      <td>NaN</td>\n",
       "      <td>NaN</td>\n",
       "      <td>NaN</td>\n",
       "      <td>NaN</td>\n",
       "      <td>NaN</td>\n",
       "      <td>POLE</td>\n",
       "      <td>http://202.182.123.7/trees/OG_1000.png</td>\n",
       "    </tr>\n",
       "    <tr>\n",
       "      <th>OG_1001</th>\n",
       "      <td>CLGC</td>\n",
       "      <td>1</td>\n",
       "      <td>N</td>\n",
       "      <td>10</td>\n",
       "      <td>2</td>\n",
       "      <td>NaN</td>\n",
       "      <td>NaN</td>\n",
       "      <td>NaN</td>\n",
       "      <td>Osteichthyes</td>\n",
       "      <td>NaN</td>\n",
       "      <td>NaN</td>\n",
       "      <td>NaN</td>\n",
       "      <td>MAU2</td>\n",
       "      <td>http://202.182.123.7/trees/OG_1001.png</td>\n",
       "    </tr>\n",
       "    <tr>\n",
       "      <th>OG_1002</th>\n",
       "      <td>CLGC</td>\n",
       "      <td>1</td>\n",
       "      <td>NA</td>\n",
       "      <td>4</td>\n",
       "      <td>0</td>\n",
       "      <td>NaN</td>\n",
       "      <td>NaN</td>\n",
       "      <td>NaN</td>\n",
       "      <td>NaN</td>\n",
       "      <td>NaN</td>\n",
       "      <td>NaN</td>\n",
       "      <td>NaN</td>\n",
       "      <td>GTDC1</td>\n",
       "      <td>http://202.182.123.7/trees/OG_1002.png</td>\n",
       "    </tr>\n",
       "    <tr>\n",
       "      <th>OG_1003.1</th>\n",
       "      <td>CLGC</td>\n",
       "      <td>1</td>\n",
       "      <td>N</td>\n",
       "      <td>7</td>\n",
       "      <td>0</td>\n",
       "      <td>NaN</td>\n",
       "      <td>Osteichthyes</td>\n",
       "      <td>NaN</td>\n",
       "      <td>NaN</td>\n",
       "      <td>NaN</td>\n",
       "      <td>NaN</td>\n",
       "      <td>NaN</td>\n",
       "      <td>NaN</td>\n",
       "      <td>http://202.182.123.7/trees/OG_1003.1.png</td>\n",
       "    </tr>\n",
       "    <tr>\n",
       "      <th>OG_1004</th>\n",
       "      <td>CLGC</td>\n",
       "      <td>1</td>\n",
       "      <td>N</td>\n",
       "      <td>5</td>\n",
       "      <td>0,0</td>\n",
       "      <td>Osteichthyes</td>\n",
       "      <td>NaN</td>\n",
       "      <td>NaN</td>\n",
       "      <td>NaN</td>\n",
       "      <td>NaN</td>\n",
       "      <td>NaN</td>\n",
       "      <td>NaN</td>\n",
       "      <td>RPL4</td>\n",
       "      <td>http://202.182.123.7/trees/OG_1004.png</td>\n",
       "    </tr>\n",
       "    <tr>\n",
       "      <th>...</th>\n",
       "      <td>...</td>\n",
       "      <td>...</td>\n",
       "      <td>...</td>\n",
       "      <td>...</td>\n",
       "      <td>...</td>\n",
       "      <td>...</td>\n",
       "      <td>...</td>\n",
       "      <td>...</td>\n",
       "      <td>...</td>\n",
       "      <td>...</td>\n",
       "      <td>...</td>\n",
       "      <td>...</td>\n",
       "      <td>...</td>\n",
       "      <td>...</td>\n",
       "    </tr>\n",
       "    <tr>\n",
       "      <th>OG_996</th>\n",
       "      <td>CLGA</td>\n",
       "      <td>1</td>\n",
       "      <td>N</td>\n",
       "      <td>5</td>\n",
       "      <td>0</td>\n",
       "      <td>Osteichthyes</td>\n",
       "      <td>NaN</td>\n",
       "      <td>NaN</td>\n",
       "      <td>NaN</td>\n",
       "      <td>NaN</td>\n",
       "      <td>NaN</td>\n",
       "      <td>NaN</td>\n",
       "      <td>HECTD1</td>\n",
       "      <td>http://202.182.123.7/trees/OG_996.png</td>\n",
       "    </tr>\n",
       "    <tr>\n",
       "      <th>OG_997</th>\n",
       "      <td>CLGC</td>\n",
       "      <td>1</td>\n",
       "      <td>NA</td>\n",
       "      <td>10</td>\n",
       "      <td>1</td>\n",
       "      <td>NaN</td>\n",
       "      <td>NaN</td>\n",
       "      <td>NaN</td>\n",
       "      <td>NaN</td>\n",
       "      <td>NaN</td>\n",
       "      <td>NaN</td>\n",
       "      <td>NaN</td>\n",
       "      <td>MECR</td>\n",
       "      <td>http://202.182.123.7/trees/OG_997.png</td>\n",
       "    </tr>\n",
       "    <tr>\n",
       "      <th>OG_998</th>\n",
       "      <td>CLGJ</td>\n",
       "      <td>1</td>\n",
       "      <td>NA</td>\n",
       "      <td>4</td>\n",
       "      <td>0</td>\n",
       "      <td>NaN</td>\n",
       "      <td>NaN</td>\n",
       "      <td>NaN</td>\n",
       "      <td>NaN</td>\n",
       "      <td>NaN</td>\n",
       "      <td>NaN</td>\n",
       "      <td>NaN</td>\n",
       "      <td>C1orf123</td>\n",
       "      <td>http://202.182.123.7/trees/OG_998.png</td>\n",
       "    </tr>\n",
       "    <tr>\n",
       "      <th>OG_999</th>\n",
       "      <td>CLGJ</td>\n",
       "      <td>1</td>\n",
       "      <td>N</td>\n",
       "      <td>6</td>\n",
       "      <td>0</td>\n",
       "      <td>NaN</td>\n",
       "      <td>NaN</td>\n",
       "      <td>NaN</td>\n",
       "      <td>Osteichthyes</td>\n",
       "      <td>NaN</td>\n",
       "      <td>NaN</td>\n",
       "      <td>NaN</td>\n",
       "      <td>PPP1R8</td>\n",
       "      <td>http://202.182.123.7/trees/OG_999.png</td>\n",
       "    </tr>\n",
       "    <tr>\n",
       "      <th>OG_9</th>\n",
       "      <td>CLGD</td>\n",
       "      <td>1</td>\n",
       "      <td>N</td>\n",
       "      <td>6</td>\n",
       "      <td>0</td>\n",
       "      <td>NaN</td>\n",
       "      <td>Osteichthyes</td>\n",
       "      <td>NaN</td>\n",
       "      <td>NaN</td>\n",
       "      <td>NaN</td>\n",
       "      <td>NaN</td>\n",
       "      <td>NaN</td>\n",
       "      <td></td>\n",
       "      <td>http://202.182.123.7/trees/OG_9.png</td>\n",
       "    </tr>\n",
       "  </tbody>\n",
       "</table>\n",
       "<p>7941 rows × 14 columns</p>\n",
       "</div>"
      ],
      "text/plain": [
       "            CLG  NbCLG N12_Dup  hasCyclo CycloDup         Nd_a1         Nd_a2  \\\n",
       "fid                                                                             \n",
       "OG_1000    CLGB      1      NA        10        1           NaN           NaN   \n",
       "OG_1001    CLGC      1       N        10        2           NaN           NaN   \n",
       "OG_1002    CLGC      1      NA         4        0           NaN           NaN   \n",
       "OG_1003.1  CLGC      1       N         7        0           NaN  Osteichthyes   \n",
       "OG_1004    CLGC      1       N         5      0,0  Osteichthyes           NaN   \n",
       "...         ...    ...     ...       ...      ...           ...           ...   \n",
       "OG_996     CLGA      1       N         5        0  Osteichthyes           NaN   \n",
       "OG_997     CLGC      1      NA        10        1           NaN           NaN   \n",
       "OG_998     CLGJ      1      NA         4        0           NaN           NaN   \n",
       "OG_999     CLGJ      1       N         6        0           NaN           NaN   \n",
       "OG_9       CLGD      1       N         6        0           NaN  Osteichthyes   \n",
       "\n",
       "          Nd_b1         Nd_b2 Nd_ab1 Nd_ab2 Nd_12    HsaNms  \\\n",
       "fid                                                           \n",
       "OG_1000     NaN           NaN    NaN    NaN   NaN      POLE   \n",
       "OG_1001     NaN  Osteichthyes    NaN    NaN   NaN      MAU2   \n",
       "OG_1002     NaN           NaN    NaN    NaN   NaN     GTDC1   \n",
       "OG_1003.1   NaN           NaN    NaN    NaN   NaN       NaN   \n",
       "OG_1004     NaN           NaN    NaN    NaN   NaN      RPL4   \n",
       "...         ...           ...    ...    ...   ...       ...   \n",
       "OG_996      NaN           NaN    NaN    NaN   NaN    HECTD1   \n",
       "OG_997      NaN           NaN    NaN    NaN   NaN      MECR   \n",
       "OG_998      NaN           NaN    NaN    NaN   NaN  C1orf123   \n",
       "OG_999      NaN  Osteichthyes    NaN    NaN   NaN    PPP1R8   \n",
       "OG_9        NaN           NaN    NaN    NaN   NaN             \n",
       "\n",
       "                                               link  \n",
       "fid                                                  \n",
       "OG_1000      http://202.182.123.7/trees/OG_1000.png  \n",
       "OG_1001      http://202.182.123.7/trees/OG_1001.png  \n",
       "OG_1002      http://202.182.123.7/trees/OG_1002.png  \n",
       "OG_1003.1  http://202.182.123.7/trees/OG_1003.1.png  \n",
       "OG_1004      http://202.182.123.7/trees/OG_1004.png  \n",
       "...                                             ...  \n",
       "OG_996        http://202.182.123.7/trees/OG_996.png  \n",
       "OG_997        http://202.182.123.7/trees/OG_997.png  \n",
       "OG_998        http://202.182.123.7/trees/OG_998.png  \n",
       "OG_999        http://202.182.123.7/trees/OG_999.png  \n",
       "OG_9            http://202.182.123.7/trees/OG_9.png  \n",
       "\n",
       "[7941 rows x 14 columns]"
      ]
     },
     "execution_count": 157,
     "metadata": {},
     "output_type": "execute_result"
    }
   ],
   "source": [
    "df[df['NbCLG'] == 1]"
   ]
  },
  {
   "cell_type": "code",
   "execution_count": null,
   "metadata": {},
   "outputs": [],
   "source": [
    "print(rrTrees['OG_1000'])"
   ]
  },
  {
   "cell_type": "code",
   "execution_count": 111,
   "metadata": {},
   "outputs": [],
   "source": [
    "df.to_csv('list_fams_unfilt_0220.tsv',sep=\"\\t\")"
   ]
  },
  {
   "cell_type": "code",
   "execution_count": null,
   "metadata": {},
   "outputs": [],
   "source": [
    "# some filtereing :\n",
    "#exclCLG=['CLGA', 'CLGB','CLGG','CLGH']\n",
    "exclCLG=[]\n",
    "print(Counter(df[df.CLG.isin(exclCLG) & ~df.Nd_12.isna()]['Nd_12']))\n",
    "dfft=df[df['NbCLG'] == 1 & ~df.CLG.isin(exclCLG)]\n",
    "dfft.to_csv('list_fams_filt.tsv',sep=\"\\t\")\n",
    "#df[df.CLG.isin(exclCLG)]\n",
    "\n"
   ]
  },
  {
   "cell_type": "code",
   "execution_count": 171,
   "metadata": {},
   "outputs": [],
   "source": [
    "#df_filt=df[(df['hasCyclo']>0) & (df['NbCLG']==1) & (df['N12_Dup']=='Y') & ~df.Nd_12.isna() & (df['Nd_12']=='Gnathostomata')]\n",
    "#df_filt=df[(df['hasCyclo']>0) & (df['NbCLG']==1) & ~df.Nd_12.isna()]\n",
    "#df_filt=df[(df['NbCLG']==1) & ~df.Nd_12.isna()]\n",
    "df_filt=df[(df['hasCyclo']>0) & (df['NbCLG']==1)]\n",
    "#df_filt=df[(df['hasCyclo']>0) & ~df.Nd_12.isna()]\n",
    "#df_filt=df[~df.Nd_12.isna()]"
   ]
  },
  {
   "cell_type": "code",
   "execution_count": 172,
   "metadata": {},
   "outputs": [
    {
     "data": {
      "text/html": [
       "<div>\n",
       "<style scoped>\n",
       "    .dataframe tbody tr th:only-of-type {\n",
       "        vertical-align: middle;\n",
       "    }\n",
       "\n",
       "    .dataframe tbody tr th {\n",
       "        vertical-align: top;\n",
       "    }\n",
       "\n",
       "    .dataframe thead th {\n",
       "        text-align: right;\n",
       "    }\n",
       "</style>\n",
       "<table border=\"1\" class=\"dataframe\">\n",
       "  <thead>\n",
       "    <tr style=\"text-align: right;\">\n",
       "      <th></th>\n",
       "      <th>CLG</th>\n",
       "      <th>NbCLG</th>\n",
       "      <th>N12_Dup</th>\n",
       "      <th>hasCyclo</th>\n",
       "      <th>CycloDup</th>\n",
       "      <th>Nd_a1</th>\n",
       "      <th>Nd_a2</th>\n",
       "      <th>Nd_b1</th>\n",
       "      <th>Nd_b2</th>\n",
       "      <th>Nd_ab1</th>\n",
       "      <th>Nd_ab2</th>\n",
       "      <th>Nd_12</th>\n",
       "      <th>HsaNms</th>\n",
       "      <th>link</th>\n",
       "    </tr>\n",
       "    <tr>\n",
       "      <th>fid</th>\n",
       "      <th></th>\n",
       "      <th></th>\n",
       "      <th></th>\n",
       "      <th></th>\n",
       "      <th></th>\n",
       "      <th></th>\n",
       "      <th></th>\n",
       "      <th></th>\n",
       "      <th></th>\n",
       "      <th></th>\n",
       "      <th></th>\n",
       "      <th></th>\n",
       "      <th></th>\n",
       "      <th></th>\n",
       "    </tr>\n",
       "  </thead>\n",
       "  <tbody>\n",
       "    <tr>\n",
       "      <th>OG_1000</th>\n",
       "      <td>CLGB</td>\n",
       "      <td>1</td>\n",
       "      <td>NA</td>\n",
       "      <td>10</td>\n",
       "      <td>1</td>\n",
       "      <td>NaN</td>\n",
       "      <td>NaN</td>\n",
       "      <td>NaN</td>\n",
       "      <td>NaN</td>\n",
       "      <td>NaN</td>\n",
       "      <td>NaN</td>\n",
       "      <td>NaN</td>\n",
       "      <td>POLE</td>\n",
       "      <td>http://202.182.123.7/trees/OG_1000.png</td>\n",
       "    </tr>\n",
       "    <tr>\n",
       "      <th>OG_1001</th>\n",
       "      <td>CLGC</td>\n",
       "      <td>1</td>\n",
       "      <td>N</td>\n",
       "      <td>10</td>\n",
       "      <td>2</td>\n",
       "      <td>NaN</td>\n",
       "      <td>NaN</td>\n",
       "      <td>NaN</td>\n",
       "      <td>Osteichthyes</td>\n",
       "      <td>NaN</td>\n",
       "      <td>NaN</td>\n",
       "      <td>NaN</td>\n",
       "      <td>MAU2</td>\n",
       "      <td>http://202.182.123.7/trees/OG_1001.png</td>\n",
       "    </tr>\n",
       "    <tr>\n",
       "      <th>OG_1002</th>\n",
       "      <td>CLGC</td>\n",
       "      <td>1</td>\n",
       "      <td>NA</td>\n",
       "      <td>4</td>\n",
       "      <td>0</td>\n",
       "      <td>NaN</td>\n",
       "      <td>NaN</td>\n",
       "      <td>NaN</td>\n",
       "      <td>NaN</td>\n",
       "      <td>NaN</td>\n",
       "      <td>NaN</td>\n",
       "      <td>NaN</td>\n",
       "      <td>GTDC1</td>\n",
       "      <td>http://202.182.123.7/trees/OG_1002.png</td>\n",
       "    </tr>\n",
       "    <tr>\n",
       "      <th>OG_1003.1</th>\n",
       "      <td>CLGC</td>\n",
       "      <td>1</td>\n",
       "      <td>N</td>\n",
       "      <td>7</td>\n",
       "      <td>0</td>\n",
       "      <td>NaN</td>\n",
       "      <td>Osteichthyes</td>\n",
       "      <td>NaN</td>\n",
       "      <td>NaN</td>\n",
       "      <td>NaN</td>\n",
       "      <td>NaN</td>\n",
       "      <td>NaN</td>\n",
       "      <td>NaN</td>\n",
       "      <td>http://202.182.123.7/trees/OG_1003.1.png</td>\n",
       "    </tr>\n",
       "    <tr>\n",
       "      <th>OG_1004</th>\n",
       "      <td>CLGC</td>\n",
       "      <td>1</td>\n",
       "      <td>N</td>\n",
       "      <td>5</td>\n",
       "      <td>0,0</td>\n",
       "      <td>Osteichthyes</td>\n",
       "      <td>NaN</td>\n",
       "      <td>NaN</td>\n",
       "      <td>NaN</td>\n",
       "      <td>NaN</td>\n",
       "      <td>NaN</td>\n",
       "      <td>NaN</td>\n",
       "      <td>RPL4</td>\n",
       "      <td>http://202.182.123.7/trees/OG_1004.png</td>\n",
       "    </tr>\n",
       "    <tr>\n",
       "      <th>...</th>\n",
       "      <td>...</td>\n",
       "      <td>...</td>\n",
       "      <td>...</td>\n",
       "      <td>...</td>\n",
       "      <td>...</td>\n",
       "      <td>...</td>\n",
       "      <td>...</td>\n",
       "      <td>...</td>\n",
       "      <td>...</td>\n",
       "      <td>...</td>\n",
       "      <td>...</td>\n",
       "      <td>...</td>\n",
       "      <td>...</td>\n",
       "      <td>...</td>\n",
       "    </tr>\n",
       "    <tr>\n",
       "      <th>OG_996</th>\n",
       "      <td>CLGA</td>\n",
       "      <td>1</td>\n",
       "      <td>N</td>\n",
       "      <td>5</td>\n",
       "      <td>0</td>\n",
       "      <td>Osteichthyes</td>\n",
       "      <td>NaN</td>\n",
       "      <td>NaN</td>\n",
       "      <td>NaN</td>\n",
       "      <td>NaN</td>\n",
       "      <td>NaN</td>\n",
       "      <td>NaN</td>\n",
       "      <td>HECTD1</td>\n",
       "      <td>http://202.182.123.7/trees/OG_996.png</td>\n",
       "    </tr>\n",
       "    <tr>\n",
       "      <th>OG_997</th>\n",
       "      <td>CLGC</td>\n",
       "      <td>1</td>\n",
       "      <td>NA</td>\n",
       "      <td>10</td>\n",
       "      <td>1</td>\n",
       "      <td>NaN</td>\n",
       "      <td>NaN</td>\n",
       "      <td>NaN</td>\n",
       "      <td>NaN</td>\n",
       "      <td>NaN</td>\n",
       "      <td>NaN</td>\n",
       "      <td>NaN</td>\n",
       "      <td>MECR</td>\n",
       "      <td>http://202.182.123.7/trees/OG_997.png</td>\n",
       "    </tr>\n",
       "    <tr>\n",
       "      <th>OG_998</th>\n",
       "      <td>CLGJ</td>\n",
       "      <td>1</td>\n",
       "      <td>NA</td>\n",
       "      <td>4</td>\n",
       "      <td>0</td>\n",
       "      <td>NaN</td>\n",
       "      <td>NaN</td>\n",
       "      <td>NaN</td>\n",
       "      <td>NaN</td>\n",
       "      <td>NaN</td>\n",
       "      <td>NaN</td>\n",
       "      <td>NaN</td>\n",
       "      <td>C1orf123</td>\n",
       "      <td>http://202.182.123.7/trees/OG_998.png</td>\n",
       "    </tr>\n",
       "    <tr>\n",
       "      <th>OG_999</th>\n",
       "      <td>CLGJ</td>\n",
       "      <td>1</td>\n",
       "      <td>N</td>\n",
       "      <td>6</td>\n",
       "      <td>0</td>\n",
       "      <td>NaN</td>\n",
       "      <td>NaN</td>\n",
       "      <td>NaN</td>\n",
       "      <td>Osteichthyes</td>\n",
       "      <td>NaN</td>\n",
       "      <td>NaN</td>\n",
       "      <td>NaN</td>\n",
       "      <td>PPP1R8</td>\n",
       "      <td>http://202.182.123.7/trees/OG_999.png</td>\n",
       "    </tr>\n",
       "    <tr>\n",
       "      <th>OG_9</th>\n",
       "      <td>CLGD</td>\n",
       "      <td>1</td>\n",
       "      <td>N</td>\n",
       "      <td>6</td>\n",
       "      <td>0</td>\n",
       "      <td>NaN</td>\n",
       "      <td>Osteichthyes</td>\n",
       "      <td>NaN</td>\n",
       "      <td>NaN</td>\n",
       "      <td>NaN</td>\n",
       "      <td>NaN</td>\n",
       "      <td>NaN</td>\n",
       "      <td></td>\n",
       "      <td>http://202.182.123.7/trees/OG_9.png</td>\n",
       "    </tr>\n",
       "  </tbody>\n",
       "</table>\n",
       "<p>7459 rows × 14 columns</p>\n",
       "</div>"
      ],
      "text/plain": [
       "            CLG  NbCLG N12_Dup  hasCyclo CycloDup         Nd_a1         Nd_a2  \\\n",
       "fid                                                                             \n",
       "OG_1000    CLGB      1      NA        10        1           NaN           NaN   \n",
       "OG_1001    CLGC      1       N        10        2           NaN           NaN   \n",
       "OG_1002    CLGC      1      NA         4        0           NaN           NaN   \n",
       "OG_1003.1  CLGC      1       N         7        0           NaN  Osteichthyes   \n",
       "OG_1004    CLGC      1       N         5      0,0  Osteichthyes           NaN   \n",
       "...         ...    ...     ...       ...      ...           ...           ...   \n",
       "OG_996     CLGA      1       N         5        0  Osteichthyes           NaN   \n",
       "OG_997     CLGC      1      NA        10        1           NaN           NaN   \n",
       "OG_998     CLGJ      1      NA         4        0           NaN           NaN   \n",
       "OG_999     CLGJ      1       N         6        0           NaN           NaN   \n",
       "OG_9       CLGD      1       N         6        0           NaN  Osteichthyes   \n",
       "\n",
       "          Nd_b1         Nd_b2 Nd_ab1 Nd_ab2 Nd_12    HsaNms  \\\n",
       "fid                                                           \n",
       "OG_1000     NaN           NaN    NaN    NaN   NaN      POLE   \n",
       "OG_1001     NaN  Osteichthyes    NaN    NaN   NaN      MAU2   \n",
       "OG_1002     NaN           NaN    NaN    NaN   NaN     GTDC1   \n",
       "OG_1003.1   NaN           NaN    NaN    NaN   NaN       NaN   \n",
       "OG_1004     NaN           NaN    NaN    NaN   NaN      RPL4   \n",
       "...         ...           ...    ...    ...   ...       ...   \n",
       "OG_996      NaN           NaN    NaN    NaN   NaN    HECTD1   \n",
       "OG_997      NaN           NaN    NaN    NaN   NaN      MECR   \n",
       "OG_998      NaN           NaN    NaN    NaN   NaN  C1orf123   \n",
       "OG_999      NaN  Osteichthyes    NaN    NaN   NaN    PPP1R8   \n",
       "OG_9        NaN           NaN    NaN    NaN   NaN             \n",
       "\n",
       "                                               link  \n",
       "fid                                                  \n",
       "OG_1000      http://202.182.123.7/trees/OG_1000.png  \n",
       "OG_1001      http://202.182.123.7/trees/OG_1001.png  \n",
       "OG_1002      http://202.182.123.7/trees/OG_1002.png  \n",
       "OG_1003.1  http://202.182.123.7/trees/OG_1003.1.png  \n",
       "OG_1004      http://202.182.123.7/trees/OG_1004.png  \n",
       "...                                             ...  \n",
       "OG_996        http://202.182.123.7/trees/OG_996.png  \n",
       "OG_997        http://202.182.123.7/trees/OG_997.png  \n",
       "OG_998        http://202.182.123.7/trees/OG_998.png  \n",
       "OG_999        http://202.182.123.7/trees/OG_999.png  \n",
       "OG_9            http://202.182.123.7/trees/OG_9.png  \n",
       "\n",
       "[7459 rows x 14 columns]"
      ]
     },
     "execution_count": 172,
     "metadata": {},
     "output_type": "execute_result"
    }
   ],
   "source": [
    "df_filt"
   ]
  },
  {
   "cell_type": "code",
   "execution_count": 173,
   "metadata": {},
   "outputs": [],
   "source": [
    "allcts=[Counter(df_filt[ev]) for  ev in evN0]\n",
    "allcld=set(sum([list(ct.keys()) for ct in allcts],[]))"
   ]
  },
  {
   "cell_type": "code",
   "execution_count": 174,
   "metadata": {},
   "outputs": [],
   "source": [
    "clades=[ 'Deuterostomia', 'Chordata', 'Vertebrata', 'Gnathostomata', 'Osteichthyes', \n",
    "        'Actinopterygii','Holostei', 'Sarcopterygia',   'Tetrapoda','Amniotes']"
   ]
  },
  {
   "cell_type": "code",
   "execution_count": 175,
   "metadata": {},
   "outputs": [],
   "source": [
    "ctsmrg=[]\n",
    "for cl in clades:\n",
    "    ctsmrg.append([cl]+[ct.get(cl,0) for ct in allcts])"
   ]
  },
  {
   "cell_type": "code",
   "execution_count": 176,
   "metadata": {},
   "outputs": [],
   "source": [
    "cts = pd.DataFrame(ctsmrg, columns =['clade']+evO)"
   ]
  },
  {
   "cell_type": "code",
   "execution_count": 177,
   "metadata": {},
   "outputs": [
    {
     "data": {
      "text/html": [
       "<div>\n",
       "<style scoped>\n",
       "    .dataframe tbody tr th:only-of-type {\n",
       "        vertical-align: middle;\n",
       "    }\n",
       "\n",
       "    .dataframe tbody tr th {\n",
       "        vertical-align: top;\n",
       "    }\n",
       "\n",
       "    .dataframe thead th {\n",
       "        text-align: right;\n",
       "    }\n",
       "</style>\n",
       "<table border=\"1\" class=\"dataframe\">\n",
       "  <thead>\n",
       "    <tr style=\"text-align: right;\">\n",
       "      <th></th>\n",
       "      <th>clade</th>\n",
       "      <th>alpha1</th>\n",
       "      <th>alpha2</th>\n",
       "      <th>beta1</th>\n",
       "      <th>beta2</th>\n",
       "      <th>ab1</th>\n",
       "      <th>ab2</th>\n",
       "      <th>12</th>\n",
       "    </tr>\n",
       "  </thead>\n",
       "  <tbody>\n",
       "    <tr>\n",
       "      <th>0</th>\n",
       "      <td>Deuterostomia</td>\n",
       "      <td>4</td>\n",
       "      <td>3</td>\n",
       "      <td>3</td>\n",
       "      <td>1</td>\n",
       "      <td>2</td>\n",
       "      <td>1</td>\n",
       "      <td>19</td>\n",
       "    </tr>\n",
       "    <tr>\n",
       "      <th>1</th>\n",
       "      <td>Chordata</td>\n",
       "      <td>5</td>\n",
       "      <td>10</td>\n",
       "      <td>5</td>\n",
       "      <td>5</td>\n",
       "      <td>6</td>\n",
       "      <td>8</td>\n",
       "      <td>24</td>\n",
       "    </tr>\n",
       "    <tr>\n",
       "      <th>2</th>\n",
       "      <td>Vertebrata</td>\n",
       "      <td>101</td>\n",
       "      <td>88</td>\n",
       "      <td>36</td>\n",
       "      <td>59</td>\n",
       "      <td>169</td>\n",
       "      <td>175</td>\n",
       "      <td>962</td>\n",
       "    </tr>\n",
       "    <tr>\n",
       "      <th>3</th>\n",
       "      <td>Gnathostomata</td>\n",
       "      <td>297</td>\n",
       "      <td>256</td>\n",
       "      <td>47</td>\n",
       "      <td>121</td>\n",
       "      <td>324</td>\n",
       "      <td>301</td>\n",
       "      <td>516</td>\n",
       "    </tr>\n",
       "    <tr>\n",
       "      <th>4</th>\n",
       "      <td>Osteichthyes</td>\n",
       "      <td>2237</td>\n",
       "      <td>2198</td>\n",
       "      <td>617</td>\n",
       "      <td>588</td>\n",
       "      <td>25</td>\n",
       "      <td>270</td>\n",
       "      <td>98</td>\n",
       "    </tr>\n",
       "    <tr>\n",
       "      <th>5</th>\n",
       "      <td>Actinopterygii</td>\n",
       "      <td>0</td>\n",
       "      <td>0</td>\n",
       "      <td>2</td>\n",
       "      <td>1</td>\n",
       "      <td>0</td>\n",
       "      <td>0</td>\n",
       "      <td>0</td>\n",
       "    </tr>\n",
       "    <tr>\n",
       "      <th>6</th>\n",
       "      <td>Holostei</td>\n",
       "      <td>0</td>\n",
       "      <td>0</td>\n",
       "      <td>0</td>\n",
       "      <td>0</td>\n",
       "      <td>0</td>\n",
       "      <td>0</td>\n",
       "      <td>0</td>\n",
       "    </tr>\n",
       "    <tr>\n",
       "      <th>7</th>\n",
       "      <td>Sarcopterygia</td>\n",
       "      <td>1</td>\n",
       "      <td>1</td>\n",
       "      <td>0</td>\n",
       "      <td>0</td>\n",
       "      <td>0</td>\n",
       "      <td>0</td>\n",
       "      <td>0</td>\n",
       "    </tr>\n",
       "    <tr>\n",
       "      <th>8</th>\n",
       "      <td>Tetrapoda</td>\n",
       "      <td>94</td>\n",
       "      <td>74</td>\n",
       "      <td>28</td>\n",
       "      <td>33</td>\n",
       "      <td>3</td>\n",
       "      <td>9</td>\n",
       "      <td>33</td>\n",
       "    </tr>\n",
       "    <tr>\n",
       "      <th>9</th>\n",
       "      <td>Amniotes</td>\n",
       "      <td>0</td>\n",
       "      <td>0</td>\n",
       "      <td>1</td>\n",
       "      <td>0</td>\n",
       "      <td>0</td>\n",
       "      <td>0</td>\n",
       "      <td>0</td>\n",
       "    </tr>\n",
       "  </tbody>\n",
       "</table>\n",
       "</div>"
      ],
      "text/plain": [
       "            clade  alpha1  alpha2  beta1  beta2  ab1  ab2   12\n",
       "0   Deuterostomia       4       3      3      1    2    1   19\n",
       "1        Chordata       5      10      5      5    6    8   24\n",
       "2      Vertebrata     101      88     36     59  169  175  962\n",
       "3   Gnathostomata     297     256     47    121  324  301  516\n",
       "4    Osteichthyes    2237    2198    617    588   25  270   98\n",
       "5  Actinopterygii       0       0      2      1    0    0    0\n",
       "6        Holostei       0       0      0      0    0    0    0\n",
       "7   Sarcopterygia       1       1      0      0    0    0    0\n",
       "8       Tetrapoda      94      74     28     33    3    9   33\n",
       "9        Amniotes       0       0      1      0    0    0    0"
      ]
     },
     "execution_count": 177,
     "metadata": {},
     "output_type": "execute_result"
    }
   ],
   "source": [
    "cts"
   ]
  },
  {
   "cell_type": "markdown",
   "metadata": {},
   "source": [
    "## construct list of duplicates gene per species for functional analyses"
   ]
  },
  {
   "cell_type": "markdown",
   "metadata": {},
   "source": [
    "simpler version just looking at genes excluding tandem genes"
   ]
  },
  {
   "cell_type": "code",
   "execution_count": 27,
   "metadata": {},
   "outputs": [],
   "source": [
    "def listDup(sp,rrTrees=rrTrees):\n",
    "    j=0\n",
    "    #with open('Xentro_ortho')\n",
    "    ctPairs=[]\n",
    "    outL=[]\n",
    "    for og,t in rrTrees.items():\n",
    "        #print(og)\n",
    "        famsp={}\n",
    "        spset=set([l.species for l in t])\n",
    "        #if not 'Braflo' in spset: continue\n",
    "        splf1=[l.name.split('_',1)[1] for l in t.search_nodes(species=sp)]\n",
    "        #splf2=[l.name.split('_',1)[1] for l in t.search_nodes(species='Petmar')]\n",
    "        splf=[l.name for l in t.search_nodes(species=sp)]\n",
    "        #if len(splf)>1: continue\n",
    "        #print(og,splf)\n",
    "        agn=age(t.get_common_ancestor(splf),spT) if len(splf)>1 else sp\n",
    "        #print(len(splf),agn)\n",
    "        for g in splf1:\n",
    "            outL.append((og,g,len(splf),agn))\n",
    "        #   out.write('')\n",
    "        #print(og,splf1,splf2)\n",
    "        #ctPairs.append('{}_{}'.format(len(splf1),len(splf2)))\n",
    "\n",
    "        j+=1\n",
    "        #if j==200: break     \n",
    "    return(outL)"
   ]
  },
  {
   "cell_type": "code",
   "execution_count": null,
   "metadata": {},
   "outputs": [],
   "source": [
    "print(spT)"
   ]
  },
  {
   "cell_type": "code",
   "execution_count": 92,
   "metadata": {},
   "outputs": [
    {
     "data": {
      "text/plain": [
       "Tree node '84' (0x7f8600c3331)"
      ]
     },
     "execution_count": 92,
     "metadata": {},
     "output_type": "execute_result"
    }
   ],
   "source": [
    "rrTrees['OG_1018'].get_common_ancestor(['Petmar_LOC116938252', 'Petmar_GPD1L'])"
   ]
  },
  {
   "cell_type": "code",
   "execution_count": 24,
   "metadata": {},
   "outputs": [],
   "source": [
    "Blan_ofam=listDup('Bralan')"
   ]
  },
  {
   "cell_type": "code",
   "execution_count": 97,
   "metadata": {},
   "outputs": [],
   "source": [
    "Pata_ofam=listDup('Parata')"
   ]
  },
  {
   "cell_type": "code",
   "execution_count": null,
   "metadata": {},
   "outputs": [],
   "source": [
    "Pata_ofam"
   ]
  },
  {
   "cell_type": "code",
   "execution_count": 26,
   "metadata": {},
   "outputs": [],
   "source": [
    "with open('Lepocu_ohnofams.txt','w') as out:\n",
    "    out.write(\"fid\\tgid\\tdups\\tage\\n\")\n",
    "    for l in listDup('Lepocu'):\n",
    "        out.write('\\t'.join(map(str,l))+'\\n')"
   ]
  },
  {
   "cell_type": "code",
   "execution_count": 101,
   "metadata": {},
   "outputs": [],
   "source": [
    "with open('Xentro_ohnofams.txt','w') as out:\n",
    "    out.write(\"fid\\tgid\\tdups\\tage\\n\")\n",
    "    for l in listDup('Xentro'):\n",
    "        out.write('\\t'.join(map(str,l))+'\\n')"
   ]
  },
  {
   "cell_type": "code",
   "execution_count": 28,
   "metadata": {},
   "outputs": [],
   "source": [
    "with open('Letjap_ohnofams.txt','w') as out:\n",
    "    out.write(\"fid\\tgid\\tdups\\tage\\n\")\n",
    "    for l in listDup('Letjap'):\n",
    "        out.write('\\t'.join(map(str,l))+'\\n')"
   ]
  },
  {
   "cell_type": "code",
   "execution_count": 52,
   "metadata": {},
   "outputs": [
    {
     "name": "stdout",
     "output_type": "stream",
     "text": [
      "\n",
      "         /-Ptyfla_pfl_40v0_9_20150316_1g25190\n",
      "      /-|\n",
      "     |   \\-Sackow_Sakowv30031522m\n",
      "   /-|\n",
      "  |  |   /-Acapla_LOC110979182\n",
      "  |   \\-|\n",
      "  |      \\-Strpur_LOC579449\n",
      "--|\n",
      "  |      /-Bralan_BL04271\n",
      "  |   /-|\n",
      "  |  |   \\-Bralan_BL95282\n",
      "   \\-|\n",
      "     |   /-Brabel_102460F\n",
      "      \\-|\n",
      "        |   /-Bralan_BL06437\n",
      "         \\-|\n",
      "            \\-Braflo_BF07828\n"
     ]
    }
   ],
   "source": [
    "print(rrTrees['OG_1005'])"
   ]
  },
  {
   "cell_type": "code",
   "execution_count": 61,
   "metadata": {},
   "outputs": [],
   "source": [
    "nV=[l.name for l in spT.search_nodes(name='Vertebrata')[0]]"
   ]
  },
  {
   "cell_type": "code",
   "execution_count": 62,
   "metadata": {},
   "outputs": [
    {
     "name": "stdout",
     "output_type": "stream",
     "text": [
      "['Letjap', 'Letrei', 'Petmar', 'Parata', 'Eptbur', 'Calmil', 'Chipun', 'Lepocu', 'Amical', 'Danrer', 'Orylat', 'Latcha', 'Xentro', 'Galgal', 'Homsap', 'Musmus']\n"
     ]
    }
   ],
   "source": [
    "print(nV)"
   ]
  },
  {
   "cell_type": "code",
   "execution_count": 99,
   "metadata": {},
   "outputs": [],
   "source": [
    "def redChr(pos,cutoff=1000000):\n",
    "    if len(pos)<2: return pos\n",
    "    spo=sorted(pos,key=lambda x:(x[0],x[1]))\n",
    "    rep=[spo[0]]\n",
    "    #print(spo)\n",
    "    for i,p in enumerate(spo[1:]):\n",
    "        if p[0]!=rep[-1][0]:\n",
    "            rep.append(p)\n",
    "        else:\n",
    "            if abs(rep[-1][1]-p[1])>cutoff:\n",
    "                rep.append(p)\n",
    "            else:\n",
    "                continue\n",
    "    #print('>>',rep)\n",
    "    return rep\n",
    "    "
   ]
  },
  {
   "cell_type": "code",
   "execution_count": 115,
   "metadata": {},
   "outputs": [],
   "source": [
    "i=0\n",
    "sp='Lepocu'\n",
    "gfs=[]\n",
    "gfa=[]\n",
    "sela={'Deuterostomia','Vertebrata','Chordata'}\n",
    "Pos=spPos[sp]\n",
    "for og,t in rrTrees.items():\n",
    "    i+=1\n",
    "    fag=age(t,spT)\n",
    "    nbV=sum([1 for l in t if l.species in nV])\n",
    "    if nbV==0: continue\n",
    "    splf=[l.name for l in t.search_nodes(species=sp)]\n",
    "    agn=age(t.get_common_ancestor(splf),spT) if len(splf)>1 else sp\n",
    "    splfp=[Pos[n.split('_',1)[1]] for n in splf if n.split('_',1)[1] in Pos]\n",
    "    splfd=redChr(splfp)\n",
    "    spflc=set([c[0] for c in splfp])\n",
    "    #print(og,fag,spflc,agn)\n",
    "    if fag in sela:\n",
    "        gfs.append(len(splfd))\n",
    "        gfa.append(len(splf))\n",
    "    #else:\n",
    "        #print(fag)\n",
    "    #if i==30: break\n"
   ]
  },
  {
   "cell_type": "code",
   "execution_count": 116,
   "metadata": {},
   "outputs": [
    {
     "name": "stdout",
     "output_type": "stream",
     "text": [
      "Counter({1: 5748, 2: 1718, 0: 1253, 3: 647, 4: 204, 5: 61, 6: 24, 8: 9, 7: 9, 17: 6, 9: 5, 12: 3, 13: 3, 10: 2, 21: 2, 20: 2, 11: 2, 14: 2, 24: 1})\n"
     ]
    }
   ],
   "source": [
    "print(Counter(gfs))\n",
    "#print(Counter(gfa))\n"
   ]
  },
  {
   "cell_type": "code",
   "execution_count": 109,
   "metadata": {},
   "outputs": [
    {
     "name": "stdout",
     "output_type": "stream",
     "text": [
      "dict_keys(['Lepocu', 'Galgal', 'Xentro', 'Braflo'])\n"
     ]
    }
   ],
   "source": [
    "print(spPos.keys())"
   ]
  },
  {
   "cell_type": "code",
   "execution_count": 36,
   "metadata": {},
   "outputs": [],
   "source": [
    "from ete3 import Phyloxml"
   ]
  },
  {
   "cell_type": "code",
   "execution_count": 37,
   "metadata": {},
   "outputs": [],
   "source": [
    "project = Phyloxml()\n",
    "project.build_from_file(\"/Users/fmarletaz/Dropbox (UCL)/Drop/embaezzle/OG_217_reconciliated.xml\")"
   ]
  },
  {
   "cell_type": "code",
   "execution_count": 45,
   "metadata": {},
   "outputs": [
    {
     "data": {
      "text/plain": [
       "[]"
      ]
     },
     "execution_count": 45,
     "metadata": {},
     "output_type": "execute_result"
    }
   ],
   "source": [
    "project.get_phylogeny()"
   ]
  },
  {
   "cell_type": "code",
   "execution_count": 71,
   "metadata": {},
   "outputs": [
    {
     "ename": "ImportError",
     "evalue": "cannot import name 'getEventsSummary' from 'ReconciledTree' (/Users/fmarletaz/Dropbox (UCL)/Genomes/Hagfish/Gene_families/ReconciledTree.py)",
     "output_type": "error",
     "traceback": [
      "\u001b[0;31m---------------------------------------------------------------------------\u001b[0m",
      "\u001b[0;31mImportError\u001b[0m                               Traceback (most recent call last)",
      "\u001b[0;32m<ipython-input-71-4e4c374ecce6>\u001b[0m in \u001b[0;36m<module>\u001b[0;34m\u001b[0m\n\u001b[0;32m----> 1\u001b[0;31m \u001b[0;32mfrom\u001b[0m \u001b[0mReconciledTree\u001b[0m \u001b[0;32mimport\u001b[0m \u001b[0mgetEventsSummary\u001b[0m\u001b[0;34m\u001b[0m\u001b[0;34m\u001b[0m\u001b[0m\n\u001b[0m",
      "\u001b[0;31mImportError\u001b[0m: cannot import name 'getEventsSummary' from 'ReconciledTree' (/Users/fmarletaz/Dropbox (UCL)/Genomes/Hagfish/Gene_families/ReconciledTree.py)"
     ]
    }
   ],
   "source": [
    "from ReconciledTree import getEventsSummary"
   ]
  },
  {
   "cell_type": "code",
   "execution_count": 43,
   "metadata": {},
   "outputs": [],
   "source": [
    "for tree in project.get_phylogeny():\n",
    "    print(tree)\n",
    "    # you can even use rendering options\n",
    "    tree.show()\n",
    "    # PhyloXML features are stored in the phyloxml_clade attribute\n",
    "    for node in tree:\n",
    "        print( \"Node name:\", node.name)\n",
    "    "
   ]
  },
  {
   "cell_type": "code",
   "execution_count": null,
   "metadata": {},
   "outputs": [],
   "source": [
    "listDup('Bralan')"
   ]
  },
  {
   "cell_type": "code",
   "execution_count": 60,
   "metadata": {},
   "outputs": [],
   "source": [
    "def listPairPos(sp,Pos,rrTrees=rrTrees):\n",
    "    j=0\n",
    "    outL=[]\n",
    "    for og,t in rrTrees.items():\n",
    "        #print(og)\n",
    "        famsp={}\n",
    "        spset=set([l.species for l in t])\n",
    "        #print(spset)\n",
    "        #if not 'Braflo' in spset: continue\n",
    "        splf=[l.name for l in t.search_nodes(species=sp)]\n",
    "        if len(splf)<2: continue\n",
    "        #print(og,splf,list(itertools.combinations(splf, 2)))\n",
    "        for g1,g2 in itertools.combinations(splf, 2):\n",
    "            pan=t.get_common_ancestor([g1,g2])\n",
    "            agn=age(pan,spT)\n",
    "            dps=pan.D\n",
    "            g1n,g2n=[l.split('_',1)[1] for l in (g1,g2)]\n",
    "            e=[og,agn,g1n,Pos[g1n][0],Pos[g1n][1],Pos[g1n][2],g2n,Pos[g2n][0],Pos[g2n][1],Pos[g2n][2],dps]\n",
    "            outL.append(e)\n",
    "        #splf2=[l.name.split('_',1)[1] for l in t.search_nodes(species='Petmar')]\n",
    "        #splf=[l.name for l in t.search_nodes(species=sp)]\n",
    "        #if len(splf)>1: continue\n",
    "        #agn=age(t.get_common_ancestor(splf),spT) if len(splf)>1 else sp\n",
    "        #print(len(splf),agn)\n",
    "        #for g in splf1:\n",
    "        #    outL.append((og,g,len(splf),agn))\n",
    "        #   out.write('')\n",
    "        #print(og,splf1,splf2)\n",
    "        #ctPairs.append('{}_{}'.format(len(splf1),len(splf2)))\n",
    "    \n",
    "        j+=1\n",
    "        #if j==5: break\n",
    "    return outL"
   ]
  },
  {
   "cell_type": "code",
   "execution_count": 61,
   "metadata": {},
   "outputs": [],
   "source": [
    "with open('Petmar_agepairs.txt','w') as out:\n",
    "    out.write(\"fid\\tage\\tg1\\tg1_chr\\tg1_start\\tg1_end\\tg2\\tg2_chr\\tg2_start\\tg2_end\\n\")\n",
    "    for oL in listPairPos('Petmar',Pma):\n",
    "        out.write('\\t'.join(map(str,oL))+'\\n')"
   ]
  },
  {
   "cell_type": "code",
   "execution_count": null,
   "metadata": {},
   "outputs": [],
   "source": [
    "print(rrTrees['OG_1033'])"
   ]
  },
  {
   "cell_type": "markdown",
   "metadata": {},
   "source": [
    "## Coordinates of lamprey duplications"
   ]
  },
  {
   "cell_type": "code",
   "execution_count": null,
   "metadata": {},
   "outputs": [],
   "source": []
  },
  {
   "cell_type": "code",
   "execution_count": 37,
   "metadata": {},
   "outputs": [],
   "source": [
    "def Cyclo12(t,spT):\n",
    "    spCycl=[l.name for l in spT.search_nodes(name=\"Cyclostomata\")[0].get_leaves()]\n",
    "    for l in t:\n",
    "        cla='Cyclostomata' if l.species in spCycl else 'Other'\n",
    "        l.add_features(clade=cla)\n",
    "    dec=[]\n",
    "    acd=[]\n",
    "    \n",
    "    cnd=[st for st in t.get_monophyletic(values=['Cyclostomata'], target_attr=\"clade\")]\n",
    "    return cnd"
   ]
  },
  {
   "cell_type": "code",
   "execution_count": null,
   "metadata": {},
   "outputs": [],
   "source": [
    "print(pmaPairs[frozenset(('scaf_00055', 'scaf_00055'))])\n",
    "print(pmaPairs[frozenset(('scaf_00014', 'scaf_00055'))])\n",
    "print(list(itertools.product(['OG_1173', 'OG_16312', 'OG_17608'],['OG_2400', 'OG_361', 'OG_4328', 'OG_5513', 'OG_7398'])))"
   ]
  },
  {
   "cell_type": "code",
   "execution_count": 46,
   "metadata": {},
   "outputs": [],
   "source": [
    "\n",
    "#pmaChrm=defaultdict(list)\n",
    "pmaPair=defaultdict(list)\n",
    "cnaAll={}\n",
    "i=0\n",
    "cyclostomes=set(['Parata','Eptbur','Letrei','Petmar','Letjap'])\n",
    "#spCycl=[l.name for l in spT.search_nodes(name=\"Cyclostomata\")[0].get_leaves()]\n",
    "pmaPairs=defaultdict(list)\n",
    "pmaPairsZ=defaultdict(list)\n",
    "pmaPairsP=defaultdict(list)\n",
    "\n",
    "for fid,ftr in rrTrees.items():\n",
    "    #print(i,fid)\n",
    "    spset=set([l.species for l in ftr])\n",
    "    if not 'Braflo' in spset: continue\n",
    "    #clgct,anDup=checkDup(ftr,spPos)\n",
    "    #dec,acd=checkCyclo(ftr,spT)\n",
    "    #print(dec,acd)\n",
    "    #if anDup.keys()\n",
    "    #cmn=Cyclo12(ftr,spT)\n",
    "    #print(cmn)\n",
    "    #clgCts[fid]=clgct\n",
    "    #oridup=oriDup(ftr,anDup,spT)\n",
    "    #ori12=oriDup12(ftr,anDup,spT)\n",
    "    for l in ftr:\n",
    "        cla='Cyclostomata' if l.species in cyclostomes else 'Other'\n",
    "        l.add_features(clade=cla)\n",
    "    dec,acd=[],[]\n",
    "    zDups=[st for st in ftr.get_monophyletic(values=['Cyclostomata'], target_attr=\"clade\")]\n",
    "    if len(zDups)>1:\n",
    "        pma_pos,pma_gen=[],[]\n",
    "        for st in zDups[0:2]:\n",
    "            #pma_gen.append([l.name.split('_',1)[-1] for l in st.search_nodes(species=\"Petmar\")])\n",
    "            pma_pos.append(list(set([Pma[l.name.split('_',1)[-1]][0] for l in st.search_nodes(species=\"Petmar\")])))\n",
    "        for p in itertools.product(*pma_pos):\n",
    "            pmaPairs[frozenset(p)].append(fid)\n",
    "            pmaPairsZ[frozenset(p)].append(fid)\n",
    "    for st in zDups:\n",
    "        dupnds=[sst for sst in st.search_nodes(D='Y') if not len(set([l.species for l in sst.get_leaves()]))==1]\n",
    "        for nd in dupnds:\n",
    "            pma_pos=[]\n",
    "            for ndd in nd.children:\n",
    "                pma_pos.append([Pma[l.name.split('_',1)[-1]][0] for l in ndd.search_nodes(species=\"Petmar\")])\n",
    "            for p in itertools.product(*pma_pos):\n",
    "                pmaPairs[frozenset(p)].append(fid)    \n",
    "                pmaPairsP[frozenset(p)].append(fid)\n",
    "   \n",
    "       \n",
    "\n",
    "    i+=1\n",
    "    if i==100: break\n"
   ]
  },
  {
   "cell_type": "markdown",
   "metadata": {},
   "source": [
    "To try to check whether pairs are specifically enriches in some chromosomes, let's try to obtain pairs of paralogue of different phylogenetic age, first for lamrpey"
   ]
  },
  {
   "cell_type": "code",
   "execution_count": null,
   "metadata": {},
   "outputs": [],
   "source": [
    "for fid,ftr in rrTrees.items():\n",
    "    "
   ]
  },
  {
   "cell_type": "code",
   "execution_count": 41,
   "metadata": {},
   "outputs": [
    {
     "name": "stdout",
     "output_type": "stream",
     "text": [
      "[[], ['chrm62']]\n"
     ]
    }
   ],
   "source": [
    "print(pma_pos)"
   ]
  },
  {
   "cell_type": "markdown",
   "metadata": {},
   "source": [
    "## Retention rates"
   ]
  },
  {
   "cell_type": "code",
   "execution_count": 121,
   "metadata": {},
   "outputs": [],
   "source": [
    "def calcRet(species,Pos,trees=rrTrees,spPos=spPos):\n",
    "    j=0\n",
    "    allclgs=set()\n",
    "    retChr=defaultdict(list)\n",
    "    for og,t in trees.items():\n",
    "        #print(i,fid)\n",
    "        spset=set([l.species for l in t])\n",
    "        if not 'Braflo' in spset: continue\n",
    "        clgs,anDup=checkDup(t,spPos)\n",
    "        if not len(clgs)==1: continue\n",
    "        #print(og,clgs,list(clgs))\n",
    "        scafs=set()\n",
    "        for hn in t.search_nodes(species=species):\n",
    "            pg=hn.name.split('_',1)[1]\n",
    "            if not pg in Pos: continue\n",
    "            scaf,start,end=Pos[pg]\n",
    "            scafs.add(scaf)\n",
    "\n",
    "        #allclgs.add(list(clgs)[0])\n",
    "        #rclg.add(list(clgs)[0])\n",
    "                #print(list(clgs)[0])\n",
    "        #print(rclg)\n",
    "        allclgs.add(list(clgs)[0])\n",
    "        for scaf in scafs:\n",
    "            retChr[scaf].append(list(clgs)[0])\n",
    "            #print(hn.name,Pat[pg])\n",
    "        j+=1\n",
    "        #if j==10: break\n",
    "    #print(retChr)\n",
    "    byCLG = pd.DataFrame(columns=list(allclgs))\n",
    "    for chrm in retChr:\n",
    "        clgCt=Counter(retChr[chrm])\n",
    "        #print(chrm,clgCt)\n",
    "        byCLG.loc[chrm]=pd.Series(clgCt)\n",
    "    return byCLG"
   ]
  },
  {
   "cell_type": "code",
   "execution_count": null,
   "metadata": {},
   "outputs": [],
   "source": []
  },
  {
   "cell_type": "code",
   "execution_count": 122,
   "metadata": {},
   "outputs": [],
   "source": [
    "Pata_ct=calcRet('Parata',Pat)\n",
    "Pata_ret=Pata_ct/Pata_ct.sum()"
   ]
  },
  {
   "cell_type": "code",
   "execution_count": 123,
   "metadata": {},
   "outputs": [],
   "source": [
    "Pmar_ct=calcRet('Petmar',Pma)\n",
    "Pmar_ret=Pmar_ct/Pmar_ct.sum()"
   ]
  },
  {
   "cell_type": "code",
   "execution_count": 124,
   "metadata": {},
   "outputs": [],
   "source": [
    "Pata_ret.to_csv('Pata_retention.tsv',sep='\\t')\n",
    "Pmar_ret.to_csv('Pmar_retention.tsv',sep='\\t')"
   ]
  },
  {
   "cell_type": "code",
   "execution_count": null,
   "metadata": {},
   "outputs": [],
   "source": [
    "byCLG = pd.DataFrame(columns=list(allclgs))\n",
    "for chrm in retChr:\n",
    "    clgCt=Counter(retChr[chrm])\n",
    "    #print(chrm,clgCt)\n",
    "    byCLG.loc[chrm]=pd.Series(clgCt)"
   ]
  },
  {
   "cell_type": "code",
   "execution_count": 127,
   "metadata": {},
   "outputs": [],
   "source": [
    "pmaChGct=defaultdict(int)\n",
    "for g,p in Pma.items():\n",
    "    pmaChGct[p[0]]+=1\n",
    "selPmaChr={g:n for g,n in sorted(pmaChGct.items(),key=lambda x:x[1],reverse=True)[0:100]}"
   ]
  },
  {
   "cell_type": "code",
   "execution_count": 134,
   "metadata": {},
   "outputs": [],
   "source": [
    "def writeDupScafMat(pmaPairs,filename):\n",
    "    with open(filename,'w') as out:\n",
    "        out.write(\"\\t{}\\n\".format('\\t'.join(selPmaChr)))\n",
    "        for sc1 in selPmaChr:\n",
    "            onb=[len(pmaPairs[frozenset((sc1,sc2))]) for sc2 in selPmaChr]\n",
    "            out.write(\"{}\\t{}\\n\".format(sc1,'\\t'.join(map(str,onb))))\n",
    "            \n",
    "            #print(sc1,sc2,len(pmaPairs[frozenset((sc1,sc2))]))\n",
    "                #out.write(\"{}\\t{}\\t{}\\n\".format(sc1,sc2,len(ogs)))\n"
   ]
  },
  {
   "cell_type": "code",
   "execution_count": 135,
   "metadata": {},
   "outputs": [],
   "source": [
    "writeDupScafMat(pmaPairs,'nb_dup_all.txt')\n",
    "writeDupScafMat(pmaPairsZ,'nb_dup_zero.txt')\n",
    "writeDupScafMat(pmaPairsP,'nb_dup_post.txt')"
   ]
  },
  {
   "cell_type": "markdown",
   "metadata": {},
   "source": [
    "# Prepare calibrations"
   ]
  },
  {
   "cell_type": "code",
   "execution_count": 27,
   "metadata": {},
   "outputs": [],
   "source": [
    "def calib(events,calibs,tree):\n",
    "    taxCal=[]\n",
    "    ancestors=set()\n",
    "    for ev in events:\n",
    "        if ev.etype == \"S\":\n",
    "            #print 'ORTHOLOGY RELATIONSHIP:', ','.join(ev.inparalogs), \"<====>\", ','.join(ev.orthologs)\n",
    "            #inpTx,ortTx=[n.split('_')[0] for n in ev.inparalogs],[n.split('_')[0] for n in ev.orthologs] \n",
    "            for tx1,tx2 in list(itertools.product(ev.inparalogs,ev.orthologs)):\n",
    "                anc12=tree.get_common_ancestor([tx1,tx2])\n",
    "                if not anc12 in ancestors:\n",
    "                    sp1,sp2=tx1.split('_')[0],tx2.split('_')[0]\n",
    "                    #print tx1,tx2,sp1,sp2\n",
    "                    if (sp1,sp2) in calibs:\n",
    "                        maxage,minage=calibs[(sp1,sp2)]\n",
    "                        taxCal.append((tx1,tx2,maxage,minage))\n",
    "                        ancestors.add(anc12)\n",
    "                        break\n",
    "                else:\n",
    "                    print(\"we already have this one! \")\n",
    "    return taxCal\n"
   ]
  },
  {
   "cell_type": "code",
   "execution_count": 28,
   "metadata": {},
   "outputs": [],
   "source": [
    "from tqdm import tqdm_notebook"
   ]
  },
  {
   "cell_type": "code",
   "execution_count": 29,
   "metadata": {},
   "outputs": [],
   "source": [
    "import itertools"
   ]
  },
  {
   "cell_type": "markdown",
   "metadata": {},
   "source": [
    "Load calibrations"
   ]
  },
  {
   "cell_type": "code",
   "execution_count": 30,
   "metadata": {},
   "outputs": [],
   "source": [
    "calibs={}\n",
    "for line in open('calibrations2.txt'):\n",
    "    sps1,sps2,maxage,minage=line.strip().split('\\t')\n",
    "    sps1,sps2=sps1.split(','),sps2.split(',')\n",
    "    for pair in itertools.product(sps1,sps2):\n",
    "        calibs[pair]=maxage,minage\n",
    "        calibs[pair[::-1] ]=maxage,minage\n"
   ]
  },
  {
   "cell_type": "code",
   "execution_count": 33,
   "metadata": {},
   "outputs": [
    {
     "name": "stdout",
     "output_type": "stream",
     "text": [
      "2250\n"
     ]
    }
   ],
   "source": [
    "ct=0\n",
    "selTrees={}\n",
    "for og,t in rrTrees.items():\n",
    "    if not og in oriRes: continue\n",
    "    if len(oriRes[og])>1:\n",
    "        selTrees[og]=t\n",
    "    #if not 'Deuterostomia' in oriRes[og].values() and len(oriRes[og])>1:\n",
    "        #print(oriRes[og])\n",
    "\n",
    "print(len(selTrees))"
   ]
  },
  {
   "cell_type": "code",
   "execution_count": 34,
   "metadata": {},
   "outputs": [],
   "source": [
    "spTree=PhyloTree(open('deut2.tre').read(), format=1)"
   ]
  },
  {
   "cell_type": "code",
   "execution_count": null,
   "metadata": {},
   "outputs": [],
   "source": [
    "#selTrees['OG_1000'].reconcile(spT)\n",
    "print(selTrees['OG_1000'].write(format=9))\n",
    "t=PhyloTree(selTrees['OG_1000'].write(format=9))\n",
    "t.set_species_naming_function(lambda node: node.name.split(\"_\")[0] )\n",
    "\n",
    "rctree,events=t.reconcile(spTree)"
   ]
  },
  {
   "cell_type": "code",
   "execution_count": 35,
   "metadata": {},
   "outputs": [
    {
     "name": "stderr",
     "output_type": "stream",
     "text": [
      "<ipython-input-35-c0f0d61b38d4>:1: TqdmDeprecationWarning: This function will be removed in tqdm==5.0.0\n",
      "Please use `tqdm.notebook.tqdm` instead of `tqdm.tqdm_notebook`\n",
      "  for og in tqdm_notebook(selTrees):\n"
     ]
    },
    {
     "data": {
      "application/vnd.jupyter.widget-view+json": {
       "model_id": "c78bba7e4e3c4482961ed51defa83c56",
       "version_major": 2,
       "version_minor": 0
      },
      "text/plain": [
       "HBox(children=(FloatProgress(value=0.0, max=2250.0), HTML(value='')))"
      ]
     },
     "metadata": {},
     "output_type": "display_data"
    },
    {
     "name": "stdout",
     "output_type": "stream",
     "text": [
      "\n"
     ]
    }
   ],
   "source": [
    "for og in tqdm_notebook(selTrees):\n",
    "    t=PhyloTree(selTrees[og].write(format=9))\n",
    "    t.set_species_naming_function(lambda node: node.name.split(\"_\")[0] )\n",
    "    try:\n",
    "        rctree,events=t.reconcile(spTree)\n",
    "        tcal=calib(events,calibs,t)\n",
    "        with open('calibrations/{0}.calib'.format(og),'w') as out:\n",
    "            out.write(\"{0}\\n\".format(len(tcal)))\n",
    "            for cl in tcal:\n",
    "                out.write(\"{0}\\n\".format('\\t'.join(cl)))\n",
    "    except:\n",
    "        print(\"problem with\",og)\n",
    "\n",
    "\n",
    "                "
   ]
  },
  {
   "cell_type": "code",
   "execution_count": 95,
   "metadata": {},
   "outputs": [
    {
     "name": "stderr",
     "output_type": "stream",
     "text": [
      "/Users/fmarletaz/miniconda3/envs/py37/lib/python3.7/site-packages/ipykernel_launcher.py:1: TqdmDeprecationWarning: This function will be removed in tqdm==5.0.0\n",
      "Please use `tqdm.notebook.tqdm` instead of `tqdm.tqdm_notebook`\n",
      "  \"\"\"Entry point for launching an IPython kernel.\n"
     ]
    },
    {
     "data": {
      "application/vnd.jupyter.widget-view+json": {
       "model_id": "f0fabe23a6e14add89e61c22ea4f0139",
       "version_major": 2,
       "version_minor": 0
      },
      "text/plain": [
       "HBox(children=(FloatProgress(value=0.0, max=2250.0), HTML(value='')))"
      ]
     },
     "metadata": {},
     "output_type": "display_data"
    },
    {
     "name": "stdout",
     "output_type": "stream",
     "text": [
      "\n"
     ]
    }
   ],
   "source": [
    "for og in tqdm_notebook(selTrees):\n",
    "    PhyloTree(selTrees[og].write(outfile='tree4dating/{0}.tre'.format(og),format=9))"
   ]
  },
  {
   "cell_type": "markdown",
   "metadata": {},
   "source": [
    "# Results of molecular dating "
   ]
  },
  {
   "cell_type": "markdown",
   "metadata": {},
   "source": [
    "To read and interpret the chronograms, we have to activate compute the node age by summing up all the branch length (=time) to the closest lead for each node. Figtree seems to do that automatically, but we need to do it ourselves here!"
   ]
  },
  {
   "cell_type": "code",
   "execution_count": 66,
   "metadata": {},
   "outputs": [],
   "source": [
    "chronos={}\n",
    "chronoGenes={}\n",
    "for l in open('Chronograms_0221_nc.trees'):\n",
    "    o,ts=l.strip().split(':',1) \n",
    "    og=o.replace('_nc_sample.chronogram','')\n",
    "    g2s=defaultdict(list)\n",
    "    t=PhyloTree(ts,format=1,sp_naming_function=lambda x:x.split(\"_\")[0])\n",
    "    for l in t:\n",
    "        sp,gid=l.name.split('_',1)\n",
    "        gid=gid.split('.')[0]\n",
    "        l.add_features(species=sp,gid=gid)\n",
    "        g2s[sp].append(gid)\n",
    "    chronoGenes[og]=g2s\n",
    "    for nd in t.traverse(\"postorder\"):\n",
    "        if not nd.is_leaf():\n",
    "            oneChild=nd.get_closest_leaf(topology_only=False, is_leaf_fn=None)\n",
    "            nd.add_features(age=oneChild[1])\n",
    "    chronos[og]=t\n",
    "\n",
    "           "
   ]
  },
  {
   "cell_type": "code",
   "execution_count": 63,
   "metadata": {},
   "outputs": [
    {
     "name": "stdout",
     "output_type": "stream",
     "text": [
      "2245\n"
     ]
    }
   ],
   "source": [
    "print(len(chronoGenes))"
   ]
  },
  {
   "cell_type": "code",
   "execution_count": null,
   "metadata": {},
   "outputs": [],
   "source": [
    "print(rrTrees['OG_1000'].get_ascii(attributes=[\"species\", \"clade\",\"D\",\"name\"], show_internal=True))"
   ]
  },
  {
   "cell_type": "code",
   "execution_count": 64,
   "metadata": {},
   "outputs": [],
   "source": [
    "def extDup(anDup):\n",
    "    if 'alpha1'  in anDup and 'beta1' in anDup:\n",
    "        anDup['ab1']=anDup['alpha1']+anDup['beta1']\n",
    "    if 'alpha2'  in anDup and 'beta2' in anDup:\n",
    "        anDup['ab2']=anDup['alpha2']+anDup['beta2']\n",
    "    if all(item in [nd[-1] for nd in anDup] for item in ['1','2']):\n",
    "        anDup['12']=list(set(chain(*[anDup[nd] for nd in anDup])))\n",
    "    return anDup"
   ]
  },
  {
   "cell_type": "code",
   "execution_count": 69,
   "metadata": {},
   "outputs": [],
   "source": [
    "ageEvn,CLGs={},{}\n",
    "AnnTet={}\n",
    "n=0\n",
    "for og,t in chronos.items():\n",
    "    #print(og)\n",
    "    tax=[l for l in t if l.species=='Braflo']        \n",
    "    if len(tax)==0: continue\n",
    "    clg,anDup=checkDup(t,spPos)\n",
    "    CLGs[og]=clg\n",
    "    datRes={}\n",
    "    #print(clg)\n",
    "    anDup=extDup(anDup)\n",
    "    #dupnds=t.split_by_dups()\n",
    "    #print(og,clg,anDup)\n",
    "    #if len(clg)>1: continue\n",
    "    tr=rrTrees[og]\n",
    "    \n",
    "    for cdln in dupLfCyc[og]:\n",
    "        txl=set([t.split('_')[0] for t in cdln])\n",
    "        cdns=t.get_common_ancestor(cdln)\n",
    "        cld=spT.get_common_ancestor(txl)\n",
    "        datRes['Cyc_{}'.format(cld.name)]=cdns.age\n",
    "        #datRes['Cyc_{}'.format('.'.join(txl))]=cdns.age\n",
    "        #print('>',og,cdns.age,txl)\n",
    "\n",
    "        #print('>',og,cdns.age,txl) \n",
    "    #for nd in dupnds:\n",
    "    #    print(nd)\n",
    "    for evdp in anDup:\n",
    "        evgn=anDup[evdp]\n",
    "        evsp=set([l.split('_')[0] for l in evgn])\n",
    "        evnd=t.get_common_ancestor(anDup[evdp])\n",
    "        dns=tr.get_common_ancestor(anDup[evdp])\n",
    "        #print(og,evdp,evsp,evgn,dns.D,evnd.age)\n",
    "        #evnd.img_style[\"size\"] = 50\n",
    "        #evnd.img_style[\"fgcolor\"] = col[evdp]\n",
    "        if evdp in ['ab1','ab2','12'] and len(evsp)>1 and dns.D=='Y':\n",
    "            #print(og,evdp,evsp,evgn,evnd.age)\n",
    "            datRes[evdp]=evnd.age\n",
    "    ageEvn[og]=datRes\n",
    "    n+=1\n",
    "    #if n==10: break"
   ]
  },
  {
   "cell_type": "code",
   "execution_count": 193,
   "metadata": {},
   "outputs": [
    {
     "data": {
      "text/plain": [
       "[('Cyc_Letjap.Letrei.Petmar.Eptbur.Parata', 481.7593999999999),\n",
       " ('Cyc_Letjap.Eptbur.Petmar.Parata', 466.3526),\n",
       " ('Cyc_Letjap.Letrei', 174.4184),\n",
       " ('Cyc_Eptbur.Parata', 319.957),\n",
       " ('Cyc_Petmar.Letjap.Letrei', 275.1524)]"
      ]
     },
     "execution_count": 193,
     "metadata": {},
     "output_type": "execute_result"
    }
   ],
   "source": [
    "list(datRes.items())[0:5]"
   ]
  },
  {
   "cell_type": "code",
   "execution_count": 70,
   "metadata": {},
   "outputs": [],
   "source": [
    "n=0\n",
    "cladeAge=defaultdict(list)\n",
    "#iclades=set(['Deuterostomia','Chordata','Vertebrata','Gnathostomata','Cyclostomata','Osteichthyes','Hyperoartia'])\n",
    "for og,t in chronos.items():\n",
    "    #print(og)\n",
    "    tr=rrTrees[og]\n",
    "    for n in tr.search_nodes(D='N'):\n",
    "        if n.is_leaf(): continue\n",
    "        lfs=[lf.name for lf in n]\n",
    "        dn=t.get_common_ancestor(lfs)\n",
    "        if not age(n,spT)=='':\n",
    "            cladeAge[age(n,spT)].append((og,dn.age))\n",
    "            #print(n.name,age(n),dn.age)\n",
    "    "
   ]
  },
  {
   "cell_type": "code",
   "execution_count": 71,
   "metadata": {},
   "outputs": [],
   "source": [
    "def checkGnatho(t,spT):\n",
    "    spCycl=[l.name for l in spT.search_nodes(name=\"Gnathostomata\")[0].get_leaves()]\n",
    "    print(spCycl)\n",
    "    for l in t:\n",
    "        cla='Gnathostomata' if l.species in spCycl else 'Other'\n",
    "        l.add_features(clade=cla)\n",
    "    dec=[]\n",
    "    acd=[]\n",
    "    for st in t.get_monophyletic(values=['Gnathostomata'], target_attr=\"clade\"):\n",
    "        #dupnds=[age(sst) for sst in st.search_nodes(D='Y') if not len(set([l.species for l in sst.get_leaves()]))==1]\n",
    "        dupnds=[sst for sst in st.search_nodes(D='Y') if not len(set([l.species for l in sst.get_leaves()]))==1]\n",
    "        #print(dupnds)\n",
    "        #print(st.get_ascii(attributes=[\"gid\",\"species\", \"clade\",\"D\"], show_internal=True))\n",
    "        #ntrees, ndups, sptrees =  st.get_speciation_trees()\n",
    "        dec.append(len(dupnds))\n",
    "        for nd in dupnds:\n",
    "            acd.append([l.name for l in nd.get_leaves()])\n",
    "        #print(ntrees, ndups)\n",
    "        #for std in sptrees:\n",
    "        #    print(std.get_ascii(attributes=[\"species\", \"clade\"], show_internal=False))\n",
    "    return dec,acd"
   ]
  },
  {
   "cell_type": "code",
   "execution_count": 95,
   "metadata": {},
   "outputs": [
    {
     "name": "stdout",
     "output_type": "stream",
     "text": [
      "\n",
      "                   /-Sackow_Sakowv30045477m, N\n",
      "             /n21, N\n",
      "            |      \\-Ptyfla_pfl_40v0_9_20150316_1g18012, N\n",
      "       /n30, N\n",
      "      |     |            /-Strpur_LOC115919062, N\n",
      "      |     |      /n24, Y\n",
      "      |      \\n27, N     \\-Strpur_LOC579973, N\n",
      "      |           |\n",
      "      |            \\-Acapla_LOC110977617, N\n",
      "      |\n",
      "      |                  /-Braflo_BF14743, N\n",
      "      |            /n69, N\n",
      "-n153, N     /n72, N     \\-Bralan_BL12789, N\n",
      "      |     |     |\n",
      "      |     |      \\-Brabel_230050R, N\n",
      "      |     |\n",
      "      |     |                              /-Xentro_alkbh1, N\n",
      "      |     |                        /n39, N\n",
      "      |     |                       |     |      /-Galgal_ENSGALG00000010485, N\n",
      "      |     |                       |      \\n36, N\n",
      "      |     |                  /n42, N          |      /-Musmus_ENSMUSG00000079036, N\n",
      "      |     |                 |     |            \\n33, N\n",
      "       \\n75, N                |     |                  \\-Homsap_ENSG00000100601, N\n",
      "            |                 |     |\n",
      "            |            /n51, N     \\-Latcha_ENSLACG00000013496, N\n",
      "            |           |     |\n",
      "            |           |     |            /-Danrer_ENSDARG00000071164, N\n",
      "            |           |     |      /n45, N\n",
      "            |      /n57, N     \\n48, N     \\-Orylat_ENSORLG00000010750, N\n",
      "            |     |     |           |\n",
      "            |     |     |            \\-Lepocu_ENSLOCG00000008800, N\n",
      "            |     |     |\n",
      "            |     |     |      /-Chipun_Chipu0014145, N\n",
      "             \\n66, N     \\n54, N\n",
      "                  |            \\-Calmil_SINCAMG00000002225, N\n",
      "                  |\n",
      "                  |            /-Letjap_g14112, N\n",
      "                  |      /n60, N\n",
      "                   \\n63, N     \\-Petmar_PMZ_0041127-RA, N\n",
      "                        |\n",
      "                         \\-Parata_EA11867, N\n"
     ]
    }
   ],
   "source": [
    "print(rrTrees['OG_10507'].get_ascii(attributes=[\"name\", \"D\"], show_internal=True))"
   ]
  },
  {
   "cell_type": "code",
   "execution_count": 72,
   "metadata": {},
   "outputs": [
    {
     "name": "stdout",
     "output_type": "stream",
     "text": [
      "2245\n"
     ]
    }
   ],
   "source": [
    "cladeDup=defaultdict(int)\n",
    "clade='Gnathostomata'\n",
    "clSp=[l.name for l in spT.search_nodes(name=clade)[0].get_leaves()]\n",
    "gnathDup={}\n",
    "gnathAge=[]\n",
    "j=0\n",
    "for og,tc in chronos.items():\n",
    "    try:\n",
    "        if not og in rrTrees: continue\n",
    "        tr=rrTrees[og]\n",
    "        clg,anDup=checkDup(tc,spPos)\n",
    "        gnLf=[l.name for l in tr if l.species in clSp]\n",
    "        if len(gnLf)==0: continue\n",
    "        clAnc=tr.get_common_ancestor(gnLf)\n",
    "        for dn in clAnc.search_nodes(D='Y'):\n",
    "            nsp=len(set([l.species for l in dn.get_leaves()]))\n",
    "            if nsp==1: continue\n",
    "            lfs=[lf.name for lf in dn]\n",
    "            \n",
    "            gnathDup[og]=lfs\n",
    "            dnc=tc.get_common_ancestor(lfs)\n",
    "            gnathAge.append((og,'InGnathostomes',','.join(clg),dnc.age))\n",
    "            #print(age(dn,spT),nsp,dnc.age)\n",
    "            #print(dn.get_ascii(attributes=[\"name\", \"D\"], show_internal=True))\n",
    "    except Exception as ex:\n",
    "        print(og)\n",
    "        print(ex)\n",
    "    \n",
    "    j+=1\n",
    "    #if j==50: break\n",
    "print(j)\n",
    "    \n"
   ]
  },
  {
   "cell_type": "code",
   "execution_count": 75,
   "metadata": {},
   "outputs": [],
   "source": [
    "with open('age_gnathoDup_v5.txt','w') as out:\n",
    "    for r in gnathAge:\n",
    "        out.write('\\t'.join(map(str,r))+'\\n')"
   ]
  },
  {
   "cell_type": "code",
   "execution_count": null,
   "metadata": {},
   "outputs": [],
   "source": [
    "print(list(ageEvn.items())[0:4])\n",
    "print(CLGs['OG_1000'])\n",
    "\n",
    "print(len(ageEvn))"
   ]
  },
  {
   "cell_type": "code",
   "execution_count": 74,
   "metadata": {},
   "outputs": [],
   "source": [
    "with open('ages_clades_v5.txt','w')as oat:\n",
    "    for sp in cladeAge:\n",
    "        for og,age in cladeAge[sp]:\n",
    "            oat.write(\"{}\\t{}\\t{}\\n\".format(og,age,sp))\n",
    "    "
   ]
  },
  {
   "cell_type": "code",
   "execution_count": 73,
   "metadata": {},
   "outputs": [],
   "source": [
    "with open('ages_v5.tsv','w') as out:\n",
    "    for og in ageEvn:\n",
    "        clgs=CLGs[og]\n",
    "        dres=ageEvn[og]\n",
    "        if dres=={}: continue\n",
    "        for ev in dres:\n",
    "            out.write(\"{}\\t{}\\t{}\\t{}\\n\".format(og,ev,','.join(clgs),dres[ev]))"
   ]
  },
  {
   "cell_type": "code",
   "execution_count": 130,
   "metadata": {},
   "outputs": [
    {
     "data": {
      "text/plain": [
       "([0, 0], [])"
      ]
     },
     "execution_count": 130,
     "metadata": {},
     "output_type": "execute_result"
    }
   ],
   "source": [
    "checkCyclo(rrTrees['OG_1000'],spT)"
   ]
  },
  {
   "cell_type": "code",
   "execution_count": 129,
   "metadata": {},
   "outputs": [
    {
     "name": "stdout",
     "output_type": "stream",
     "text": [
      "\n",
      "                            /-N, Strpur_LOC586037\n",
      "                     /Y, n138\n",
      "              /N, n141      \\-N, Strpur_LOC115918720\n",
      "             |      |\n",
      "       /N, n147      \\-N, Acapla_LOC110973119\n",
      "      |      |\n",
      "      |      |       /-N, Sackow_Sakowv30009015m\n",
      "      |       \\N, n144\n",
      "      |              \\-N, Ptyfla_pfl_40v0_9_20150316_1g9723\n",
      "      |\n",
      "      |                            /-N, Bralan_BL10436\n",
      "      |                     /N, n120\n",
      "      |              /N, n123      \\-N, Braflo_BF11510\n",
      "      |             |      |\n",
      "      |             |       \\-N, Brabel_170030F\n",
      "      |       /Y, n132\n",
      "      |      |      |              /-N, Bralan_BL77595\n",
      "-N, n297     |      |       /N, n126\n",
      "      |      |       \\N, n129      \\-N, Braflo_BF11238\n",
      "      |      |             |\n",
      "      |      |              \\-N, Brabel_117710F\n",
      "      |      |\n",
      "      |      |                                                 /-N, Musmus_ENSMUSG00000027247\n",
      "      |      |                                           /N, n39\n",
      "      |      |                                     /N, n42     \\-N, Homsap_ENSG00000175220\n",
      "      |      |                                    |     |\n",
      "      |      |                               /N, n45     \\-N, Galgal_ENSGALG00000042357\n",
      "      |      |                              |     |\n",
      "      |      |                         /N, n48     \\-N, Xentro_arhgap1\n",
      "      |      |                        |     |\n",
      "      |      |                        |      \\-N, Latcha_ENSLACG00000018798\n",
      "       \\N, n135                  /N, n57\n",
      "             |                  |     |            /-N, Danrer_ENSDARG00000024324\n",
      "             |                  |     |      /N, n51\n",
      "             |                  |      \\N, n54     \\-N, Orylat_ENSORLG00000019363\n",
      "             |             /N, n63          |\n",
      "             |            |     |            \\-N, Lepocu_ENSLOCG00000005713\n",
      "             |            |     |\n",
      "             |            |     |      /-N, Chipun_Chipu0016081\n",
      "             |       /N, n75     \\N, n60\n",
      "             |      |     |            \\-N, Calmil_SINCAMG00000000141\n",
      "             |      |     |\n",
      "             |      |     |      /-N, Parata_EA83845\n",
      "             |      |     |     |\n",
      "             |      |      \\N, n72           /-N, Petmar_PMZ_0045257-RA\n",
      "             |      |           |      /Y, n66\n",
      "             |      |            \\N, n69     \\-N, Petmar_PMZ_0045258-RA\n",
      "              \\Y, n117                |\n",
      "                    |                  \\-N, Letjap_g9282\n",
      "                    |\n",
      "                    |              /-N, Parata_EA35138\n",
      "                    |       /N, n111\n",
      "                    |      |      |       /-N, Letjap_g2892\n",
      "                    |      |       \\N, n108\n",
      "                    |      |              \\-N, Petmar_PMZ_0041941-RA\n",
      "                     \\N, n114\n",
      "                           |             /-N, Chipun_Chipu0016476\n",
      "                           |       /N, n78\n",
      "                           |      |      \\-N, Calmil_SINCAMG00000010281\n",
      "                           |      |\n",
      "                            \\N, n105            /-N, Orylat_ENSORLG00000027028\n",
      "                                  |       /N, n81\n",
      "                                  |      |      \\-N, Lepocu_ENSLOCG00000016538\n",
      "                                   \\N, n102\n",
      "                                         |      /-N, Latcha_ENSLACG00000013561\n",
      "                                         |     |\n",
      "                                          \\N, n99     /-N, Xentro_Xetrov90027901m\n",
      "                                               |     |\n",
      "                                                \\N, n96     /-N, Galgal_ENSGALG00000019261\n",
      "                                                     |     |\n",
      "                                                      \\N, n93     /-N, Musmus_ENSMUSG00000078954\n",
      "                                                           |     |\n",
      "                                                            \\N, n90           /-N, Homsap_ENSG00000241484\n",
      "                                                                 |      /Y, n84\n",
      "                                                                  \\Y, n87     \\-N, Homsap_ENSG00000248405\n",
      "                                                                       |\n",
      "                                                                        \\-N, Homsap_ENSG00000186654\n"
     ]
    }
   ],
   "source": [
    "print(rrTrees['OG_1000'].get_ascii(attributes=[\"D\",\"name\",\"Clade\"], show_internal=True))"
   ]
  },
  {
   "cell_type": "markdown",
   "metadata": {},
   "source": [
    "# Checking some genes"
   ]
  },
  {
   "cell_type": "code",
   "execution_count": null,
   "metadata": {},
   "outputs": [],
   "source": [
    "Hsa_id={}"
   ]
  },
  {
   "cell_type": "code",
   "execution_count": 66,
   "metadata": {},
   "outputs": [],
   "source": [
    "Hsa2OG={}\n",
    "for og,t in rrTrees.items():\n",
    "    for n in t.search_nodes(species=\"Homsap\"):\n",
    "        #print(n.name.split('_')[1])\n",
    "        Hsa2OG[n.name.split('_')[1]]=og   "
   ]
  },
  {
   "cell_type": "code",
   "execution_count": 126,
   "metadata": {},
   "outputs": [
    {
     "data": {
      "text/plain": [
       "'OG_10995'"
      ]
     },
     "execution_count": 126,
     "metadata": {},
     "output_type": "execute_result"
    }
   ],
   "source": [
    "Hsa2OG['ENSG00000203883']"
   ]
  },
  {
   "cell_type": "code",
   "execution_count": 123,
   "metadata": {},
   "outputs": [
    {
     "name": "stdout",
     "output_type": "stream",
     "text": [
      "\n",
      "         /-Strpur_LOC593520\n",
      "      /-|\n",
      "     |   \\-Acapla_LOC110978340\n",
      "   /-|\n",
      "  |  |   /-Ptyfla_pfl_40v0_9_20150316_1g912\n",
      "  |   \\-|\n",
      "  |      \\-Sackow_Sakowv30020282m\n",
      "  |\n",
      "  |      /-Brabel_212320R\n",
      "  |   /-|\n",
      "  |  |  |   /-Braflo_BF07649\n",
      "  |  |   \\-|\n",
      "  |  |      \\-Bralan_BL06291\n",
      "  |  |\n",
      "  |  |            /-Letjap_g9933\n",
      "  |  |         /-|\n",
      "  |  |      /-|   \\-Letrei_Hic_chr_22_57\n",
      "  |  |     |  |\n",
      "--|  |     |   \\-Petmar_LOC116941195\n",
      "  |  |     |\n",
      "  |  |     |            /-Danrer_ENSDARG00000025847\n",
      "  |  |     |         /-|\n",
      "  |  |     |        |   \\-Lepocu_ENSLOCG00000018365\n",
      "  |  |     |        |\n",
      "  |  |     |      /-|         /-Musmus_ENSMUSG00000051817\n",
      "  |  |     |     |  |      /-|\n",
      "  |  |     |     |  |   /-|   \\-Homsap_ENSG00000177732\n",
      "  |  |     |     |  |  |  |\n",
      "  |  |   /-|   /-|   \\-|   \\-Galgal_ENSGALG00000035951\n",
      "  |  |  |  |  |  |     |\n",
      "  |  |  |  |  |  |      \\-Latcha_ENSLACG00000007378\n",
      "  |  |  |  |  |  |\n",
      "  |  |  |  |  |  |   /-Chipun_Chipu0009345\n",
      "   \\-|  |  |  |   \\-|\n",
      "     |  |  |  |      \\-Calmil_SINCAMG00000017267\n",
      "     |  |  |  |\n",
      "     |  |  |  |         /-Latcha_ENSLACG00000003899\n",
      "     |  |  |  |        |\n",
      "     |  |  |  |      /-|   /-Xentro_sox4\n",
      "     |  |  |  |     |  |  |\n",
      "     |  |   \\-|     |   \\-|      /-Musmus_ENSMUSG00000076431\n",
      "     |  |     |     |     |   /-|\n",
      "     |  |     |     |      \\-|   \\-Homsap_ENSG00000124766\n",
      "     |  |     |     |        |\n",
      "     |  |     |     |         \\-Galgal_ENSGALG00000036497\n",
      "     |  |     |   /-|\n",
      "     |  |     |  |  |            /-Danrer_ENSDARG00000096389\n",
      "     |  |     |  |  |         /-|\n",
      "     |  |     |  |  |      /-|   \\-Danrer_ENSDARG00000004588\n",
      "     |  |     |  |  |     |  |\n",
      "     |  |     |  |  |   /-|   \\-Orylat_ENSORLG00000029633\n",
      "     |  |     |  |  |  |  |\n",
      "     |  |      \\-|  |  |  |   /-Danrer_ENSDARG00000098834\n",
      "     |  |        |   \\-|   \\-|\n",
      "     |  |        |     |      \\-Orylat_ENSORLG00000005001\n",
      "     |  |        |     |\n",
      "     |  |        |      \\-Lepocu_ENSLOCG00000018338\n",
      "     |  |        |\n",
      "      \\-|        |   /-Chipun_Chipu0007404\n",
      "        |         \\-|\n",
      "        |            \\-Calmil_SINCAMG00000001586\n",
      "        |\n",
      "        |            /-Calmil_SINCAMG00000003709\n",
      "        |         /-|\n",
      "        |        |   \\-Chipun_Chipu0002277\n",
      "        |        |\n",
      "        |        |      /-Latcha_ENSLACG00000014788\n",
      "        |      /-|   /-|\n",
      "        |     |  |  |  |   /-Xentro_sox11\n",
      "        |     |  |  |   \\-|\n",
      "        |     |  |  |     |   /-Musmus_ENSMUSG00000063632\n",
      "        |     |  |  |      \\-|\n",
      "        |     |   \\-|         \\-Homsap_ENSG00000176887\n",
      "        |     |     |\n",
      "        |     |     |         /-Danrer_ENSDARG00000077811\n",
      "        |   /-|     |      /-|\n",
      "        |  |  |     |   /-|   \\-Orylat_ENSORLG00000014996\n",
      "        |  |  |     |  |  |\n",
      "        |  |  |      \\-|   \\-Lepocu_ENSLOCG00000018008\n",
      "        |  |  |        |\n",
      "        |  |  |         \\-Danrer_ENSDARG00000095743\n",
      "        |  |  |\n",
      "        |  |  |      /-Chipun_Chipu0019510\n",
      "        |  |  |   /-|\n",
      "        |  |   \\-|   \\-Chipun_Chipu0022650\n",
      "        |  |     |\n",
      "        |  |      \\-Calmil_SINCAMG00000017527\n",
      "        |  |\n",
      "         \\-|            /-Eptbur_Eptbu0008549\n",
      "           |         /-|\n",
      "           |        |   \\-Parata_EA00086\n",
      "           |      /-|\n",
      "           |     |  |      /-Letjap_g5130\n",
      "           |     |  |   /-|\n",
      "           |     |   \\-|   \\-Letrei_Hic_chr_42_10\n",
      "           |   /-|     |\n",
      "           |  |  |      \\-Petmar_LOC116946540\n",
      "           |  |  |\n",
      "           |  |  |      /-Eptbur_Eptbu0011787\n",
      "           |  |  |   /-|\n",
      "           |  |   \\-|   \\-Parata_EA11528\n",
      "            \\-|     |\n",
      "              |      \\-Petmar_LOC116941789\n",
      "              |\n",
      "              |      /-Eptbur_Eptbu0029048\n",
      "              |   /-|\n",
      "              |  |   \\-Parata_EA43422\n",
      "               \\-|\n",
      "                 |      /-Letjap_g6932\n",
      "                 |   /-|\n",
      "                  \\-|   \\-Letrei_Hic_chr_26_93\n",
      "                    |\n",
      "                     \\-Petmar_LOC116951175\n"
     ]
    }
   ],
   "source": [
    "print(rrTrees['OG_3140'])"
   ]
  }
 ],
 "metadata": {
  "kernelspec": {
   "display_name": "Python 3",
   "language": "python",
   "name": "python3"
  },
  "language_info": {
   "codemirror_mode": {
    "name": "ipython",
    "version": 3
   },
   "file_extension": ".py",
   "mimetype": "text/x-python",
   "name": "python",
   "nbconvert_exporter": "python",
   "pygments_lexer": "ipython3",
   "version": "3.9.9"
  }
 },
 "nbformat": 4,
 "nbformat_minor": 4
}
