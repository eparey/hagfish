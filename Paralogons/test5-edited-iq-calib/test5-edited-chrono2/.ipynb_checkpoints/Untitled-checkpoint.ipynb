{
 "cells": [
  {
   "cell_type": "code",
   "execution_count": 16,
   "metadata": {},
   "outputs": [],
   "source": [
    "import ete3\n",
    "from glob import glob\n",
    "from collections import defaultdict\n",
    "from ete3 import PhyloTree\n",
    "from ete3 import Tree"
   ]
  },
  {
   "cell_type": "code",
   "execution_count": null,
   "metadata": {},
   "outputs": [],
   "source": []
  },
  {
   "cell_type": "code",
   "execution_count": 4,
   "metadata": {},
   "outputs": [
    {
     "name": "stdout",
     "output_type": "stream",
     "text": [
      "CLGE\n",
      "CLGM\n",
      "CLGG\n",
      "CLGO\n",
      "CLGI\n",
      "CLGP\n",
      "CLGK\n",
      "CLGC\n",
      "CLGL\n",
      "CLGD\n",
      "CLGN\n",
      "CLGF\n",
      "CLGQ\n",
      "CLGH\n",
      "CLGB\n",
      "CLGJ\n"
     ]
    }
   ],
   "source": [
    "chronos={}\n",
    "#chronoGenes={}\n",
    "for c in glob(\"*_sample.chronogram\"):\n",
    "    clg=c.split('_')[0]\n",
    "    ts=open(c).readline()\n",
    "    print(clg)\n",
    "    g2s=defaultdict(list)\n",
    "    t=PhyloTree(ts,format=1,sp_naming_function=lambda x:x.split(\"_\")[0])\n",
    "    for l in t:\n",
    "        sp,gid=l.name.split('_',1)\n",
    "        gid=gid.split('.')[0]\n",
    "        l.add_features(species=sp,gid=gid)\n",
    "        g2s[sp].append(gid)\n",
    "    #chronoGenes[og]=g2s\n",
    "    for nd in t.traverse(\"postorder\"):\n",
    "        if not nd.is_leaf():\n",
    "            oneChild=nd.get_closest_leaf(topology_only=False, is_leaf_fn=None)\n",
    "            nd.add_features(age=oneChild[1])\n",
    "    chronos[clg]=t\n"
   ]
  },
  {
   "cell_type": "code",
   "execution_count": 18,
   "metadata": {},
   "outputs": [],
   "source": [
    "sp_tree=PhyloTree(\"((((((Galgal,Xentro)Tetrapoda,Lepocu)Osteoichthyes,Chipun)Gnathostomata,(Petmar,Parata)Cyclostomata)Vertebrata,(Braflo,Bralan)Cephalochordata)Chordata,((Sackow,Ptyfla)Hemichordata,Strpur)Ambulacraria)Deuterostomia;\",format=1)"
   ]
  },
  {
   "cell_type": "code",
   "execution_count": 13,
   "metadata": {},
   "outputs": [],
   "source": [
    "recon_tree, events = t.reconcile(sp_tree)"
   ]
  },
  {
   "cell_type": "code",
   "execution_count": 31,
   "metadata": {},
   "outputs": [],
   "source": [
    "with open('dat_res_clg.txt','w') as out: \n",
    "    for clg,t in chronos.items():\n",
    "        recon_tree, events = t.reconcile(sp_tree)\n",
    "        for ev in events:\n",
    "            if ev.etype == \"D\":\n",
    "                #print ('   PARALOGY RELATIONSHIP:', ','.join(ev.in_seqs), \"<====>\", ','.join(ev.out_seqs))\n",
    "                if len(ev.in_seqs)==1 or len(ev.out_seqs)==1: continue\n",
    "                dn=t.get_common_ancestor(ev.in_seqs+ev.out_seqs)\n",
    "                lb_in,lb_out=set([l.split('_')[-1] for l in ev.in_seqs]),set([l.split('_')[-1] for l in ev.out_seqs])\n",
    "                #print(clg,round(dn.age,1),ev.in_seqs,ev.out_seqs,lb_in,lb_out)\n",
    "                oL=[clg,str(round(dn.age,1)),','.join(lb_in),','.join(lb_out),','.join(ev.in_seqs),','.join(ev.out_seqs)]\n",
    "                out.write('\\t'.join(oL)+'\\n')\n",
    "            if ev.etype == \"S\":\n",
    "                #print('   ORTHOLOGY RELATIONSHIP:', ','.join(ev.in_seqs), \"<====>\", ','.join(ev.out_seqs))\n",
    "                s0,s1=list(set([l.split('_')[0] for l in ev.in_seqs])),list(set([l.split('_')[0] for l in ev.out_seqs]))\n",
    "                sm=sp_tree.get_common_ancestor([s0[0],s1[0]])\n",
    "                dn=t.get_common_ancestor(ev.in_seqs+ev.out_seqs)\n",
    "                out.write('\\t'.join([clg,str(round(dn.age,2)),sm.name,'clade',','.join(ev.in_seqs),','.join(ev.out_seqs)])+'\\n')\n",
    "\n"
   ]
  },
  {
   "cell_type": "code",
   "execution_count": 11,
   "metadata": {},
   "outputs": [
    {
     "name": "stdout",
     "output_type": "stream",
     "text": [
      "\n",
      "      /-Strpur_NA\n",
      "   /-|\n",
      "  |  |   /-Sackow_NA\n",
      "  |   \\-|\n",
      "  |      \\-Ptyfla_NA\n",
      "  |\n",
      "  |         /-Parata_chr10\n",
      "  |        |\n",
      "  |        |         /-Petmar_chrm31\n",
      "  |        |      /-|\n",
      "  |        |     |   \\-Parata_chr14\n",
      "  |      /-|   /-|\n",
      "  |     |  |  |  |   /-Petmar_chrm53\n",
      "  |     |  |  |   \\-|\n",
      "  |     |  |  |     |   /-Petmar_chrm33\n",
      "  |     |  |  |      \\-|\n",
      "  |     |  |  |         \\-Parata_chr1\n",
      "  |     |   \\-|\n",
      "  |     |     |         /-Petmar_chrm6\n",
      "  |     |     |      /-|\n",
      "--|     |     |     |   \\-Parata_chr9\n",
      "  |     |     |   /-|\n",
      "  |     |     |  |  |   /-Petmar_chrm17\n",
      "  |     |     |  |   \\-|\n",
      "  |     |      \\-|      \\-Parata_chr4\n",
      "  |     |        |\n",
      "  |     |        |   /-Lepocu_alpha2\n",
      "  |   /-|        |  |\n",
      "  |  |  |         \\-|      /-Xentro_alpha2\n",
      "  |  |  |           |   /-|\n",
      "  |  |  |            \\-|   \\-Galgal_alpha2\n",
      "  |  |  |              |\n",
      "  |  |  |               \\-Chipun_alpha2\n",
      "  |  |  |\n",
      "  |  |  |      /-Lepocu_alpha1\n",
      "  |  |  |     |\n",
      "  |  |  |     |      /-Xentro_alpha1\n",
      "  |  |  |     |     |\n",
      "  |  |  |   /-|   /-|      /-Xentro_beta2\n",
      "  |  |  |  |  |  |  |   /-|\n",
      "   \\-|  |  |  |  |   \\-|   \\-Petmar_chrm29\n",
      "     |  |  |  |  |     |\n",
      "     |  |  |   \\-|      \\-Lepocu_beta1\n",
      "     |  |  |     |\n",
      "     |   \\-|     |      /-Xentro_beta1\n",
      "     |     |     |   /-|\n",
      "     |     |      \\-|   \\-Galgal_beta1\n",
      "     |     |        |\n",
      "     |     |         \\-Galgal_alpha1\n",
      "     |     |\n",
      "     |      \\-Chipun_alpha1\n",
      "     |\n",
      "     |   /-Bralan_NA\n",
      "      \\-|\n",
      "         \\-Braflo_NA\n"
     ]
    }
   ],
   "source": [
    "print(chronos['CLGA'])"
   ]
  }
 ],
 "metadata": {
  "kernelspec": {
   "display_name": "Python 3",
   "language": "python",
   "name": "python3"
  },
  "language_info": {
   "codemirror_mode": {
    "name": "ipython",
    "version": 3
   },
   "file_extension": ".py",
   "mimetype": "text/x-python",
   "name": "python",
   "nbconvert_exporter": "python",
   "pygments_lexer": "ipython3",
   "version": "3.7.6"
  }
 },
 "nbformat": 4,
 "nbformat_minor": 4
}
