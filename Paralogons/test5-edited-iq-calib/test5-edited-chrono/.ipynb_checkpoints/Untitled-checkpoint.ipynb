{
 "cells": [
  {
   "cell_type": "code",
   "execution_count": 8,
   "metadata": {},
   "outputs": [],
   "source": [
    "import ete3\n",
    "from glob import glob\n",
    "from collections import defaultdict\n",
    "from ete3 import PhyloTree"
   ]
  },
  {
   "cell_type": "code",
   "execution_count": null,
   "metadata": {},
   "outputs": [],
   "source": []
  },
  {
   "cell_type": "code",
   "execution_count": 10,
   "metadata": {},
   "outputs": [
    {
     "name": "stdout",
     "output_type": "stream",
     "text": [
      "CLGA\n",
      "CLGD\n",
      "CLGK\n",
      "CLGN\n",
      "CLGP\n",
      "CLGJ\n",
      "CLGO\n",
      "CLGE\n",
      "CLGQ\n",
      "CLGF\n",
      "CLGC\n",
      "CLGL\n",
      "CLGI\n",
      "CLGM\n",
      "CLGH\n",
      "CLGG\n",
      "CLGB\n"
     ]
    }
   ],
   "source": [
    "chronos={}\n",
    "#chronoGenes={}\n",
    "for c in glob(\"*_sample.chronogram\"):\n",
    "    clg=c.split('_')[0]\n",
    "    ts=open(c).readline()\n",
    "    print(clg)\n",
    "    g2s=defaultdict(list)\n",
    "    t=PhyloTree(ts,format=1,sp_naming_function=lambda x:x.split(\"_\")[0])\n",
    "    for l in t:\n",
    "        sp,gid=l.name.split('_',1)\n",
    "        gid=gid.split('.')[0]\n",
    "        l.add_features(species=sp,gid=gid)\n",
    "        g2s[sp].append(gid)\n",
    "    #chronoGenes[og]=g2s\n",
    "    for nd in t.traverse(\"postorder\"):\n",
    "        if not nd.is_leaf():\n",
    "            oneChild=nd.get_closest_leaf(topology_only=False, is_leaf_fn=None)\n",
    "            nd.add_features(age=oneChild[1])\n",
    "    chronos[clg]=t\n"
   ]
  },
  {
   "cell_type": "code",
   "execution_count": 12,
   "metadata": {},
   "outputs": [],
   "source": [
    "sp_tree=PhyloTree(\"((((((Galgal,Xentro),Lepocu),Chipun),(Petmar,Parata)),(Braflo,Bralan)),((Sackow,Ptyfla),Strpur));\")"
   ]
  },
  {
   "cell_type": "code",
   "execution_count": 13,
   "metadata": {},
   "outputs": [],
   "source": [
    "recon_tree, events = t.reconcile(sp_tree)"
   ]
  },
  {
   "cell_type": "code",
   "execution_count": 36,
   "metadata": {},
   "outputs": [],
   "source": [
    "with open('dat_res_clg.txt','w') as out: \n",
    "    for clg,t in chronos.items():\n",
    "        recon_tree, events = t.reconcile(sp_tree)\n",
    "        for ev in events:\n",
    "            if ev.etype == \"D\":\n",
    "                #print ('   PARALOGY RELATIONSHIP:', ','.join(ev.in_seqs), \"<====>\", ','.join(ev.out_seqs))\n",
    "                if len(ev.in_seqs)==1 or len(ev.out_seqs)==1: continue\n",
    "                dn=t.get_common_ancestor(ev.in_seqs+ev.out_seqs)\n",
    "                lb_in,lb_out=set([l.split('_')[-1] for l in ev.in_seqs]),set([l.split('_')[-1] for l in ev.out_seqs])\n",
    "                #print(clg,round(dn.age,1),ev.in_seqs,ev.out_seqs,lb_in,lb_out)\n",
    "                oL=[clg,str(round(dn.age,1)),','.join(lb_in),','.join(lb_out),','.join(ev.in_seqs),','.join(ev.out_seqs)]\n",
    "                out.write('\\t'.join(oL)+'\\n')\n"
   ]
  },
  {
   "cell_type": "code",
   "execution_count": 11,
   "metadata": {},
   "outputs": [
    {
     "name": "stdout",
     "output_type": "stream",
     "text": [
      "\n",
      "      /-Strpur_NA\n",
      "   /-|\n",
      "  |  |   /-Sackow_NA\n",
      "  |   \\-|\n",
      "  |      \\-Ptyfla_NA\n",
      "  |\n",
      "  |         /-Parata_chr10\n",
      "  |        |\n",
      "  |        |         /-Petmar_chrm31\n",
      "  |        |      /-|\n",
      "  |        |     |   \\-Parata_chr14\n",
      "  |      /-|   /-|\n",
      "  |     |  |  |  |   /-Petmar_chrm53\n",
      "  |     |  |  |   \\-|\n",
      "  |     |  |  |     |   /-Petmar_chrm33\n",
      "  |     |  |  |      \\-|\n",
      "  |     |  |  |         \\-Parata_chr1\n",
      "  |     |   \\-|\n",
      "  |     |     |         /-Petmar_chrm6\n",
      "  |     |     |      /-|\n",
      "--|     |     |     |   \\-Parata_chr9\n",
      "  |     |     |   /-|\n",
      "  |     |     |  |  |   /-Petmar_chrm17\n",
      "  |     |     |  |   \\-|\n",
      "  |     |      \\-|      \\-Parata_chr4\n",
      "  |     |        |\n",
      "  |     |        |   /-Lepocu_alpha2\n",
      "  |   /-|        |  |\n",
      "  |  |  |         \\-|      /-Xentro_alpha2\n",
      "  |  |  |           |   /-|\n",
      "  |  |  |            \\-|   \\-Galgal_alpha2\n",
      "  |  |  |              |\n",
      "  |  |  |               \\-Chipun_alpha2\n",
      "  |  |  |\n",
      "  |  |  |      /-Lepocu_alpha1\n",
      "  |  |  |     |\n",
      "  |  |  |     |      /-Xentro_alpha1\n",
      "  |  |  |     |     |\n",
      "  |  |  |   /-|   /-|      /-Xentro_beta2\n",
      "  |  |  |  |  |  |  |   /-|\n",
      "   \\-|  |  |  |  |   \\-|   \\-Petmar_chrm29\n",
      "     |  |  |  |  |     |\n",
      "     |  |  |   \\-|      \\-Lepocu_beta1\n",
      "     |  |  |     |\n",
      "     |   \\-|     |      /-Xentro_beta1\n",
      "     |     |     |   /-|\n",
      "     |     |      \\-|   \\-Galgal_beta1\n",
      "     |     |        |\n",
      "     |     |         \\-Galgal_alpha1\n",
      "     |     |\n",
      "     |      \\-Chipun_alpha1\n",
      "     |\n",
      "     |   /-Bralan_NA\n",
      "      \\-|\n",
      "         \\-Braflo_NA\n"
     ]
    }
   ],
   "source": [
    "print(chronos['CLGA'])"
   ]
  }
 ],
 "metadata": {
  "kernelspec": {
   "display_name": "Python 3",
   "language": "python",
   "name": "python3"
  },
  "language_info": {
   "codemirror_mode": {
    "name": "ipython",
    "version": 3
   },
   "file_extension": ".py",
   "mimetype": "text/x-python",
   "name": "python",
   "nbconvert_exporter": "python",
   "pygments_lexer": "ipython3",
   "version": "3.7.6"
  }
 },
 "nbformat": 4,
 "nbformat_minor": 4
}
